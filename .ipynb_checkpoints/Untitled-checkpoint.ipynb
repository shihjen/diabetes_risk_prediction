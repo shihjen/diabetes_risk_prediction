{
 "cells": [
  {
   "cell_type": "code",
   "execution_count": 42,
   "id": "e09d80d1-af83-4825-8b6b-806e05b25a94",
   "metadata": {},
   "outputs": [],
   "source": [
    "# import required dependencies\n",
    "import pandas as pd\n",
    "import numpy as np\n",
    "import matplotlib.pyplot as plt\n",
    "import seaborn as sns\n",
    "import plotly.express as px\n",
    "import plotly.colors as pc"
   ]
  },
  {
   "cell_type": "code",
   "execution_count": 68,
   "id": "a195da24-51cc-4f03-ab83-289e47c2ab4d",
   "metadata": {},
   "outputs": [
    {
     "name": "stdout",
     "output_type": "stream",
     "text": [
      "The dataset contains 768 rows and 9 columns.\n",
      "Variables in the dataset: ['Pregnancies' 'Glucose' 'BloodPressure' 'SkinThickness' 'Insulin' 'BMI'\n",
      " 'DiabetesPedigreeFunction' 'Age' 'Outcome']\n"
     ]
    },
    {
     "data": {
      "text/html": [
       "<div>\n",
       "<style scoped>\n",
       "    .dataframe tbody tr th:only-of-type {\n",
       "        vertical-align: middle;\n",
       "    }\n",
       "\n",
       "    .dataframe tbody tr th {\n",
       "        vertical-align: top;\n",
       "    }\n",
       "\n",
       "    .dataframe thead th {\n",
       "        text-align: right;\n",
       "    }\n",
       "</style>\n",
       "<table border=\"1\" class=\"dataframe\">\n",
       "  <thead>\n",
       "    <tr style=\"text-align: right;\">\n",
       "      <th></th>\n",
       "      <th>Pregnancies</th>\n",
       "      <th>Glucose</th>\n",
       "      <th>BloodPressure</th>\n",
       "      <th>SkinThickness</th>\n",
       "      <th>Insulin</th>\n",
       "      <th>BMI</th>\n",
       "      <th>DiabetesPedigreeFunction</th>\n",
       "      <th>Age</th>\n",
       "      <th>Outcome</th>\n",
       "    </tr>\n",
       "  </thead>\n",
       "  <tbody>\n",
       "    <tr>\n",
       "      <th>0</th>\n",
       "      <td>6</td>\n",
       "      <td>148</td>\n",
       "      <td>72</td>\n",
       "      <td>35</td>\n",
       "      <td>0</td>\n",
       "      <td>33.6</td>\n",
       "      <td>0.627</td>\n",
       "      <td>50</td>\n",
       "      <td>1</td>\n",
       "    </tr>\n",
       "    <tr>\n",
       "      <th>1</th>\n",
       "      <td>1</td>\n",
       "      <td>85</td>\n",
       "      <td>66</td>\n",
       "      <td>29</td>\n",
       "      <td>0</td>\n",
       "      <td>26.6</td>\n",
       "      <td>0.351</td>\n",
       "      <td>31</td>\n",
       "      <td>0</td>\n",
       "    </tr>\n",
       "    <tr>\n",
       "      <th>2</th>\n",
       "      <td>8</td>\n",
       "      <td>183</td>\n",
       "      <td>64</td>\n",
       "      <td>0</td>\n",
       "      <td>0</td>\n",
       "      <td>23.3</td>\n",
       "      <td>0.672</td>\n",
       "      <td>32</td>\n",
       "      <td>1</td>\n",
       "    </tr>\n",
       "    <tr>\n",
       "      <th>3</th>\n",
       "      <td>1</td>\n",
       "      <td>89</td>\n",
       "      <td>66</td>\n",
       "      <td>23</td>\n",
       "      <td>94</td>\n",
       "      <td>28.1</td>\n",
       "      <td>0.167</td>\n",
       "      <td>21</td>\n",
       "      <td>0</td>\n",
       "    </tr>\n",
       "    <tr>\n",
       "      <th>4</th>\n",
       "      <td>0</td>\n",
       "      <td>137</td>\n",
       "      <td>40</td>\n",
       "      <td>35</td>\n",
       "      <td>168</td>\n",
       "      <td>43.1</td>\n",
       "      <td>2.288</td>\n",
       "      <td>33</td>\n",
       "      <td>1</td>\n",
       "    </tr>\n",
       "  </tbody>\n",
       "</table>\n",
       "</div>"
      ],
      "text/plain": [
       "   Pregnancies  Glucose  BloodPressure  SkinThickness  Insulin   BMI  \\\n",
       "0            6      148             72             35        0  33.6   \n",
       "1            1       85             66             29        0  26.6   \n",
       "2            8      183             64              0        0  23.3   \n",
       "3            1       89             66             23       94  28.1   \n",
       "4            0      137             40             35      168  43.1   \n",
       "\n",
       "   DiabetesPedigreeFunction  Age  Outcome  \n",
       "0                     0.627   50        1  \n",
       "1                     0.351   31        0  \n",
       "2                     0.672   32        1  \n",
       "3                     0.167   21        0  \n",
       "4                     2.288   33        1  "
      ]
     },
     "metadata": {},
     "output_type": "display_data"
    }
   ],
   "source": [
    "# load the dataset\n",
    "data = pd.read_csv('data/pima_indian_diabetes.csv')\n",
    "\n",
    "# check the dimension of the dataset\n",
    "print('The dataset contains {} rows and {} columns.'.format(data.shape[0], data.shape[1]))\n",
    "\n",
    "# check the variables in the dataset\n",
    "variables = data.columns\n",
    "print('Variables in the dataset:' , variables.values)\n",
    "\n",
    "# view the first 5 rows of the dataset\n",
    "display(data.head())"
   ]
  },
  {
   "cell_type": "code",
   "execution_count": 69,
   "id": "8488f03e-c5a2-4350-bc52-f2aa24261cf3",
   "metadata": {},
   "outputs": [
    {
     "name": "stdout",
     "output_type": "stream",
     "text": [
      "<class 'pandas.core.frame.DataFrame'>\n",
      "RangeIndex: 768 entries, 0 to 767\n",
      "Data columns (total 9 columns):\n",
      " #   Column                    Non-Null Count  Dtype  \n",
      "---  ------                    --------------  -----  \n",
      " 0   Pregnancies               768 non-null    int64  \n",
      " 1   Glucose                   768 non-null    int64  \n",
      " 2   BloodPressure             768 non-null    int64  \n",
      " 3   SkinThickness             768 non-null    int64  \n",
      " 4   Insulin                   768 non-null    int64  \n",
      " 5   BMI                       768 non-null    float64\n",
      " 6   DiabetesPedigreeFunction  768 non-null    float64\n",
      " 7   Age                       768 non-null    int64  \n",
      " 8   Outcome                   768 non-null    int64  \n",
      "dtypes: float64(2), int64(7)\n",
      "memory usage: 54.1 KB\n"
     ]
    }
   ],
   "source": [
    "# summary of the dataset\n",
    "data.info()"
   ]
  },
  {
   "cell_type": "code",
   "execution_count": 70,
   "id": "a53e113e-c253-4b3f-b2cd-91e71f8bb1ff",
   "metadata": {},
   "outputs": [
    {
     "data": {
      "text/plain": [
       "0"
      ]
     },
     "execution_count": 70,
     "metadata": {},
     "output_type": "execute_result"
    }
   ],
   "source": [
    "# check for duplicates reecords in the dataset\n",
    "data.duplicated().sum()"
   ]
  },
  {
   "cell_type": "code",
   "execution_count": 71,
   "id": "bf89f0e0-485e-4355-8521-53a4c11ae97a",
   "metadata": {},
   "outputs": [],
   "source": [
    "# handle the inaccurate data --- physiological data impossible with value of '0'\n",
    "data['Glucose'].replace({0: np.nan}, inplace=True)\n",
    "data['BloodPressure'].replace({0: np.nan}, inplace=True)\n",
    "data['SkinThickness'].replace({0: np.nan}, inplace=True)\n",
    "data['Insulin'].replace({0: np.nan}, inplace=True)\n",
    "data['BMI'].replace({0: np.nan}, inplace=True)"
   ]
  },
  {
   "cell_type": "markdown",
   "id": "c7e036ac-fec9-4e87-b68f-1b95ad32f4b2",
   "metadata": {},
   "source": [
    "### Data Splitting"
   ]
  },
  {
   "cell_type": "code",
   "execution_count": 72,
   "id": "1f4ac1ed-6ac3-4202-8bde-a1f119312d46",
   "metadata": {},
   "outputs": [
    {
     "name": "stdout",
     "output_type": "stream",
     "text": [
      "Dimension of training dataset: (614, 9)\n",
      "Dimension of test dataset: (154, 9)\n"
     ]
    }
   ],
   "source": [
    "# split the dataset into training and test set\n",
    "from sklearn.model_selection import train_test_split\n",
    "\n",
    "train, test = train_test_split(data, test_size=0.2, stratify=data['Outcome'], shuffle=True, random_state=122)\n",
    "\n",
    "# check the dimension of the train and test dataset\n",
    "print('Dimension of training dataset:', train.shape)\n",
    "print('Dimension of test dataset:', test.shape)"
   ]
  },
  {
   "cell_type": "code",
   "execution_count": 161,
   "id": "07a4902d-5ed1-43ac-a515-aa1198a03fe7",
   "metadata": {},
   "outputs": [
    {
     "data": {
      "application/vnd.plotly.v1+json": {
       "config": {
        "plotlyServerURL": "https://plot.ly"
       },
       "data": [
        {
         "domain": {
          "x": [
           0,
           1
          ],
          "y": [
           0,
           1
          ]
         },
         "hovertemplate": "label=%{label}<br>value=%{value}<extra></extra>",
         "labels": [
          "Without diabetes",
          "Diabetes"
         ],
         "legendgroup": "",
         "name": "",
         "showlegend": true,
         "type": "pie",
         "values": [
          400,
          214
         ]
        }
       ],
       "layout": {
        "autosize": true,
        "legend": {
         "tracegroupgap": 0
        },
        "margin": {
         "t": 60
        },
        "piecolorway": [
         "#febc2b",
         "#b93289"
        ],
        "template": {
         "data": {
          "bar": [
           {
            "error_x": {
             "color": "#f2f5fa"
            },
            "error_y": {
             "color": "#f2f5fa"
            },
            "marker": {
             "line": {
              "color": "rgb(17,17,17)",
              "width": 0.5
             },
             "pattern": {
              "fillmode": "overlay",
              "size": 10,
              "solidity": 0.2
             }
            },
            "type": "bar"
           }
          ],
          "barpolar": [
           {
            "marker": {
             "line": {
              "color": "rgb(17,17,17)",
              "width": 0.5
             },
             "pattern": {
              "fillmode": "overlay",
              "size": 10,
              "solidity": 0.2
             }
            },
            "type": "barpolar"
           }
          ],
          "carpet": [
           {
            "aaxis": {
             "endlinecolor": "#A2B1C6",
             "gridcolor": "#506784",
             "linecolor": "#506784",
             "minorgridcolor": "#506784",
             "startlinecolor": "#A2B1C6"
            },
            "baxis": {
             "endlinecolor": "#A2B1C6",
             "gridcolor": "#506784",
             "linecolor": "#506784",
             "minorgridcolor": "#506784",
             "startlinecolor": "#A2B1C6"
            },
            "type": "carpet"
           }
          ],
          "choropleth": [
           {
            "colorbar": {
             "outlinewidth": 0,
             "ticks": ""
            },
            "type": "choropleth"
           }
          ],
          "contour": [
           {
            "colorbar": {
             "outlinewidth": 0,
             "ticks": ""
            },
            "colorscale": [
             [
              0,
              "#0d0887"
             ],
             [
              0.1111111111111111,
              "#46039f"
             ],
             [
              0.2222222222222222,
              "#7201a8"
             ],
             [
              0.3333333333333333,
              "#9c179e"
             ],
             [
              0.4444444444444444,
              "#bd3786"
             ],
             [
              0.5555555555555556,
              "#d8576b"
             ],
             [
              0.6666666666666666,
              "#ed7953"
             ],
             [
              0.7777777777777778,
              "#fb9f3a"
             ],
             [
              0.8888888888888888,
              "#fdca26"
             ],
             [
              1,
              "#f0f921"
             ]
            ],
            "type": "contour"
           }
          ],
          "contourcarpet": [
           {
            "colorbar": {
             "outlinewidth": 0,
             "ticks": ""
            },
            "type": "contourcarpet"
           }
          ],
          "heatmap": [
           {
            "colorbar": {
             "outlinewidth": 0,
             "ticks": ""
            },
            "colorscale": [
             [
              0,
              "#0d0887"
             ],
             [
              0.1111111111111111,
              "#46039f"
             ],
             [
              0.2222222222222222,
              "#7201a8"
             ],
             [
              0.3333333333333333,
              "#9c179e"
             ],
             [
              0.4444444444444444,
              "#bd3786"
             ],
             [
              0.5555555555555556,
              "#d8576b"
             ],
             [
              0.6666666666666666,
              "#ed7953"
             ],
             [
              0.7777777777777778,
              "#fb9f3a"
             ],
             [
              0.8888888888888888,
              "#fdca26"
             ],
             [
              1,
              "#f0f921"
             ]
            ],
            "type": "heatmap"
           }
          ],
          "heatmapgl": [
           {
            "colorbar": {
             "outlinewidth": 0,
             "ticks": ""
            },
            "colorscale": [
             [
              0,
              "#0d0887"
             ],
             [
              0.1111111111111111,
              "#46039f"
             ],
             [
              0.2222222222222222,
              "#7201a8"
             ],
             [
              0.3333333333333333,
              "#9c179e"
             ],
             [
              0.4444444444444444,
              "#bd3786"
             ],
             [
              0.5555555555555556,
              "#d8576b"
             ],
             [
              0.6666666666666666,
              "#ed7953"
             ],
             [
              0.7777777777777778,
              "#fb9f3a"
             ],
             [
              0.8888888888888888,
              "#fdca26"
             ],
             [
              1,
              "#f0f921"
             ]
            ],
            "type": "heatmapgl"
           }
          ],
          "histogram": [
           {
            "marker": {
             "pattern": {
              "fillmode": "overlay",
              "size": 10,
              "solidity": 0.2
             }
            },
            "type": "histogram"
           }
          ],
          "histogram2d": [
           {
            "colorbar": {
             "outlinewidth": 0,
             "ticks": ""
            },
            "colorscale": [
             [
              0,
              "#0d0887"
             ],
             [
              0.1111111111111111,
              "#46039f"
             ],
             [
              0.2222222222222222,
              "#7201a8"
             ],
             [
              0.3333333333333333,
              "#9c179e"
             ],
             [
              0.4444444444444444,
              "#bd3786"
             ],
             [
              0.5555555555555556,
              "#d8576b"
             ],
             [
              0.6666666666666666,
              "#ed7953"
             ],
             [
              0.7777777777777778,
              "#fb9f3a"
             ],
             [
              0.8888888888888888,
              "#fdca26"
             ],
             [
              1,
              "#f0f921"
             ]
            ],
            "type": "histogram2d"
           }
          ],
          "histogram2dcontour": [
           {
            "colorbar": {
             "outlinewidth": 0,
             "ticks": ""
            },
            "colorscale": [
             [
              0,
              "#0d0887"
             ],
             [
              0.1111111111111111,
              "#46039f"
             ],
             [
              0.2222222222222222,
              "#7201a8"
             ],
             [
              0.3333333333333333,
              "#9c179e"
             ],
             [
              0.4444444444444444,
              "#bd3786"
             ],
             [
              0.5555555555555556,
              "#d8576b"
             ],
             [
              0.6666666666666666,
              "#ed7953"
             ],
             [
              0.7777777777777778,
              "#fb9f3a"
             ],
             [
              0.8888888888888888,
              "#fdca26"
             ],
             [
              1,
              "#f0f921"
             ]
            ],
            "type": "histogram2dcontour"
           }
          ],
          "mesh3d": [
           {
            "colorbar": {
             "outlinewidth": 0,
             "ticks": ""
            },
            "type": "mesh3d"
           }
          ],
          "parcoords": [
           {
            "line": {
             "colorbar": {
              "outlinewidth": 0,
              "ticks": ""
             }
            },
            "type": "parcoords"
           }
          ],
          "pie": [
           {
            "automargin": true,
            "type": "pie"
           }
          ],
          "scatter": [
           {
            "marker": {
             "line": {
              "color": "#283442"
             }
            },
            "type": "scatter"
           }
          ],
          "scatter3d": [
           {
            "line": {
             "colorbar": {
              "outlinewidth": 0,
              "ticks": ""
             }
            },
            "marker": {
             "colorbar": {
              "outlinewidth": 0,
              "ticks": ""
             }
            },
            "type": "scatter3d"
           }
          ],
          "scattercarpet": [
           {
            "marker": {
             "colorbar": {
              "outlinewidth": 0,
              "ticks": ""
             }
            },
            "type": "scattercarpet"
           }
          ],
          "scattergeo": [
           {
            "marker": {
             "colorbar": {
              "outlinewidth": 0,
              "ticks": ""
             }
            },
            "type": "scattergeo"
           }
          ],
          "scattergl": [
           {
            "marker": {
             "line": {
              "color": "#283442"
             }
            },
            "type": "scattergl"
           }
          ],
          "scattermapbox": [
           {
            "marker": {
             "colorbar": {
              "outlinewidth": 0,
              "ticks": ""
             }
            },
            "type": "scattermapbox"
           }
          ],
          "scatterpolar": [
           {
            "marker": {
             "colorbar": {
              "outlinewidth": 0,
              "ticks": ""
             }
            },
            "type": "scatterpolar"
           }
          ],
          "scatterpolargl": [
           {
            "marker": {
             "colorbar": {
              "outlinewidth": 0,
              "ticks": ""
             }
            },
            "type": "scatterpolargl"
           }
          ],
          "scatterternary": [
           {
            "marker": {
             "colorbar": {
              "outlinewidth": 0,
              "ticks": ""
             }
            },
            "type": "scatterternary"
           }
          ],
          "surface": [
           {
            "colorbar": {
             "outlinewidth": 0,
             "ticks": ""
            },
            "colorscale": [
             [
              0,
              "#0d0887"
             ],
             [
              0.1111111111111111,
              "#46039f"
             ],
             [
              0.2222222222222222,
              "#7201a8"
             ],
             [
              0.3333333333333333,
              "#9c179e"
             ],
             [
              0.4444444444444444,
              "#bd3786"
             ],
             [
              0.5555555555555556,
              "#d8576b"
             ],
             [
              0.6666666666666666,
              "#ed7953"
             ],
             [
              0.7777777777777778,
              "#fb9f3a"
             ],
             [
              0.8888888888888888,
              "#fdca26"
             ],
             [
              1,
              "#f0f921"
             ]
            ],
            "type": "surface"
           }
          ],
          "table": [
           {
            "cells": {
             "fill": {
              "color": "#506784"
             },
             "line": {
              "color": "rgb(17,17,17)"
             }
            },
            "header": {
             "fill": {
              "color": "#2a3f5f"
             },
             "line": {
              "color": "rgb(17,17,17)"
             }
            },
            "type": "table"
           }
          ]
         },
         "layout": {
          "annotationdefaults": {
           "arrowcolor": "#f2f5fa",
           "arrowhead": 0,
           "arrowwidth": 1
          },
          "autotypenumbers": "strict",
          "coloraxis": {
           "colorbar": {
            "outlinewidth": 0,
            "ticks": ""
           }
          },
          "colorscale": {
           "diverging": [
            [
             0,
             "#8e0152"
            ],
            [
             0.1,
             "#c51b7d"
            ],
            [
             0.2,
             "#de77ae"
            ],
            [
             0.3,
             "#f1b6da"
            ],
            [
             0.4,
             "#fde0ef"
            ],
            [
             0.5,
             "#f7f7f7"
            ],
            [
             0.6,
             "#e6f5d0"
            ],
            [
             0.7,
             "#b8e186"
            ],
            [
             0.8,
             "#7fbc41"
            ],
            [
             0.9,
             "#4d9221"
            ],
            [
             1,
             "#276419"
            ]
           ],
           "sequential": [
            [
             0,
             "#0d0887"
            ],
            [
             0.1111111111111111,
             "#46039f"
            ],
            [
             0.2222222222222222,
             "#7201a8"
            ],
            [
             0.3333333333333333,
             "#9c179e"
            ],
            [
             0.4444444444444444,
             "#bd3786"
            ],
            [
             0.5555555555555556,
             "#d8576b"
            ],
            [
             0.6666666666666666,
             "#ed7953"
            ],
            [
             0.7777777777777778,
             "#fb9f3a"
            ],
            [
             0.8888888888888888,
             "#fdca26"
            ],
            [
             1,
             "#f0f921"
            ]
           ],
           "sequentialminus": [
            [
             0,
             "#0d0887"
            ],
            [
             0.1111111111111111,
             "#46039f"
            ],
            [
             0.2222222222222222,
             "#7201a8"
            ],
            [
             0.3333333333333333,
             "#9c179e"
            ],
            [
             0.4444444444444444,
             "#bd3786"
            ],
            [
             0.5555555555555556,
             "#d8576b"
            ],
            [
             0.6666666666666666,
             "#ed7953"
            ],
            [
             0.7777777777777778,
             "#fb9f3a"
            ],
            [
             0.8888888888888888,
             "#fdca26"
            ],
            [
             1,
             "#f0f921"
            ]
           ]
          },
          "colorway": [
           "#636efa",
           "#EF553B",
           "#00cc96",
           "#ab63fa",
           "#FFA15A",
           "#19d3f3",
           "#FF6692",
           "#B6E880",
           "#FF97FF",
           "#FECB52"
          ],
          "font": {
           "color": "#f2f5fa"
          },
          "geo": {
           "bgcolor": "rgb(17,17,17)",
           "lakecolor": "rgb(17,17,17)",
           "landcolor": "rgb(17,17,17)",
           "showlakes": true,
           "showland": true,
           "subunitcolor": "#506784"
          },
          "hoverlabel": {
           "align": "left"
          },
          "hovermode": "closest",
          "mapbox": {
           "style": "dark"
          },
          "paper_bgcolor": "rgb(17,17,17)",
          "plot_bgcolor": "rgb(17,17,17)",
          "polar": {
           "angularaxis": {
            "gridcolor": "#506784",
            "linecolor": "#506784",
            "ticks": ""
           },
           "bgcolor": "rgb(17,17,17)",
           "radialaxis": {
            "gridcolor": "#506784",
            "linecolor": "#506784",
            "ticks": ""
           }
          },
          "scene": {
           "xaxis": {
            "backgroundcolor": "rgb(17,17,17)",
            "gridcolor": "#506784",
            "gridwidth": 2,
            "linecolor": "#506784",
            "showbackground": true,
            "ticks": "",
            "zerolinecolor": "#C8D4E3"
           },
           "yaxis": {
            "backgroundcolor": "rgb(17,17,17)",
            "gridcolor": "#506784",
            "gridwidth": 2,
            "linecolor": "#506784",
            "showbackground": true,
            "ticks": "",
            "zerolinecolor": "#C8D4E3"
           },
           "zaxis": {
            "backgroundcolor": "rgb(17,17,17)",
            "gridcolor": "#506784",
            "gridwidth": 2,
            "linecolor": "#506784",
            "showbackground": true,
            "ticks": "",
            "zerolinecolor": "#C8D4E3"
           }
          },
          "shapedefaults": {
           "line": {
            "color": "#f2f5fa"
           }
          },
          "sliderdefaults": {
           "bgcolor": "#C8D4E3",
           "bordercolor": "rgb(17,17,17)",
           "borderwidth": 1,
           "tickwidth": 0
          },
          "ternary": {
           "aaxis": {
            "gridcolor": "#506784",
            "linecolor": "#506784",
            "ticks": ""
           },
           "baxis": {
            "gridcolor": "#506784",
            "linecolor": "#506784",
            "ticks": ""
           },
           "bgcolor": "rgb(17,17,17)",
           "caxis": {
            "gridcolor": "#506784",
            "linecolor": "#506784",
            "ticks": ""
           }
          },
          "title": {
           "x": 0.05
          },
          "updatemenudefaults": {
           "bgcolor": "#506784",
           "borderwidth": 0
          },
          "xaxis": {
           "automargin": true,
           "gridcolor": "#283442",
           "linecolor": "#506784",
           "ticks": "",
           "title": {
            "standoff": 15
           },
           "zerolinecolor": "#283442",
           "zerolinewidth": 2
          },
          "yaxis": {
           "automargin": true,
           "gridcolor": "#283442",
           "linecolor": "#506784",
           "ticks": "",
           "title": {
            "standoff": 15
           },
           "zerolinecolor": "#283442",
           "zerolinewidth": 2
          }
         }
        }
       }
      },
      "image/png": "[encoded data removed]",
      "text/html": [
       "<div>                            <div id=\"d47db6c2-3f17-4306-9b00-0a04c654769f\" class=\"plotly-graph-div\" style=\"height:600px; width:100%;\"></div>            <script type=\"text/javascript\">                require([\"plotly\"], function(Plotly) {                    window.PLOTLYENV=window.PLOTLYENV || {};                                    if (document.getElementById(\"d47db6c2-3f17-4306-9b00-0a04c654769f\")) {                    Plotly.newPlot(                        \"d47db6c2-3f17-4306-9b00-0a04c654769f\",                        [{\"domain\":{\"x\":[0.0,1.0],\"y\":[0.0,1.0]},\"hovertemplate\":\"label=%{label}<br>value=%{value}<extra></extra>\",\"labels\":[\"Without diabetes\",\"Diabetes\"],\"legendgroup\":\"\",\"name\":\"\",\"showlegend\":true,\"values\":[400,214],\"type\":\"pie\"}],                        {\"template\":{\"data\":{\"barpolar\":[{\"marker\":{\"line\":{\"color\":\"rgb(17,17,17)\",\"width\":0.5},\"pattern\":{\"fillmode\":\"overlay\",\"size\":10,\"solidity\":0.2}},\"type\":\"barpolar\"}],\"bar\":[{\"error_x\":{\"color\":\"#f2f5fa\"},\"error_y\":{\"color\":\"#f2f5fa\"},\"marker\":{\"line\":{\"color\":\"rgb(17,17,17)\",\"width\":0.5},\"pattern\":{\"fillmode\":\"overlay\",\"size\":10,\"solidity\":0.2}},\"type\":\"bar\"}],\"carpet\":[{\"aaxis\":{\"endlinecolor\":\"#A2B1C6\",\"gridcolor\":\"#506784\",\"linecolor\":\"#506784\",\"minorgridcolor\":\"#506784\",\"startlinecolor\":\"#A2B1C6\"},\"baxis\":{\"endlinecolor\":\"#A2B1C6\",\"gridcolor\":\"#506784\",\"linecolor\":\"#506784\",\"minorgridcolor\":\"#506784\",\"startlinecolor\":\"#A2B1C6\"},\"type\":\"carpet\"}],\"choropleth\":[{\"colorbar\":{\"outlinewidth\":0,\"ticks\":\"\"},\"type\":\"choropleth\"}],\"contourcarpet\":[{\"colorbar\":{\"outlinewidth\":0,\"ticks\":\"\"},\"type\":\"contourcarpet\"}],\"contour\":[{\"colorbar\":{\"outlinewidth\":0,\"ticks\":\"\"},\"colorscale\":[[0.0,\"#0d0887\"],[0.1111111111111111,\"#46039f\"],[0.2222222222222222,\"#7201a8\"],[0.3333333333333333,\"#9c179e\"],[0.4444444444444444,\"#bd3786\"],[0.5555555555555556,\"#d8576b\"],[0.6666666666666666,\"#ed7953\"],[0.7777777777777778,\"#fb9f3a\"],[0.8888888888888888,\"#fdca26\"],[1.0,\"#f0f921\"]],\"type\":\"contour\"}],\"heatmapgl\":[{\"colorbar\":{\"outlinewidth\":0,\"ticks\":\"\"},\"colorscale\":[[0.0,\"#0d0887\"],[0.1111111111111111,\"#46039f\"],[0.2222222222222222,\"#7201a8\"],[0.3333333333333333,\"#9c179e\"],[0.4444444444444444,\"#bd3786\"],[0.5555555555555556,\"#d8576b\"],[0.6666666666666666,\"#ed7953\"],[0.7777777777777778,\"#fb9f3a\"],[0.8888888888888888,\"#fdca26\"],[1.0,\"#f0f921\"]],\"type\":\"heatmapgl\"}],\"heatmap\":[{\"colorbar\":{\"outlinewidth\":0,\"ticks\":\"\"},\"colorscale\":[[0.0,\"#0d0887\"],[0.1111111111111111,\"#46039f\"],[0.2222222222222222,\"#7201a8\"],[0.3333333333333333,\"#9c179e\"],[0.4444444444444444,\"#bd3786\"],[0.5555555555555556,\"#d8576b\"],[0.6666666666666666,\"#ed7953\"],[0.7777777777777778,\"#fb9f3a\"],[0.8888888888888888,\"#fdca26\"],[1.0,\"#f0f921\"]],\"type\":\"heatmap\"}],\"histogram2dcontour\":[{\"colorbar\":{\"outlinewidth\":0,\"ticks\":\"\"},\"colorscale\":[[0.0,\"#0d0887\"],[0.1111111111111111,\"#46039f\"],[0.2222222222222222,\"#7201a8\"],[0.3333333333333333,\"#9c179e\"],[0.4444444444444444,\"#bd3786\"],[0.5555555555555556,\"#d8576b\"],[0.6666666666666666,\"#ed7953\"],[0.7777777777777778,\"#fb9f3a\"],[0.8888888888888888,\"#fdca26\"],[1.0,\"#f0f921\"]],\"type\":\"histogram2dcontour\"}],\"histogram2d\":[{\"colorbar\":{\"outlinewidth\":0,\"ticks\":\"\"},\"colorscale\":[[0.0,\"#0d0887\"],[0.1111111111111111,\"#46039f\"],[0.2222222222222222,\"#7201a8\"],[0.3333333333333333,\"#9c179e\"],[0.4444444444444444,\"#bd3786\"],[0.5555555555555556,\"#d8576b\"],[0.6666666666666666,\"#ed7953\"],[0.7777777777777778,\"#fb9f3a\"],[0.8888888888888888,\"#fdca26\"],[1.0,\"#f0f921\"]],\"type\":\"histogram2d\"}],\"histogram\":[{\"marker\":{\"pattern\":{\"fillmode\":\"overlay\",\"size\":10,\"solidity\":0.2}},\"type\":\"histogram\"}],\"mesh3d\":[{\"colorbar\":{\"outlinewidth\":0,\"ticks\":\"\"},\"type\":\"mesh3d\"}],\"parcoords\":[{\"line\":{\"colorbar\":{\"outlinewidth\":0,\"ticks\":\"\"}},\"type\":\"parcoords\"}],\"pie\":[{\"automargin\":true,\"type\":\"pie\"}],\"scatter3d\":[{\"line\":{\"colorbar\":{\"outlinewidth\":0,\"ticks\":\"\"}},\"marker\":{\"colorbar\":{\"outlinewidth\":0,\"ticks\":\"\"}},\"type\":\"scatter3d\"}],\"scattercarpet\":[{\"marker\":{\"colorbar\":{\"outlinewidth\":0,\"ticks\":\"\"}},\"type\":\"scattercarpet\"}],\"scattergeo\":[{\"marker\":{\"colorbar\":{\"outlinewidth\":0,\"ticks\":\"\"}},\"type\":\"scattergeo\"}],\"scattergl\":[{\"marker\":{\"line\":{\"color\":\"#283442\"}},\"type\":\"scattergl\"}],\"scattermapbox\":[{\"marker\":{\"colorbar\":{\"outlinewidth\":0,\"ticks\":\"\"}},\"type\":\"scattermapbox\"}],\"scatterpolargl\":[{\"marker\":{\"colorbar\":{\"outlinewidth\":0,\"ticks\":\"\"}},\"type\":\"scatterpolargl\"}],\"scatterpolar\":[{\"marker\":{\"colorbar\":{\"outlinewidth\":0,\"ticks\":\"\"}},\"type\":\"scatterpolar\"}],\"scatter\":[{\"marker\":{\"line\":{\"color\":\"#283442\"}},\"type\":\"scatter\"}],\"scatterternary\":[{\"marker\":{\"colorbar\":{\"outlinewidth\":0,\"ticks\":\"\"}},\"type\":\"scatterternary\"}],\"surface\":[{\"colorbar\":{\"outlinewidth\":0,\"ticks\":\"\"},\"colorscale\":[[0.0,\"#0d0887\"],[0.1111111111111111,\"#46039f\"],[0.2222222222222222,\"#7201a8\"],[0.3333333333333333,\"#9c179e\"],[0.4444444444444444,\"#bd3786\"],[0.5555555555555556,\"#d8576b\"],[0.6666666666666666,\"#ed7953\"],[0.7777777777777778,\"#fb9f3a\"],[0.8888888888888888,\"#fdca26\"],[1.0,\"#f0f921\"]],\"type\":\"surface\"}],\"table\":[{\"cells\":{\"fill\":{\"color\":\"#506784\"},\"line\":{\"color\":\"rgb(17,17,17)\"}},\"header\":{\"fill\":{\"color\":\"#2a3f5f\"},\"line\":{\"color\":\"rgb(17,17,17)\"}},\"type\":\"table\"}]},\"layout\":{\"annotationdefaults\":{\"arrowcolor\":\"#f2f5fa\",\"arrowhead\":0,\"arrowwidth\":1},\"autotypenumbers\":\"strict\",\"coloraxis\":{\"colorbar\":{\"outlinewidth\":0,\"ticks\":\"\"}},\"colorscale\":{\"diverging\":[[0,\"#8e0152\"],[0.1,\"#c51b7d\"],[0.2,\"#de77ae\"],[0.3,\"#f1b6da\"],[0.4,\"#fde0ef\"],[0.5,\"#f7f7f7\"],[0.6,\"#e6f5d0\"],[0.7,\"#b8e186\"],[0.8,\"#7fbc41\"],[0.9,\"#4d9221\"],[1,\"#276419\"]],\"sequential\":[[0.0,\"#0d0887\"],[0.1111111111111111,\"#46039f\"],[0.2222222222222222,\"#7201a8\"],[0.3333333333333333,\"#9c179e\"],[0.4444444444444444,\"#bd3786\"],[0.5555555555555556,\"#d8576b\"],[0.6666666666666666,\"#ed7953\"],[0.7777777777777778,\"#fb9f3a\"],[0.8888888888888888,\"#fdca26\"],[1.0,\"#f0f921\"]],\"sequentialminus\":[[0.0,\"#0d0887\"],[0.1111111111111111,\"#46039f\"],[0.2222222222222222,\"#7201a8\"],[0.3333333333333333,\"#9c179e\"],[0.4444444444444444,\"#bd3786\"],[0.5555555555555556,\"#d8576b\"],[0.6666666666666666,\"#ed7953\"],[0.7777777777777778,\"#fb9f3a\"],[0.8888888888888888,\"#fdca26\"],[1.0,\"#f0f921\"]]},\"colorway\":[\"#636efa\",\"#EF553B\",\"#00cc96\",\"#ab63fa\",\"#FFA15A\",\"#19d3f3\",\"#FF6692\",\"#B6E880\",\"#FF97FF\",\"#FECB52\"],\"font\":{\"color\":\"#f2f5fa\"},\"geo\":{\"bgcolor\":\"rgb(17,17,17)\",\"lakecolor\":\"rgb(17,17,17)\",\"landcolor\":\"rgb(17,17,17)\",\"showlakes\":true,\"showland\":true,\"subunitcolor\":\"#506784\"},\"hoverlabel\":{\"align\":\"left\"},\"hovermode\":\"closest\",\"mapbox\":{\"style\":\"dark\"},\"paper_bgcolor\":\"rgb(17,17,17)\",\"plot_bgcolor\":\"rgb(17,17,17)\",\"polar\":{\"angularaxis\":{\"gridcolor\":\"#506784\",\"linecolor\":\"#506784\",\"ticks\":\"\"},\"bgcolor\":\"rgb(17,17,17)\",\"radialaxis\":{\"gridcolor\":\"#506784\",\"linecolor\":\"#506784\",\"ticks\":\"\"}},\"scene\":{\"xaxis\":{\"backgroundcolor\":\"rgb(17,17,17)\",\"gridcolor\":\"#506784\",\"gridwidth\":2,\"linecolor\":\"#506784\",\"showbackground\":true,\"ticks\":\"\",\"zerolinecolor\":\"#C8D4E3\"},\"yaxis\":{\"backgroundcolor\":\"rgb(17,17,17)\",\"gridcolor\":\"#506784\",\"gridwidth\":2,\"linecolor\":\"#506784\",\"showbackground\":true,\"ticks\":\"\",\"zerolinecolor\":\"#C8D4E3\"},\"zaxis\":{\"backgroundcolor\":\"rgb(17,17,17)\",\"gridcolor\":\"#506784\",\"gridwidth\":2,\"linecolor\":\"#506784\",\"showbackground\":true,\"ticks\":\"\",\"zerolinecolor\":\"#C8D4E3\"}},\"shapedefaults\":{\"line\":{\"color\":\"#f2f5fa\"}},\"sliderdefaults\":{\"bgcolor\":\"#C8D4E3\",\"bordercolor\":\"rgb(17,17,17)\",\"borderwidth\":1,\"tickwidth\":0},\"ternary\":{\"aaxis\":{\"gridcolor\":\"#506784\",\"linecolor\":\"#506784\",\"ticks\":\"\"},\"baxis\":{\"gridcolor\":\"#506784\",\"linecolor\":\"#506784\",\"ticks\":\"\"},\"bgcolor\":\"rgb(17,17,17)\",\"caxis\":{\"gridcolor\":\"#506784\",\"linecolor\":\"#506784\",\"ticks\":\"\"}},\"title\":{\"x\":0.05},\"updatemenudefaults\":{\"bgcolor\":\"#506784\",\"borderwidth\":0},\"xaxis\":{\"automargin\":true,\"gridcolor\":\"#283442\",\"linecolor\":\"#506784\",\"ticks\":\"\",\"title\":{\"standoff\":15},\"zerolinecolor\":\"#283442\",\"zerolinewidth\":2},\"yaxis\":{\"automargin\":true,\"gridcolor\":\"#283442\",\"linecolor\":\"#506784\",\"ticks\":\"\",\"title\":{\"standoff\":15},\"zerolinecolor\":\"#283442\",\"zerolinewidth\":2}}},\"legend\":{\"tracegroupgap\":0},\"margin\":{\"t\":60},\"piecolorway\":[\"#febc2b\",\"#b93289\"],\"height\":600},                        {\"responsive\": true}                    ).then(function(){\n",
       "                            \n",
       "var gd = document.getElementById('d47db6c2-3f17-4306-9b00-0a04c654769f');\n",
       "var x = new MutationObserver(function (mutations, observer) {{\n",
       "        var display = window.getComputedStyle(gd).display;\n",
       "        if (!display || display === 'none') {{\n",
       "            console.log([gd, 'removed!']);\n",
       "            Plotly.purge(gd);\n",
       "            observer.disconnect();\n",
       "        }}\n",
       "}});\n",
       "\n",
       "// Listen for the removal of the full notebook cells\n",
       "var notebookContainer = gd.closest('#notebook-container');\n",
       "if (notebookContainer) {{\n",
       "    x.observe(notebookContainer, {childList: true});\n",
       "}}\n",
       "\n",
       "// Listen for the clearing of the current output cell\n",
       "var outputEl = gd.closest('.output');\n",
       "if (outputEl) {{\n",
       "    x.observe(outputEl, {childList: true});\n",
       "}}\n",
       "\n",
       "                        })                };                });            </script>        </div>"
      ]
     },
     "metadata": {},
     "output_type": "display_data"
    }
   ],
   "source": [
    "custom_colors = [(254,188,43), (185,50,137)]\n",
    "hex_colors = ['#%02x%02x%02x' % rgb for rgb in custom_colors]\n",
    "\n",
    "outcome = train['Outcome'].value_counts()\n",
    "fig = px.pie(outcome, values=outcome.values, names=['Without diabetes', 'Diabetes'], color_discrete_sequence=hex_colors, height=600)\n",
    "fig.update_layout(template='plotly_dark')\n",
    "fig.show()"
   ]
  },
  {
   "cell_type": "code",
   "execution_count": 150,
   "id": "f3b333f0-4043-42d4-bf12-d8be5979f9ab",
   "metadata": {},
   "outputs": [],
   "source": [
    "pregnancies = {'Pregnancies': 'Number of Pregnancies'}\n",
    "glucose = {'Glucose': 'Blood Glucose Concentration'}\n",
    "blood_pressure = {'BloodPressure': 'Blood Pressure'}\n",
    "skin_thickness = {'SkinThickness': 'Skin Thickness'}\n",
    "insulin = {'Insulin': 'Insulin Level'}\n",
    "bmi = {'BMI': 'Body Mass Index'}\n",
    "dpf = {'DiabetesPedigreeFunction': 'Diabetes Pedigree Function'}\n",
    "age = {'Age': 'Patient Age'}\n",
    "\n",
    "option = {'Pregnancies': pregnancies,\n",
    "          'Glucose': glucose,\n",
    "          'Blood Pressure': blood_pressure,\n",
    "          'Skin Thickness': skin_thickness,\n",
    "          'Insulin Level': insulin,\n",
    "          'BMI': bmi,\n",
    "          'Diabetes Pedigree Function': dpf,\n",
    "          'Patient Age': age}"
   ]
  },
  {
   "cell_type": "code",
   "execution_count": 114,
   "id": "d11ac017-c739-4174-8865-d54504762311",
   "metadata": {},
   "outputs": [],
   "source": [
    "def plot_histogram(var):\n",
    "    for k,v in var.items():\n",
    "        fig = px.histogram(train, x=k, height=600, nbins=50, title=f'Distribution of {v}')\n",
    "        fig.update_layout(xaxis_title=v, yaxis_title='Frequency', margin=dict(l=50, r=50, t=50, b=50))\n",
    "        fig.update_layout(template='plotly_dark', xaxis=dict(showticklabels=False))\n",
    "        fig.update_traces(hovertemplate=f'{v}: %{{x}}<br>Frequency: %{{y}}')\n",
    "        fig.show()"
   ]
  },
  {
   "cell_type": "code",
   "execution_count": 288,
   "id": "db5ae521-7f1b-421c-b1ba-fdfb70785522",
   "metadata": {},
   "outputs": [],
   "source": [
    "colors = ['#FCA636FF','#C0369D']\n",
    "labels = ['Without Diabetets','Diabetes']\n",
    "\n",
    "def compare_groups(var):\n",
    "    # visualization\n",
    "    for k,v in var.items():\n",
    "        figure, axes = plt.subplots(1,2, figsize=(15,5), gridspec_kw={'width_ratios':[1.5,1]})\n",
    "        # Set figure and axes background colors\n",
    "        #figure.patch.set_facecolor('black')\n",
    "        #axes[0].patch.set_facecolor('black')\n",
    "        #axes[1].patch.set_facecolor('black')\n",
    "        \n",
    "        sns.histplot(data=train, x=train[k], hue=train['Outcome'], kde=True, ax=axes[0], palette=colors)\n",
    "        axes[0].set_xlabel('Frequency')\n",
    "        axes[0].legend(labels=['Diabetes','Without Diabetes'])\n",
    "        sns.boxplot(data=train, x=train['Outcome'], y=train[k], ax=axes[1], palette=colors)\n",
    "        axes[1].set_xticks([0,1],labels)\n",
    "        axes[1].set_xlabel(' ')\n",
    "        #axes[1].grid(alpha=0.4)\n",
    "        figure.suptitle(f'Distribution of {v} between Patients with and without Diabetes', fontsize=15)\n",
    "        plt.tight_layout(pad=1)\n",
    "        plt.show()"
   ]
  },
  {
   "cell_type": "code",
   "execution_count": 149,
   "id": "16903df2-cb50-44e7-87b4-fa7ebd732ea7",
   "metadata": {},
   "outputs": [
    {
     "data": {
      "image/png": "[encoded data removed]",
      "text/plain": [
       "<Figure size 432x288 with 1 Axes>"
      ]
     },
     "metadata": {},
     "output_type": "display_data"
    }
   ],
   "source": [
    "correlation = train[list(train.columns[:-1])].corr()\n",
    "\n",
    "sns.set_style('dark')\n",
    "heatmap = sns.heatmap(correlation, annot=True, cbar=False, cmap='plasma', xticklabels=option.keys(), yticklabels=option.keys())\n",
    "heatmap.tick_params(axis='x', labelsize=8)  # adjust x-axis tick label font size\n",
    "heatmap.tick_params(axis='y', labelsize=8)\n",
    "plt.show()"
   ]
  },
  {
   "cell_type": "code",
   "execution_count": 303,
   "id": "ab63f949-dc50-427b-a8d5-afa68e18c0d6",
   "metadata": {},
   "outputs": [],
   "source": [
    "def plot_scatter(x,y):\n",
    "    fig = px.scatter(train, x=x, y=y, color='Outcome', height=600)\n",
    "    fig.update_layout(template='plotly_dark')\n",
    "    fig.show()"
   ]
  },
  {
   "cell_type": "code",
   "execution_count": 233,
   "id": "19058455-1661-4444-b6b6-50258ef23822",
   "metadata": {},
   "outputs": [],
   "source": [
    "from scipy.stats import ttest_ind\n",
    "\n",
    "# perform Mann-Whitney U test\n",
    "def mwu_test(feature):\n",
    "    data_copy = data[~data[feature].isna()]\n",
    "    group_data = data_copy.groupby('Outcome')\n",
    "    diabetes = group_data.get_group(1)\n",
    "    no_diabetes = group_data.get_group(0)\n",
    "    res = ttest_ind(diabetes[feature], no_diabetes[feature])\n",
    "    test_stat = round(res[0], 4)\n",
    "    pvalue = round(res[1], 4)\n",
    "    return test_stat, pvalue"
   ]
  },
  {
   "cell_type": "code",
   "execution_count": 314,
   "id": "9c2779ee-798b-4b7a-a6c2-ad20d9c61cd0",
   "metadata": {},
   "outputs": [],
   "source": [
    "group_data = data.groupby('Outcome')\n",
    "diabetes = group_data.get_group(1)\n",
    "no_diabetes = group_data.get_group(0)\n",
    "\n",
    "var_range_diabetes = []\n",
    "var_range_nodiabetes = []\n",
    "test_stat_list = []\n",
    "pvalue_list = []\n",
    "\n",
    "for var in list(train.columns[:-1]):\n",
    "    info_diabetes = str(round(diabetes[var].median(),2)) + ' ' + '[' + str(round(diabetes[var].quantile(0.25),2)) + '-' + str(round(diabetes[var].quantile(0.75),2)) + ']'\n",
    "    info_nodiabetes = str(round(no_diabetes[var].median(),2)) + ' ' + '[' + str(round(no_diabetes[var].quantile(0.25),2)) + '-' + str(round(no_diabetes[var].quantile(0.75),2)) + ']'\n",
    "    test_stat, pvalue = mwu_test(var)\n",
    "    test_stat_list.append(test_stat)\n",
    "    pvalue_list.append(pvalue)\n",
    "    var_range_diabetes.append(info_diabetes)\n",
    "    var_range_nodiabetes.append(info_nodiabetes)"
   ]
  },
  {
   "cell_type": "code",
   "execution_count": 315,
   "id": "c93c0f04-6ce2-4f53-9314-da2b72cbd6d6",
   "metadata": {},
   "outputs": [],
   "source": [
    "summary_stat = pd.DataFrame([train.columns[:-1], var_range_nodiabetes, var_range_diabetes, test_stat_list, pvalue_list]).T\n",
    "summary_stat.columns = ['Variable', 'No Diabetic Group', 'Diabetic Group', 'T-test Statistic', 'p-value']\n",
    "summary_stat.to_csv('data/summary_stat.csv', index=False)"
   ]
  },
  {
   "cell_type": "markdown",
   "id": "612e1754-b2be-400a-979e-3b83dd53d86f",
   "metadata": {},
   "source": [
    "### Data Preprocessing"
   ]
  },
  {
   "cell_type": "code",
   "execution_count": 317,
   "id": "9470e830-e690-46e0-b2af-4d400034adcb",
   "metadata": {},
   "outputs": [],
   "source": [
    "# segregate the feature matrix and target vector from train and test dataset\n",
    "Xtrain = train.drop(columns=['Outcome'])\n",
    "ytrain = train['Outcome']\n",
    "\n",
    "Xtest = test.drop(columns=['Outcome'])\n",
    "ytest = test['Outcome']"
   ]
  },
  {
   "cell_type": "code",
   "execution_count": 613,
   "id": "bec49b08-ee96-47a8-984e-8a35652846a9",
   "metadata": {},
   "outputs": [],
   "source": [
    "from sklearn.preprocessing import RobustScaler\n",
    "\n",
    "scaler = RobustScaler()\n",
    "Xtrain_scaled = scaler.fit_transform(Xtrain)\n",
    "Xtest_scaled = scaler.transform(Xtest)\n",
    "\n",
    "with open('models/scaler.pkl', 'wb') as f:\n",
    "    pickle.dump(scaler, f)"
   ]
  },
  {
   "cell_type": "code",
   "execution_count": 616,
   "id": "8490af0a-88e1-4a8b-9e9a-bb5662ace7c1",
   "metadata": {},
   "outputs": [],
   "source": [
    "from sklearn.impute import KNNImputer\n",
    "\n",
    "knn_imputer = KNNImputer(missing_values=np.nan, n_neighbors=5)\n",
    "Xtrain_imputed = knn_imputer.fit_transform(Xtrain_scaled)\n",
    "Xtest_imputed = knn_imputer.transform(Xtest_scaled)\n",
    "\n",
    "with open('models/imputer.pkl', 'wb') as f:\n",
    "    pickle.dump(knn_imputer, f)"
   ]
  },
  {
   "cell_type": "code",
   "execution_count": 330,
   "id": "272f839c-610a-4dbb-bce0-f46bc81db103",
   "metadata": {},
   "outputs": [],
   "source": [
    "Xtrain_imputed_df = pd.DataFrame(Xtrain_imputed, columns=Xtrain.columns)\n",
    "Xtest_imputed_df = pd.DataFrame(Xtest_imputed, columns=Xtrain.columns)"
   ]
  },
  {
   "cell_type": "code",
   "execution_count": 612,
   "id": "5ac1b0ff-94da-49b6-8de1-dca17454822f",
   "metadata": {},
   "outputs": [
    {
     "data": {
      "text/html": [
       "<div>\n",
       "<style scoped>\n",
       "    .dataframe tbody tr th:only-of-type {\n",
       "        vertical-align: middle;\n",
       "    }\n",
       "\n",
       "    .dataframe tbody tr th {\n",
       "        vertical-align: top;\n",
       "    }\n",
       "\n",
       "    .dataframe thead th {\n",
       "        text-align: right;\n",
       "    }\n",
       "</style>\n",
       "<table border=\"1\" class=\"dataframe\">\n",
       "  <thead>\n",
       "    <tr style=\"text-align: right;\">\n",
       "      <th></th>\n",
       "      <th>Pregnancies</th>\n",
       "      <th>Glucose</th>\n",
       "      <th>BloodPressure</th>\n",
       "      <th>SkinThickness</th>\n",
       "      <th>Insulin</th>\n",
       "      <th>BMI</th>\n",
       "      <th>DiabetesPedigreeFunction</th>\n",
       "      <th>Age</th>\n",
       "    </tr>\n",
       "  </thead>\n",
       "  <tbody>\n",
       "    <tr>\n",
       "      <th>0</th>\n",
       "      <td>1.4</td>\n",
       "      <td>-0.642857</td>\n",
       "      <td>0.8125</td>\n",
       "      <td>0.200000</td>\n",
       "      <td>0.145618</td>\n",
       "      <td>0.276243</td>\n",
       "      <td>1.226467</td>\n",
       "      <td>1.588235</td>\n",
       "    </tr>\n",
       "    <tr>\n",
       "      <th>1</th>\n",
       "      <td>0.0</td>\n",
       "      <td>0.261905</td>\n",
       "      <td>0.3750</td>\n",
       "      <td>-0.560000</td>\n",
       "      <td>0.041348</td>\n",
       "      <td>-1.248619</td>\n",
       "      <td>-0.293315</td>\n",
       "      <td>1.529412</td>\n",
       "    </tr>\n",
       "    <tr>\n",
       "      <th>2</th>\n",
       "      <td>-0.4</td>\n",
       "      <td>-0.142857</td>\n",
       "      <td>-0.6250</td>\n",
       "      <td>-1.066667</td>\n",
       "      <td>0.512360</td>\n",
       "      <td>-0.928177</td>\n",
       "      <td>-0.648022</td>\n",
       "      <td>-0.352941</td>\n",
       "    </tr>\n",
       "    <tr>\n",
       "      <th>3</th>\n",
       "      <td>-0.4</td>\n",
       "      <td>-0.261905</td>\n",
       "      <td>-0.1250</td>\n",
       "      <td>-0.066667</td>\n",
       "      <td>0.089888</td>\n",
       "      <td>0.198895</td>\n",
       "      <td>-0.637108</td>\n",
       "      <td>-0.411765</td>\n",
       "    </tr>\n",
       "    <tr>\n",
       "      <th>4</th>\n",
       "      <td>0.4</td>\n",
       "      <td>0.000000</td>\n",
       "      <td>1.2500</td>\n",
       "      <td>0.080000</td>\n",
       "      <td>0.079101</td>\n",
       "      <td>0.187845</td>\n",
       "      <td>-0.105048</td>\n",
       "      <td>0.529412</td>\n",
       "    </tr>\n",
       "  </tbody>\n",
       "</table>\n",
       "</div>"
      ],
      "text/plain": [
       "   Pregnancies   Glucose  BloodPressure  SkinThickness   Insulin       BMI  \\\n",
       "0          1.4 -0.642857         0.8125       0.200000  0.145618  0.276243   \n",
       "1          0.0  0.261905         0.3750      -0.560000  0.041348 -1.248619   \n",
       "2         -0.4 -0.142857        -0.6250      -1.066667  0.512360 -0.928177   \n",
       "3         -0.4 -0.261905        -0.1250      -0.066667  0.089888  0.198895   \n",
       "4          0.4  0.000000         1.2500       0.080000  0.079101  0.187845   \n",
       "\n",
       "   DiabetesPedigreeFunction       Age  \n",
       "0                  1.226467  1.588235  \n",
       "1                 -0.293315  1.529412  \n",
       "2                 -0.648022 -0.352941  \n",
       "3                 -0.637108 -0.411765  \n",
       "4                 -0.105048  0.529412  "
      ]
     },
     "execution_count": 612,
     "metadata": {},
     "output_type": "execute_result"
    }
   ],
   "source": [
    "Xtrain_imputed_df.head()"
   ]
  },
  {
   "cell_type": "code",
   "execution_count": 610,
   "id": "5876db3d-02ca-41be-b01d-adce480064bd",
   "metadata": {},
   "outputs": [],
   "source": [
    "training_data = Xtrain_imputed_df.copy().reset_index(drop=True)\n",
    "ytrain = pd.Series(ytrain).reset_index(drop=True)\n",
    "training_data['Outcome'] = ytrain\n",
    "training_data.to_csv('data/training_data.csv', index=False)\n",
    "\n",
    "test_data = Xtest_imputed_df.copy().reset_index(drop=True)\n",
    "ytest = pd.Series(ytest).reset_index(drop=True)\n",
    "test_data['Outcome'] = ytest\n",
    "test_data.to_csv('data/test_data.csv', index=False)"
   ]
  },
  {
   "cell_type": "markdown",
   "id": "511e5b48-5be7-4df6-8ca2-576d8c0e4ae8",
   "metadata": {},
   "source": [
    "### Model Traininig"
   ]
  },
  {
   "cell_type": "code",
   "execution_count": 623,
   "id": "a462b529-1979-4cb6-822e-8891b8a062e4",
   "metadata": {},
   "outputs": [],
   "source": [
    "from sklearn.model_selection import GridSearchCV, StratifiedKFold\n",
    "\n",
    "stratifiedCV = StratifiedKFold(n_splits=3)\n",
    "\n",
    "# helper function to perform hyperparameters tuning via grid search and return the tuned model\n",
    "def hyperparameterTuning(model, param_grid, Xtrain, ytrain):\n",
    "    # create the GridSearchCV object\n",
    "    grid_search = GridSearchCV(model,                  # model to be tuned\n",
    "                               param_grid,             # search grid for the parameters\n",
    "                               cv=stratifiedCV,        # stratified K-fold cross validation to evaluate the model performance\n",
    "                               scoring='roc_auc',      # metric to assess the model performance, weighted F1 score (consider the proportion of classes in the dataset)\n",
    "                               n_jobs=-1)              # use all cpu cores to speed-up CV search\n",
    "\n",
    "    # fit the data into the grid search space\n",
    "    grid_search.fit(Xtrain, ytrain)\n",
    "\n",
    "    # print the best parameters and the corresponding ROC_AUC score\n",
    "    print('Best Hyperparameters from Grid Search : ', grid_search.best_params_)\n",
    "    print('Best AUROC Score: ', grid_search.best_score_)\n",
    "    print()\n",
    "\n",
    "    # get the best model\n",
    "    best_model = grid_search.best_estimator_\n",
    "    \n",
    "    # return the hyperparameters tuned model\n",
    "    return best_model"
   ]
  },
  {
   "cell_type": "code",
   "execution_count": 624,
   "id": "6ad2bac2-1482-4ea5-b1fa-89fb059a3bbf",
   "metadata": {},
   "outputs": [
    {
     "name": "stdout",
     "output_type": "stream",
     "text": [
      "Best Hyperparameters from Grid Search :  {'C': 1.5}\n",
      "Best AUROC Score:  0.8496842025063595\n",
      "\n"
     ]
    }
   ],
   "source": [
    "from sklearn.linear_model import LogisticRegression\n",
    "import pickle\n",
    "\n",
    "logreg = LogisticRegression(penalty='l2', random_state=122, class_weight='balanced', solver='saga', max_iter=100000)\n",
    "\n",
    "# define the hyperparameter grid\n",
    "param_grid = {\n",
    "    'C': np.arange(start=1, stop=10, step=0.5)\n",
    "}\n",
    "\n",
    "# hyperparameter tuning via grid search\n",
    "lr = hyperparameterTuning(logreg, param_grid, Xtrain_imputed_df, ytrain)\n",
    "\n",
    "# save the trained model to a file\n",
    "with open('models/lr.pkl', 'wb') as file:\n",
    "    pickle.dump(lr, file)"
   ]
  },
  {
   "cell_type": "code",
   "execution_count": 636,
   "id": "c290ba0c-f1c9-4b3a-a5b6-af2ae82821f5",
   "metadata": {},
   "outputs": [
    {
     "name": "stdout",
     "output_type": "stream",
     "text": [
      "Best Hyperparameters from Grid Search :  {'max_depth': 3}\n",
      "Best AUROC Score:  0.7696013443554465\n",
      "\n"
     ]
    }
   ],
   "source": [
    "from sklearn.tree import DecisionTreeClassifier\n",
    "\n",
    "decision_tree = DecisionTreeClassifier(class_weight='balanced', random_state=122)\n",
    "\n",
    "# define the hyperparameter grid\n",
    "param_grid = {\n",
    "    'max_depth': np.arange(start=1, stop=10, step=2)\n",
    "}\n",
    "\n",
    "tree = hyperparameterTuning(decision_tree, param_grid, Xtrain_imputed_df, ytrain)\n",
    "\n",
    "# save the trained model to a file\n",
    "with open('models/tree.pkl', 'wb') as file:\n",
    "    pickle.dump(tree, file)"
   ]
  },
  {
   "cell_type": "code",
   "execution_count": 637,
   "id": "bf08fb0f-9f9b-4be9-ad1b-ac3fc8054db4",
   "metadata": {},
   "outputs": [
    {
     "name": "stdout",
     "output_type": "stream",
     "text": [
      "Best Hyperparameters from Grid Search :  {'max_depth': 3, 'n_estimators': 50}\n",
      "Best AUROC Score:  0.839272820888556\n",
      "\n"
     ]
    }
   ],
   "source": [
    "from sklearn.ensemble import RandomForestClassifier\n",
    "\n",
    "random_forest = RandomForestClassifier(n_estimators=100, max_depth=5, class_weight='balanced', random_state=122)\n",
    "\n",
    "# define the hyperparameter grid\n",
    "param_grid = {\n",
    "    'max_depth': np.arange(start=1, stop=10, step=2),\n",
    "    'n_estimators': np.arange(start=50, stop=200, step=50)\n",
    "}\n",
    "\n",
    "rf = hyperparameterTuning(random_forest, param_grid, Xtrain_imputed_df, ytrain)\n",
    "\n",
    "# save the trained model to a file\n",
    "with open('models/rf.pkl', 'wb') as file:\n",
    "    pickle.dump(rf, file)"
   ]
  },
  {
   "cell_type": "code",
   "execution_count": 639,
   "id": "97d46ddf-447e-440b-a22a-e9118364fd8f",
   "metadata": {},
   "outputs": [
    {
     "name": "stdout",
     "output_type": "stream",
     "text": [
      "Best Hyperparameters from Grid Search :  {'C': 10, 'gamma': 0.01, 'kernel': 'rbf'}\n",
      "Best AUROC Score:  0.8519997746802014\n",
      "\n"
     ]
    }
   ],
   "source": [
    "from sklearn.svm import SVC\n",
    "\n",
    "support_vector_machine = SVC(class_weight='balanced', probability=True, random_state=122)\n",
    "\n",
    "# define the hyperparameter grid\n",
    "param_grid = {\n",
    "    'C': [0.1, 1, 10, 100],\n",
    "    'gamma': [1, 0.1, 0.01, 0.001],\n",
    "    'kernel': ['rbf', 'linear']\n",
    "}\n",
    "\n",
    "svc = hyperparameterTuning(support_vector_machine, param_grid, Xtrain_imputed_df, ytrain)\n",
    "\n",
    "# save the trained model to a file\n",
    "with open('models/svc.pkl', 'wb') as file:\n",
    "    pickle.dump(svc, file)"
   ]
  },
  {
   "cell_type": "code",
   "execution_count": 640,
   "id": "ac684819-6202-430b-83a1-153788cc9f25",
   "metadata": {},
   "outputs": [
    {
     "name": "stdout",
     "output_type": "stream",
     "text": [
      "Best Hyperparameters from Grid Search :  {'learning_rate': 0.1, 'max_depth': 3, 'min_samples_leaf': 2, 'min_samples_split': 5, 'n_estimators': 50, 'subsample': 0.8}\n",
      "Best AUROC Score:  0.8356196209581249\n",
      "\n"
     ]
    }
   ],
   "source": [
    "from sklearn.ensemble import GradientBoostingClassifier\n",
    "\n",
    "gradientboost = GradientBoostingClassifier(random_state=122)\n",
    "\n",
    "# define the hyperparameter grid\n",
    "param_grid = {\n",
    "    'n_estimators': [50, 100, 200],\n",
    "    'learning_rate': [0.01, 0.1, 0.2],\n",
    "    'max_depth': [3, 4, 5],\n",
    "    'min_samples_split': [2, 5, 10],\n",
    "    'min_samples_leaf': [1, 2, 4],\n",
    "    'subsample': [0.8, 1.0]\n",
    "}\n",
    "\n",
    "gbc = hyperparameterTuning(gradientboost, param_grid, Xtrain_imputed_df, ytrain)\n",
    "\n",
    "# save the trained model to a file\n",
    "with open('models/gbc.pkl', 'wb') as file:\n",
    "    pickle.dump(gbc, file)"
   ]
  },
  {
   "cell_type": "code",
   "execution_count": 642,
   "id": "e33f2b24-cc01-4460-800a-6b8ee40cab17",
   "metadata": {},
   "outputs": [
    {
     "name": "stdout",
     "output_type": "stream",
     "text": [
      "Best Hyperparameters from Grid Search :  {'n_neighbors': 14}\n",
      "Best AUROC Score:  0.8274614739146232\n",
      "\n"
     ]
    }
   ],
   "source": [
    "from sklearn.neighbors import KNeighborsClassifier\n",
    "\n",
    "k_nearest = KNeighborsClassifier()\n",
    "\n",
    "# define the hyperparameter grid\n",
    "param_grid = {\n",
    "    'n_neighbors': np.arange(start=1, stop=15, step=1)\n",
    "}\n",
    "\n",
    "knn = hyperparameterTuning(k_nearest, param_grid, Xtrain_imputed_df, ytrain)\n",
    "\n",
    "# save the trained model to a file\n",
    "with open('models/knn.pkl', 'wb') as file:\n",
    "    pickle.dump(knn, file)"
   ]
  },
  {
   "cell_type": "code",
   "execution_count": 643,
   "id": "2f7cf9fb-1e2f-4095-b3a1-4869a3de40b3",
   "metadata": {},
   "outputs": [],
   "source": [
    "models = {'Logistic Regression':lr, 'Decision Tree':tree, 'Random Forest':rf, 'Support Vector Machine':svc, 'Gradient Boosting':gbc, 'K Nearest Neighbors':knn}"
   ]
  },
  {
   "cell_type": "markdown",
   "id": "ea259d68-ddb5-4b93-afb4-dc4200faafcb",
   "metadata": {},
   "source": [
    "### Model Performance"
   ]
  },
  {
   "cell_type": "code",
   "execution_count": 644,
   "id": "70a70b19-1760-444c-95e1-9a41a24ce6ea",
   "metadata": {},
   "outputs": [],
   "source": [
    "from sklearn.metrics import precision_score, recall_score, f1_score, matthews_corrcoef\n",
    "\n",
    "def model_performance(models):\n",
    "    precision_list = []\n",
    "    recall_list = []\n",
    "    f1_list = []\n",
    "    mcc_list = []\n",
    "    cont = []\n",
    "    for model_name, model in models.items():\n",
    "        ypred = model.predict(Xtest_imputed_df)\n",
    "        precision = precision_score(ytest, ypred, average='macro')\n",
    "        recall = recall_score(ytest, ypred, average='macro')\n",
    "        f1 = f1_score(ytest, ypred, average='macro')\n",
    "        mcc = matthews_corrcoef(ytest, ypred)\n",
    "        res = [model_name, precision,recall,f1,mcc]\n",
    "        cont.append(res)\n",
    "    res_df = pd.DataFrame(cont, columns=['Model','Precision','Recall','F1','MCC'])\n",
    "    return res_df"
   ]
  },
  {
   "cell_type": "code",
   "execution_count": 645,
   "id": "5bf5f118-7b0b-43d3-8cdc-31b687a077e3",
   "metadata": {},
   "outputs": [],
   "source": [
    "modelPerformance = model_performance(models)\n",
    "modelPerformance.to_csv('data/model_performance_result.csv', index=False)"
   ]
  },
  {
   "cell_type": "code",
   "execution_count": 646,
   "id": "bfeff45a-feab-4c1b-916a-9ed943a8e474",
   "metadata": {},
   "outputs": [
    {
     "data": {
      "application/vnd.plotly.v1+json": {
       "config": {
        "plotlyServerURL": "https://plot.ly"
       },
       "data": [
        {
         "marker": {
          "color": "#46039f"
         },
         "name": "Precision",
         "text": [
          0.7316,
          0.7292,
          0.7557,
          0.7797,
          0.7009,
          0.7116
         ],
         "textposition": "outside",
         "type": "bar",
         "x": [
          "Logistic Regression",
          "Decision Tree",
          "Random Forest",
          "Support Vector Machine",
          "Gradient Boosting",
          "K Nearest Neighbors"
         ],
         "xaxis": "x",
         "y": [
          0.7315602836879432,
          0.7291560967360053,
          0.7556611927398444,
          0.7797461660497091,
          0.7008928571428572,
          0.7115942028985507
         ],
         "yaxis": "y"
        },
        {
         "marker": {
          "color": "#c9447a"
         },
         "name": "Recall",
         "text": [
          0.7419,
          0.7509,
          0.7739,
          0.7939,
          0.675,
          0.6757
         ],
         "textposition": "outside",
         "type": "bar",
         "x": [
          "Logistic Regression",
          "Decision Tree",
          "Random Forest",
          "Support Vector Machine",
          "Gradient Boosting",
          "K Nearest Neighbors"
         ],
         "xaxis": "x2",
         "y": [
          0.7418518518518519,
          0.750925925925926,
          0.7738888888888888,
          0.7938888888888889,
          0.675,
          0.6757407407407408
         ],
         "yaxis": "y2"
        },
        {
         "marker": {
          "color": "#ef7e50"
         },
         "name": "F1",
         "text": [
          0.7354,
          0.7165,
          0.7603,
          0.7849,
          0.6822,
          0.6842
         ],
         "textposition": "outside",
         "type": "bar",
         "x": [
          "Logistic Regression",
          "Decision Tree",
          "Random Forest",
          "Support Vector Machine",
          "Gradient Boosting",
          "K Nearest Neighbors"
         ],
         "xaxis": "x3",
         "y": [
          0.7353951890034365,
          0.7164632840933418,
          0.7603485838779956,
          0.7849065104753323,
          0.6821933962264151,
          0.6842210552638159
         ],
         "yaxis": "y3"
        },
        {
         "marker": {
          "color": "#f1f525"
         },
         "name": "MCC",
         "text": [
          0.4733,
          0.4796,
          0.5292,
          0.5735,
          0.375,
          0.3857
         ],
         "textposition": "outside",
         "type": "bar",
         "x": [
          "Logistic Regression",
          "Decision Tree",
          "Random Forest",
          "Support Vector Machine",
          "Gradient Boosting",
          "K Nearest Neighbors"
         ],
         "xaxis": "x4",
         "y": [
          0.4733002574487753,
          0.4795881806510799,
          0.529236279979081,
          0.5734606870964238,
          0.375,
          0.3856719951141793
         ],
         "yaxis": "y4"
        }
       ],
       "layout": {
        "autosize": true,
        "template": {
         "data": {
          "bar": [
           {
            "error_x": {
             "color": "#f2f5fa"
            },
            "error_y": {
             "color": "#f2f5fa"
            },
            "marker": {
             "line": {
              "color": "rgb(17,17,17)",
              "width": 0.5
             },
             "pattern": {
              "fillmode": "overlay",
              "size": 10,
              "solidity": 0.2
             }
            },
            "type": "bar"
           }
          ],
          "barpolar": [
           {
            "marker": {
             "line": {
              "color": "rgb(17,17,17)",
              "width": 0.5
             },
             "pattern": {
              "fillmode": "overlay",
              "size": 10,
              "solidity": 0.2
             }
            },
            "type": "barpolar"
           }
          ],
          "carpet": [
           {
            "aaxis": {
             "endlinecolor": "#A2B1C6",
             "gridcolor": "#506784",
             "linecolor": "#506784",
             "minorgridcolor": "#506784",
             "startlinecolor": "#A2B1C6"
            },
            "baxis": {
             "endlinecolor": "#A2B1C6",
             "gridcolor": "#506784",
             "linecolor": "#506784",
             "minorgridcolor": "#506784",
             "startlinecolor": "#A2B1C6"
            },
            "type": "carpet"
           }
          ],
          "choropleth": [
           {
            "colorbar": {
             "outlinewidth": 0,
             "ticks": ""
            },
            "type": "choropleth"
           }
          ],
          "contour": [
           {
            "colorbar": {
             "outlinewidth": 0,
             "ticks": ""
            },
            "colorscale": [
             [
              0,
              "#0d0887"
             ],
             [
              0.1111111111111111,
              "#46039f"
             ],
             [
              0.2222222222222222,
              "#7201a8"
             ],
             [
              0.3333333333333333,
              "#9c179e"
             ],
             [
              0.4444444444444444,
              "#bd3786"
             ],
             [
              0.5555555555555556,
              "#d8576b"
             ],
             [
              0.6666666666666666,
              "#ed7953"
             ],
             [
              0.7777777777777778,
              "#fb9f3a"
             ],
             [
              0.8888888888888888,
              "#fdca26"
             ],
             [
              1,
              "#f0f921"
             ]
            ],
            "type": "contour"
           }
          ],
          "contourcarpet": [
           {
            "colorbar": {
             "outlinewidth": 0,
             "ticks": ""
            },
            "type": "contourcarpet"
           }
          ],
          "heatmap": [
           {
            "colorbar": {
             "outlinewidth": 0,
             "ticks": ""
            },
            "colorscale": [
             [
              0,
              "#0d0887"
             ],
             [
              0.1111111111111111,
              "#46039f"
             ],
             [
              0.2222222222222222,
              "#7201a8"
             ],
             [
              0.3333333333333333,
              "#9c179e"
             ],
             [
              0.4444444444444444,
              "#bd3786"
             ],
             [
              0.5555555555555556,
              "#d8576b"
             ],
             [
              0.6666666666666666,
              "#ed7953"
             ],
             [
              0.7777777777777778,
              "#fb9f3a"
             ],
             [
              0.8888888888888888,
              "#fdca26"
             ],
             [
              1,
              "#f0f921"
             ]
            ],
            "type": "heatmap"
           }
          ],
          "heatmapgl": [
           {
            "colorbar": {
             "outlinewidth": 0,
             "ticks": ""
            },
            "colorscale": [
             [
              0,
              "#0d0887"
             ],
             [
              0.1111111111111111,
              "#46039f"
             ],
             [
              0.2222222222222222,
              "#7201a8"
             ],
             [
              0.3333333333333333,
              "#9c179e"
             ],
             [
              0.4444444444444444,
              "#bd3786"
             ],
             [
              0.5555555555555556,
              "#d8576b"
             ],
             [
              0.6666666666666666,
              "#ed7953"
             ],
             [
              0.7777777777777778,
              "#fb9f3a"
             ],
             [
              0.8888888888888888,
              "#fdca26"
             ],
             [
              1,
              "#f0f921"
             ]
            ],
            "type": "heatmapgl"
           }
          ],
          "histogram": [
           {
            "marker": {
             "pattern": {
              "fillmode": "overlay",
              "size": 10,
              "solidity": 0.2
             }
            },
            "type": "histogram"
           }
          ],
          "histogram2d": [
           {
            "colorbar": {
             "outlinewidth": 0,
             "ticks": ""
            },
            "colorscale": [
             [
              0,
              "#0d0887"
             ],
             [
              0.1111111111111111,
              "#46039f"
             ],
             [
              0.2222222222222222,
              "#7201a8"
             ],
             [
              0.3333333333333333,
              "#9c179e"
             ],
             [
              0.4444444444444444,
              "#bd3786"
             ],
             [
              0.5555555555555556,
              "#d8576b"
             ],
             [
              0.6666666666666666,
              "#ed7953"
             ],
             [
              0.7777777777777778,
              "#fb9f3a"
             ],
             [
              0.8888888888888888,
              "#fdca26"
             ],
             [
              1,
              "#f0f921"
             ]
            ],
            "type": "histogram2d"
           }
          ],
          "histogram2dcontour": [
           {
            "colorbar": {
             "outlinewidth": 0,
             "ticks": ""
            },
            "colorscale": [
             [
              0,
              "#0d0887"
             ],
             [
              0.1111111111111111,
              "#46039f"
             ],
             [
              0.2222222222222222,
              "#7201a8"
             ],
             [
              0.3333333333333333,
              "#9c179e"
             ],
             [
              0.4444444444444444,
              "#bd3786"
             ],
             [
              0.5555555555555556,
              "#d8576b"
             ],
             [
              0.6666666666666666,
              "#ed7953"
             ],
             [
              0.7777777777777778,
              "#fb9f3a"
             ],
             [
              0.8888888888888888,
              "#fdca26"
             ],
             [
              1,
              "#f0f921"
             ]
            ],
            "type": "histogram2dcontour"
           }
          ],
          "mesh3d": [
           {
            "colorbar": {
             "outlinewidth": 0,
             "ticks": ""
            },
            "type": "mesh3d"
           }
          ],
          "parcoords": [
           {
            "line": {
             "colorbar": {
              "outlinewidth": 0,
              "ticks": ""
             }
            },
            "type": "parcoords"
           }
          ],
          "pie": [
           {
            "automargin": true,
            "type": "pie"
           }
          ],
          "scatter": [
           {
            "marker": {
             "line": {
              "color": "#283442"
             }
            },
            "type": "scatter"
           }
          ],
          "scatter3d": [
           {
            "line": {
             "colorbar": {
              "outlinewidth": 0,
              "ticks": ""
             }
            },
            "marker": {
             "colorbar": {
              "outlinewidth": 0,
              "ticks": ""
             }
            },
            "type": "scatter3d"
           }
          ],
          "scattercarpet": [
           {
            "marker": {
             "colorbar": {
              "outlinewidth": 0,
              "ticks": ""
             }
            },
            "type": "scattercarpet"
           }
          ],
          "scattergeo": [
           {
            "marker": {
             "colorbar": {
              "outlinewidth": 0,
              "ticks": ""
             }
            },
            "type": "scattergeo"
           }
          ],
          "scattergl": [
           {
            "marker": {
             "line": {
              "color": "#283442"
             }
            },
            "type": "scattergl"
           }
          ],
          "scattermapbox": [
           {
            "marker": {
             "colorbar": {
              "outlinewidth": 0,
              "ticks": ""
             }
            },
            "type": "scattermapbox"
           }
          ],
          "scatterpolar": [
           {
            "marker": {
             "colorbar": {
              "outlinewidth": 0,
              "ticks": ""
             }
            },
            "type": "scatterpolar"
           }
          ],
          "scatterpolargl": [
           {
            "marker": {
             "colorbar": {
              "outlinewidth": 0,
              "ticks": ""
             }
            },
            "type": "scatterpolargl"
           }
          ],
          "scatterternary": [
           {
            "marker": {
             "colorbar": {
              "outlinewidth": 0,
              "ticks": ""
             }
            },
            "type": "scatterternary"
           }
          ],
          "surface": [
           {
            "colorbar": {
             "outlinewidth": 0,
             "ticks": ""
            },
            "colorscale": [
             [
              0,
              "#0d0887"
             ],
             [
              0.1111111111111111,
              "#46039f"
             ],
             [
              0.2222222222222222,
              "#7201a8"
             ],
             [
              0.3333333333333333,
              "#9c179e"
             ],
             [
              0.4444444444444444,
              "#bd3786"
             ],
             [
              0.5555555555555556,
              "#d8576b"
             ],
             [
              0.6666666666666666,
              "#ed7953"
             ],
             [
              0.7777777777777778,
              "#fb9f3a"
             ],
             [
              0.8888888888888888,
              "#fdca26"
             ],
             [
              1,
              "#f0f921"
             ]
            ],
            "type": "surface"
           }
          ],
          "table": [
           {
            "cells": {
             "fill": {
              "color": "#506784"
             },
             "line": {
              "color": "rgb(17,17,17)"
             }
            },
            "header": {
             "fill": {
              "color": "#2a3f5f"
             },
             "line": {
              "color": "rgb(17,17,17)"
             }
            },
            "type": "table"
           }
          ]
         },
         "layout": {
          "annotationdefaults": {
           "arrowcolor": "#f2f5fa",
           "arrowhead": 0,
           "arrowwidth": 1
          },
          "autotypenumbers": "strict",
          "coloraxis": {
           "colorbar": {
            "outlinewidth": 0,
            "ticks": ""
           }
          },
          "colorscale": {
           "diverging": [
            [
             0,
             "#8e0152"
            ],
            [
             0.1,
             "#c51b7d"
            ],
            [
             0.2,
             "#de77ae"
            ],
            [
             0.3,
             "#f1b6da"
            ],
            [
             0.4,
             "#fde0ef"
            ],
            [
             0.5,
             "#f7f7f7"
            ],
            [
             0.6,
             "#e6f5d0"
            ],
            [
             0.7,
             "#b8e186"
            ],
            [
             0.8,
             "#7fbc41"
            ],
            [
             0.9,
             "#4d9221"
            ],
            [
             1,
             "#276419"
            ]
           ],
           "sequential": [
            [
             0,
             "#0d0887"
            ],
            [
             0.1111111111111111,
             "#46039f"
            ],
            [
             0.2222222222222222,
             "#7201a8"
            ],
            [
             0.3333333333333333,
             "#9c179e"
            ],
            [
             0.4444444444444444,
             "#bd3786"
            ],
            [
             0.5555555555555556,
             "#d8576b"
            ],
            [
             0.6666666666666666,
             "#ed7953"
            ],
            [
             0.7777777777777778,
             "#fb9f3a"
            ],
            [
             0.8888888888888888,
             "#fdca26"
            ],
            [
             1,
             "#f0f921"
            ]
           ],
           "sequentialminus": [
            [
             0,
             "#0d0887"
            ],
            [
             0.1111111111111111,
             "#46039f"
            ],
            [
             0.2222222222222222,
             "#7201a8"
            ],
            [
             0.3333333333333333,
             "#9c179e"
            ],
            [
             0.4444444444444444,
             "#bd3786"
            ],
            [
             0.5555555555555556,
             "#d8576b"
            ],
            [
             0.6666666666666666,
             "#ed7953"
            ],
            [
             0.7777777777777778,
             "#fb9f3a"
            ],
            [
             0.8888888888888888,
             "#fdca26"
            ],
            [
             1,
             "#f0f921"
            ]
           ]
          },
          "colorway": [
           "#636efa",
           "#EF553B",
           "#00cc96",
           "#ab63fa",
           "#FFA15A",
           "#19d3f3",
           "#FF6692",
           "#B6E880",
           "#FF97FF",
           "#FECB52"
          ],
          "font": {
           "color": "#f2f5fa"
          },
          "geo": {
           "bgcolor": "rgb(17,17,17)",
           "lakecolor": "rgb(17,17,17)",
           "landcolor": "rgb(17,17,17)",
           "showlakes": true,
           "showland": true,
           "subunitcolor": "#506784"
          },
          "hoverlabel": {
           "align": "left"
          },
          "hovermode": "closest",
          "mapbox": {
           "style": "dark"
          },
          "paper_bgcolor": "rgb(17,17,17)",
          "plot_bgcolor": "rgb(17,17,17)",
          "polar": {
           "angularaxis": {
            "gridcolor": "#506784",
            "linecolor": "#506784",
            "ticks": ""
           },
           "bgcolor": "rgb(17,17,17)",
           "radialaxis": {
            "gridcolor": "#506784",
            "linecolor": "#506784",
            "ticks": ""
           }
          },
          "scene": {
           "xaxis": {
            "backgroundcolor": "rgb(17,17,17)",
            "gridcolor": "#506784",
            "gridwidth": 2,
            "linecolor": "#506784",
            "showbackground": true,
            "ticks": "",
            "zerolinecolor": "#C8D4E3"
           },
           "yaxis": {
            "backgroundcolor": "rgb(17,17,17)",
            "gridcolor": "#506784",
            "gridwidth": 2,
            "linecolor": "#506784",
            "showbackground": true,
            "ticks": "",
            "zerolinecolor": "#C8D4E3"
           },
           "zaxis": {
            "backgroundcolor": "rgb(17,17,17)",
            "gridcolor": "#506784",
            "gridwidth": 2,
            "linecolor": "#506784",
            "showbackground": true,
            "ticks": "",
            "zerolinecolor": "#C8D4E3"
           }
          },
          "shapedefaults": {
           "line": {
            "color": "#f2f5fa"
           }
          },
          "sliderdefaults": {
           "bgcolor": "#C8D4E3",
           "bordercolor": "rgb(17,17,17)",
           "borderwidth": 1,
           "tickwidth": 0
          },
          "ternary": {
           "aaxis": {
            "gridcolor": "#506784",
            "linecolor": "#506784",
            "ticks": ""
           },
           "baxis": {
            "gridcolor": "#506784",
            "linecolor": "#506784",
            "ticks": ""
           },
           "bgcolor": "rgb(17,17,17)",
           "caxis": {
            "gridcolor": "#506784",
            "linecolor": "#506784",
            "ticks": ""
           }
          },
          "title": {
           "x": 0.05
          },
          "updatemenudefaults": {
           "bgcolor": "#506784",
           "borderwidth": 0
          },
          "xaxis": {
           "automargin": true,
           "gridcolor": "#283442",
           "linecolor": "#506784",
           "ticks": "",
           "title": {
            "standoff": 15
           },
           "zerolinecolor": "#283442",
           "zerolinewidth": 2
          },
          "yaxis": {
           "automargin": true,
           "gridcolor": "#283442",
           "linecolor": "#506784",
           "ticks": "",
           "title": {
            "standoff": 15
           },
           "zerolinecolor": "#283442",
           "zerolinewidth": 2
          }
         }
        },
        "xaxis": {
         "anchor": "y",
         "autorange": true,
         "domain": [
          0,
          1
         ],
         "range": [
          -0.5,
          5.5
         ],
         "type": "category"
        },
        "xaxis2": {
         "anchor": "y2",
         "autorange": true,
         "domain": [
          0,
          1
         ],
         "range": [
          -0.5,
          5.5
         ],
         "type": "category"
        },
        "xaxis3": {
         "anchor": "y3",
         "autorange": true,
         "domain": [
          0,
          1
         ],
         "range": [
          -0.5,
          5.5
         ],
         "type": "category"
        },
        "xaxis4": {
         "anchor": "y4",
         "autorange": true,
         "domain": [
          0,
          1
         ],
         "range": [
          -0.5,
          5.5
         ],
         "title": {
          "text": "Model"
         },
         "type": "category"
        },
        "yaxis": {
         "anchor": "x",
         "autorange": true,
         "domain": [
          0.80625,
          1
         ],
         "range": [
          0,
          0.8207854379470623
         ],
         "title": {
          "text": "Precision"
         },
         "type": "linear"
        },
        "yaxis2": {
         "anchor": "x2",
         "autorange": true,
         "domain": [
          0.5375,
          0.73125
         ],
         "range": [
          0,
          0.835672514619883
         ],
         "title": {
          "text": "Recall"
         },
         "type": "linear"
        },
        "yaxis3": {
         "anchor": "x3",
         "autorange": true,
         "domain": [
          0.26875,
          0.4625
         ],
         "range": [
          0,
          0.8262173794477182
         ],
         "title": {
          "text": "F1"
         },
         "type": "linear"
        },
        "yaxis4": {
         "anchor": "x4",
         "autorange": true,
         "domain": [
          0,
          0.19375
         ],
         "range": [
          0,
          0.6036428285225515
         ],
         "title": {
          "text": "MCC"
         },
         "type": "linear"
        }
       }
      },
      "image/png": "[encoded data removed]",
      "text/html": [
       "<div>                            <div id=\"bb1e3cf4-6c2a-49f2-9cba-f1b0d0a5765c\" class=\"plotly-graph-div\" style=\"height:1600px; width:100%;\"></div>            <script type=\"text/javascript\">                require([\"plotly\"], function(Plotly) {                    window.PLOTLYENV=window.PLOTLYENV || {};                                    if (document.getElementById(\"bb1e3cf4-6c2a-49f2-9cba-f1b0d0a5765c\")) {                    Plotly.newPlot(                        \"bb1e3cf4-6c2a-49f2-9cba-f1b0d0a5765c\",                        [{\"marker\":{\"color\":\"#46039f\"},\"name\":\"Precision\",\"text\":[0.7316,0.7292,0.7557,0.7797,0.7009,0.7116],\"textposition\":\"outside\",\"x\":[\"Logistic Regression\",\"Decision Tree\",\"Random Forest\",\"Support Vector Machine\",\"Gradient Boosting\",\"K Nearest Neighbors\"],\"y\":[0.7315602836879432,0.7291560967360053,0.7556611927398444,0.7797461660497091,0.7008928571428572,0.7115942028985507],\"type\":\"bar\",\"xaxis\":\"x\",\"yaxis\":\"y\"},{\"marker\":{\"color\":\"#c9447a\"},\"name\":\"Recall\",\"text\":[0.7419,0.7509,0.7739,0.7939,0.675,0.6757],\"textposition\":\"outside\",\"x\":[\"Logistic Regression\",\"Decision Tree\",\"Random Forest\",\"Support Vector Machine\",\"Gradient Boosting\",\"K Nearest Neighbors\"],\"y\":[0.7418518518518519,0.750925925925926,0.7738888888888888,0.7938888888888889,0.675,0.6757407407407408],\"type\":\"bar\",\"xaxis\":\"x2\",\"yaxis\":\"y2\"},{\"marker\":{\"color\":\"#ef7e50\"},\"name\":\"F1\",\"text\":[0.7354,0.7165,0.7603,0.7849,0.6822,0.6842],\"textposition\":\"outside\",\"x\":[\"Logistic Regression\",\"Decision Tree\",\"Random Forest\",\"Support Vector Machine\",\"Gradient Boosting\",\"K Nearest Neighbors\"],\"y\":[0.7353951890034365,0.7164632840933418,0.7603485838779956,0.7849065104753323,0.6821933962264151,0.6842210552638159],\"type\":\"bar\",\"xaxis\":\"x3\",\"yaxis\":\"y3\"},{\"marker\":{\"color\":\"#f1f525\"},\"name\":\"MCC\",\"text\":[0.4733,0.4796,0.5292,0.5735,0.375,0.3857],\"textposition\":\"outside\",\"x\":[\"Logistic Regression\",\"Decision Tree\",\"Random Forest\",\"Support Vector Machine\",\"Gradient Boosting\",\"K Nearest Neighbors\"],\"y\":[0.4733002574487753,0.4795881806510799,0.529236279979081,0.5734606870964238,0.375,0.3856719951141793],\"type\":\"bar\",\"xaxis\":\"x4\",\"yaxis\":\"y4\"}],                        {\"template\":{\"data\":{\"barpolar\":[{\"marker\":{\"line\":{\"color\":\"rgb(17,17,17)\",\"width\":0.5},\"pattern\":{\"fillmode\":\"overlay\",\"size\":10,\"solidity\":0.2}},\"type\":\"barpolar\"}],\"bar\":[{\"error_x\":{\"color\":\"#f2f5fa\"},\"error_y\":{\"color\":\"#f2f5fa\"},\"marker\":{\"line\":{\"color\":\"rgb(17,17,17)\",\"width\":0.5},\"pattern\":{\"fillmode\":\"overlay\",\"size\":10,\"solidity\":0.2}},\"type\":\"bar\"}],\"carpet\":[{\"aaxis\":{\"endlinecolor\":\"#A2B1C6\",\"gridcolor\":\"#506784\",\"linecolor\":\"#506784\",\"minorgridcolor\":\"#506784\",\"startlinecolor\":\"#A2B1C6\"},\"baxis\":{\"endlinecolor\":\"#A2B1C6\",\"gridcolor\":\"#506784\",\"linecolor\":\"#506784\",\"minorgridcolor\":\"#506784\",\"startlinecolor\":\"#A2B1C6\"},\"type\":\"carpet\"}],\"choropleth\":[{\"colorbar\":{\"outlinewidth\":0,\"ticks\":\"\"},\"type\":\"choropleth\"}],\"contourcarpet\":[{\"colorbar\":{\"outlinewidth\":0,\"ticks\":\"\"},\"type\":\"contourcarpet\"}],\"contour\":[{\"colorbar\":{\"outlinewidth\":0,\"ticks\":\"\"},\"colorscale\":[[0.0,\"#0d0887\"],[0.1111111111111111,\"#46039f\"],[0.2222222222222222,\"#7201a8\"],[0.3333333333333333,\"#9c179e\"],[0.4444444444444444,\"#bd3786\"],[0.5555555555555556,\"#d8576b\"],[0.6666666666666666,\"#ed7953\"],[0.7777777777777778,\"#fb9f3a\"],[0.8888888888888888,\"#fdca26\"],[1.0,\"#f0f921\"]],\"type\":\"contour\"}],\"heatmapgl\":[{\"colorbar\":{\"outlinewidth\":0,\"ticks\":\"\"},\"colorscale\":[[0.0,\"#0d0887\"],[0.1111111111111111,\"#46039f\"],[0.2222222222222222,\"#7201a8\"],[0.3333333333333333,\"#9c179e\"],[0.4444444444444444,\"#bd3786\"],[0.5555555555555556,\"#d8576b\"],[0.6666666666666666,\"#ed7953\"],[0.7777777777777778,\"#fb9f3a\"],[0.8888888888888888,\"#fdca26\"],[1.0,\"#f0f921\"]],\"type\":\"heatmapgl\"}],\"heatmap\":[{\"colorbar\":{\"outlinewidth\":0,\"ticks\":\"\"},\"colorscale\":[[0.0,\"#0d0887\"],[0.1111111111111111,\"#46039f\"],[0.2222222222222222,\"#7201a8\"],[0.3333333333333333,\"#9c179e\"],[0.4444444444444444,\"#bd3786\"],[0.5555555555555556,\"#d8576b\"],[0.6666666666666666,\"#ed7953\"],[0.7777777777777778,\"#fb9f3a\"],[0.8888888888888888,\"#fdca26\"],[1.0,\"#f0f921\"]],\"type\":\"heatmap\"}],\"histogram2dcontour\":[{\"colorbar\":{\"outlinewidth\":0,\"ticks\":\"\"},\"colorscale\":[[0.0,\"#0d0887\"],[0.1111111111111111,\"#46039f\"],[0.2222222222222222,\"#7201a8\"],[0.3333333333333333,\"#9c179e\"],[0.4444444444444444,\"#bd3786\"],[0.5555555555555556,\"#d8576b\"],[0.6666666666666666,\"#ed7953\"],[0.7777777777777778,\"#fb9f3a\"],[0.8888888888888888,\"#fdca26\"],[1.0,\"#f0f921\"]],\"type\":\"histogram2dcontour\"}],\"histogram2d\":[{\"colorbar\":{\"outlinewidth\":0,\"ticks\":\"\"},\"colorscale\":[[0.0,\"#0d0887\"],[0.1111111111111111,\"#46039f\"],[0.2222222222222222,\"#7201a8\"],[0.3333333333333333,\"#9c179e\"],[0.4444444444444444,\"#bd3786\"],[0.5555555555555556,\"#d8576b\"],[0.6666666666666666,\"#ed7953\"],[0.7777777777777778,\"#fb9f3a\"],[0.8888888888888888,\"#fdca26\"],[1.0,\"#f0f921\"]],\"type\":\"histogram2d\"}],\"histogram\":[{\"marker\":{\"pattern\":{\"fillmode\":\"overlay\",\"size\":10,\"solidity\":0.2}},\"type\":\"histogram\"}],\"mesh3d\":[{\"colorbar\":{\"outlinewidth\":0,\"ticks\":\"\"},\"type\":\"mesh3d\"}],\"parcoords\":[{\"line\":{\"colorbar\":{\"outlinewidth\":0,\"ticks\":\"\"}},\"type\":\"parcoords\"}],\"pie\":[{\"automargin\":true,\"type\":\"pie\"}],\"scatter3d\":[{\"line\":{\"colorbar\":{\"outlinewidth\":0,\"ticks\":\"\"}},\"marker\":{\"colorbar\":{\"outlinewidth\":0,\"ticks\":\"\"}},\"type\":\"scatter3d\"}],\"scattercarpet\":[{\"marker\":{\"colorbar\":{\"outlinewidth\":0,\"ticks\":\"\"}},\"type\":\"scattercarpet\"}],\"scattergeo\":[{\"marker\":{\"colorbar\":{\"outlinewidth\":0,\"ticks\":\"\"}},\"type\":\"scattergeo\"}],\"scattergl\":[{\"marker\":{\"line\":{\"color\":\"#283442\"}},\"type\":\"scattergl\"}],\"scattermapbox\":[{\"marker\":{\"colorbar\":{\"outlinewidth\":0,\"ticks\":\"\"}},\"type\":\"scattermapbox\"}],\"scatterpolargl\":[{\"marker\":{\"colorbar\":{\"outlinewidth\":0,\"ticks\":\"\"}},\"type\":\"scatterpolargl\"}],\"scatterpolar\":[{\"marker\":{\"colorbar\":{\"outlinewidth\":0,\"ticks\":\"\"}},\"type\":\"scatterpolar\"}],\"scatter\":[{\"marker\":{\"line\":{\"color\":\"#283442\"}},\"type\":\"scatter\"}],\"scatterternary\":[{\"marker\":{\"colorbar\":{\"outlinewidth\":0,\"ticks\":\"\"}},\"type\":\"scatterternary\"}],\"surface\":[{\"colorbar\":{\"outlinewidth\":0,\"ticks\":\"\"},\"colorscale\":[[0.0,\"#0d0887\"],[0.1111111111111111,\"#46039f\"],[0.2222222222222222,\"#7201a8\"],[0.3333333333333333,\"#9c179e\"],[0.4444444444444444,\"#bd3786\"],[0.5555555555555556,\"#d8576b\"],[0.6666666666666666,\"#ed7953\"],[0.7777777777777778,\"#fb9f3a\"],[0.8888888888888888,\"#fdca26\"],[1.0,\"#f0f921\"]],\"type\":\"surface\"}],\"table\":[{\"cells\":{\"fill\":{\"color\":\"#506784\"},\"line\":{\"color\":\"rgb(17,17,17)\"}},\"header\":{\"fill\":{\"color\":\"#2a3f5f\"},\"line\":{\"color\":\"rgb(17,17,17)\"}},\"type\":\"table\"}]},\"layout\":{\"annotationdefaults\":{\"arrowcolor\":\"#f2f5fa\",\"arrowhead\":0,\"arrowwidth\":1},\"autotypenumbers\":\"strict\",\"coloraxis\":{\"colorbar\":{\"outlinewidth\":0,\"ticks\":\"\"}},\"colorscale\":{\"diverging\":[[0,\"#8e0152\"],[0.1,\"#c51b7d\"],[0.2,\"#de77ae\"],[0.3,\"#f1b6da\"],[0.4,\"#fde0ef\"],[0.5,\"#f7f7f7\"],[0.6,\"#e6f5d0\"],[0.7,\"#b8e186\"],[0.8,\"#7fbc41\"],[0.9,\"#4d9221\"],[1,\"#276419\"]],\"sequential\":[[0.0,\"#0d0887\"],[0.1111111111111111,\"#46039f\"],[0.2222222222222222,\"#7201a8\"],[0.3333333333333333,\"#9c179e\"],[0.4444444444444444,\"#bd3786\"],[0.5555555555555556,\"#d8576b\"],[0.6666666666666666,\"#ed7953\"],[0.7777777777777778,\"#fb9f3a\"],[0.8888888888888888,\"#fdca26\"],[1.0,\"#f0f921\"]],\"sequentialminus\":[[0.0,\"#0d0887\"],[0.1111111111111111,\"#46039f\"],[0.2222222222222222,\"#7201a8\"],[0.3333333333333333,\"#9c179e\"],[0.4444444444444444,\"#bd3786\"],[0.5555555555555556,\"#d8576b\"],[0.6666666666666666,\"#ed7953\"],[0.7777777777777778,\"#fb9f3a\"],[0.8888888888888888,\"#fdca26\"],[1.0,\"#f0f921\"]]},\"colorway\":[\"#636efa\",\"#EF553B\",\"#00cc96\",\"#ab63fa\",\"#FFA15A\",\"#19d3f3\",\"#FF6692\",\"#B6E880\",\"#FF97FF\",\"#FECB52\"],\"font\":{\"color\":\"#f2f5fa\"},\"geo\":{\"bgcolor\":\"rgb(17,17,17)\",\"lakecolor\":\"rgb(17,17,17)\",\"landcolor\":\"rgb(17,17,17)\",\"showlakes\":true,\"showland\":true,\"subunitcolor\":\"#506784\"},\"hoverlabel\":{\"align\":\"left\"},\"hovermode\":\"closest\",\"mapbox\":{\"style\":\"dark\"},\"paper_bgcolor\":\"rgb(17,17,17)\",\"plot_bgcolor\":\"rgb(17,17,17)\",\"polar\":{\"angularaxis\":{\"gridcolor\":\"#506784\",\"linecolor\":\"#506784\",\"ticks\":\"\"},\"bgcolor\":\"rgb(17,17,17)\",\"radialaxis\":{\"gridcolor\":\"#506784\",\"linecolor\":\"#506784\",\"ticks\":\"\"}},\"scene\":{\"xaxis\":{\"backgroundcolor\":\"rgb(17,17,17)\",\"gridcolor\":\"#506784\",\"gridwidth\":2,\"linecolor\":\"#506784\",\"showbackground\":true,\"ticks\":\"\",\"zerolinecolor\":\"#C8D4E3\"},\"yaxis\":{\"backgroundcolor\":\"rgb(17,17,17)\",\"gridcolor\":\"#506784\",\"gridwidth\":2,\"linecolor\":\"#506784\",\"showbackground\":true,\"ticks\":\"\",\"zerolinecolor\":\"#C8D4E3\"},\"zaxis\":{\"backgroundcolor\":\"rgb(17,17,17)\",\"gridcolor\":\"#506784\",\"gridwidth\":2,\"linecolor\":\"#506784\",\"showbackground\":true,\"ticks\":\"\",\"zerolinecolor\":\"#C8D4E3\"}},\"shapedefaults\":{\"line\":{\"color\":\"#f2f5fa\"}},\"sliderdefaults\":{\"bgcolor\":\"#C8D4E3\",\"bordercolor\":\"rgb(17,17,17)\",\"borderwidth\":1,\"tickwidth\":0},\"ternary\":{\"aaxis\":{\"gridcolor\":\"#506784\",\"linecolor\":\"#506784\",\"ticks\":\"\"},\"baxis\":{\"gridcolor\":\"#506784\",\"linecolor\":\"#506784\",\"ticks\":\"\"},\"bgcolor\":\"rgb(17,17,17)\",\"caxis\":{\"gridcolor\":\"#506784\",\"linecolor\":\"#506784\",\"ticks\":\"\"}},\"title\":{\"x\":0.05},\"updatemenudefaults\":{\"bgcolor\":\"#506784\",\"borderwidth\":0},\"xaxis\":{\"automargin\":true,\"gridcolor\":\"#283442\",\"linecolor\":\"#506784\",\"ticks\":\"\",\"title\":{\"standoff\":15},\"zerolinecolor\":\"#283442\",\"zerolinewidth\":2},\"yaxis\":{\"automargin\":true,\"gridcolor\":\"#283442\",\"linecolor\":\"#506784\",\"ticks\":\"\",\"title\":{\"standoff\":15},\"zerolinecolor\":\"#283442\",\"zerolinewidth\":2}}},\"xaxis\":{\"anchor\":\"y\",\"domain\":[0.0,1.0]},\"yaxis\":{\"anchor\":\"x\",\"domain\":[0.80625,1.0],\"title\":{\"text\":\"Precision\"}},\"xaxis2\":{\"anchor\":\"y2\",\"domain\":[0.0,1.0]},\"yaxis2\":{\"anchor\":\"x2\",\"domain\":[0.5375,0.73125],\"title\":{\"text\":\"Recall\"}},\"xaxis3\":{\"anchor\":\"y3\",\"domain\":[0.0,1.0]},\"yaxis3\":{\"anchor\":\"x3\",\"domain\":[0.26875,0.4625],\"title\":{\"text\":\"F1\"}},\"xaxis4\":{\"anchor\":\"y4\",\"domain\":[0.0,1.0],\"title\":{\"text\":\"Model\"}},\"yaxis4\":{\"anchor\":\"x4\",\"domain\":[0.0,0.19375],\"title\":{\"text\":\"MCC\"}},\"height\":1600},                        {\"responsive\": true}                    ).then(function(){\n",
       "                            \n",
       "var gd = document.getElementById('bb1e3cf4-6c2a-49f2-9cba-f1b0d0a5765c');\n",
       "var x = new MutationObserver(function (mutations, observer) {{\n",
       "        var display = window.getComputedStyle(gd).display;\n",
       "        if (!display || display === 'none') {{\n",
       "            console.log([gd, 'removed!']);\n",
       "            Plotly.purge(gd);\n",
       "            observer.disconnect();\n",
       "        }}\n",
       "}});\n",
       "\n",
       "// Listen for the removal of the full notebook cells\n",
       "var notebookContainer = gd.closest('#notebook-container');\n",
       "if (notebookContainer) {{\n",
       "    x.observe(notebookContainer, {childList: true});\n",
       "}}\n",
       "\n",
       "// Listen for the clearing of the current output cell\n",
       "var outputEl = gd.closest('.output');\n",
       "if (outputEl) {{\n",
       "    x.observe(outputEl, {childList: true});\n",
       "}}\n",
       "\n",
       "                        })                };                });            </script>        </div>"
      ]
     },
     "metadata": {},
     "output_type": "display_data"
    }
   ],
   "source": [
    "import plotly.graph_objects as go\n",
    "from plotly.subplots import make_subplots\n",
    "\n",
    "fig = make_subplots(rows=4, cols=1, shared_yaxes=True)\n",
    "\n",
    "fig.add_trace(go.Bar(x=modelPerformance.Model, y=modelPerformance.Precision, name='Precision', marker=dict(color='#46039f'), text=round(modelPerformance.Precision,4), textposition='outside'), row=1, col=1)\n",
    "fig.add_trace(go.Bar(x=modelPerformance.Model, y=modelPerformance.Recall, name='Recall', marker=dict(color='#c9447a'), text=round(modelPerformance.Recall,4), textposition='outside'), row=2, col=1)\n",
    "fig.add_trace(go.Bar(x=modelPerformance.Model, y=modelPerformance.F1, name='F1', marker=dict(color='#ef7e50'), text=round(modelPerformance.F1,4), textposition='outside'), row=3, col=1)\n",
    "fig.add_trace(go.Bar(x=modelPerformance.Model, y=modelPerformance.MCC, name='MCC', marker=dict(color='#f1f525'), text=round(modelPerformance.MCC,4), textposition='outside'), row=4, col=1)\n",
    "\n",
    "fig.update_layout(height=1600)\n",
    "# Add titles for each subplot\n",
    "fig.update_yaxes(title_text='Precision', row=1, col=1)\n",
    "fig.update_yaxes(title_text='Recall', row=2, col=1)\n",
    "fig.update_yaxes(title_text='F1', row=3, col=1)\n",
    "fig.update_yaxes(title_text='MCC', row=4, col=1)\n",
    "fig.update_xaxes(title_text='Model', row=4, col=1)\n",
    "fig.update_layout(template='plotly_dark')\n",
    "fig.show()"
   ]
  },
  {
   "cell_type": "code",
   "execution_count": 647,
   "id": "54180262-991b-473a-b18e-af9a44068cf8",
   "metadata": {},
   "outputs": [],
   "source": [
    "# AUC score\n",
    "from sklearn.metrics import roc_curve, auc\n",
    "\n",
    "model_auc_list = []\n",
    "for model_name, model in models.items():\n",
    "    ypred_proba = model.predict_proba(Xtest_imputed_df)[:,1]\n",
    "    fpr, tpr, threshold = roc_curve(ytest, ypred_proba)\n",
    "    model_auc = auc(fpr, tpr)\n",
    "    model_auc_list.append(model_auc)\n",
    "    \n",
    "auc_df = pd.DataFrame([model_auc_list], columns=models.keys())\n",
    "auc_df.to_csv('data/auc_result.csv', index=False)"
   ]
  },
  {
   "cell_type": "code",
   "execution_count": 648,
   "id": "ffccc054-7809-4a45-baf2-5944fa36f790",
   "metadata": {},
   "outputs": [],
   "source": [
    "lr_proba = lr.predict_proba(Xtest_imputed_df)[:,1]\n",
    "lr_fpr, lr_tpr, lr_threshold = roc_curve(ytest, lr_proba)\n",
    "lr_auc = auc(lr_fpr, lr_tpr)\n",
    "\n",
    "tree_proba = tree.predict_proba(Xtest_imputed_df)[:,1]\n",
    "tree_fpr, tree_tpr, tree_threshold = roc_curve(ytest, tree_proba)\n",
    "tree_auc = auc(tree_fpr, tree_tpr)\n",
    "\n",
    "rf_proba = rf.predict_proba(Xtest_imputed_df)[:,1]\n",
    "rf_fpr, rf_tpr, rf_threshold = roc_curve(ytest, rf_proba)\n",
    "rf_auc = auc(rf_fpr, rf_tpr)\n",
    "\n",
    "svc_proba = svc.predict_proba(Xtest_imputed_df)[:,1]\n",
    "svc_fpr, svc_tpr, svc_threshold = roc_curve(ytest, svc_proba)\n",
    "svc_auc = auc(svc_fpr, svc_tpr)\n",
    "\n",
    "gbc_proba = gbc.predict_proba(Xtest_imputed_df)[:,1]\n",
    "gbc_fpr, gbc_tpr, gbc_threshold = roc_curve(ytest, gbc_proba)\n",
    "gbc_auc = auc(gbc_fpr, gbc_tpr)\n",
    "\n",
    "knn_proba = knn.predict_proba(Xtest_imputed_df)[:,1]\n",
    "knn_fpr, knn_tpr, knn_threshold = roc_curve(ytest, knn_proba)\n",
    "knn_auc = auc(knn_fpr, knn_tpr)\n",
    "\n",
    "res = [lr_fpr, lr_tpr, tree_fpr, tree_tpr, rf_fpr, rf_tpr, svc_fpr, svc_tpr, gbc_fpr, gbc_tpr, knn_fpr, knn_tpr]\n",
    "res_df = pd.DataFrame(res)\n",
    "res_df = res_df.T\n",
    "res_df.columns=['lr_fpr', 'lr_tpr', 'tree_fpr', 'tree_tpr', 'rf_fpr', 'rf_tpr', 'svc_fpr', 'svc_tpr', 'gbc_fpr', 'gbc_tpr', 'knn_fpr', 'knn_tpr']\n",
    "res_df.to_csv('data/ROC_curve.csv', index=False)"
   ]
  },
  {
   "cell_type": "code",
   "execution_count": 649,
   "id": "8fc1b231-f459-4b7a-bb00-b3d35999ff26",
   "metadata": {},
   "outputs": [
    {
     "data": {
      "application/vnd.plotly.v1+json": {
       "config": {
        "plotlyServerURL": "https://plot.ly"
       },
       "data": [
        {
         "line": {
          "color": "blue"
         },
         "mode": "lines",
         "name": "Logistic Regression (AUC = 0.82)",
         "type": "scatter",
         "x": [
          0,
          0.01,
          0.01,
          0.03,
          0.03,
          0.05,
          0.05,
          0.06,
          0.06,
          0.07,
          0.07,
          0.08,
          0.08,
          0.1,
          0.1,
          0.13,
          0.13,
          0.15,
          0.15,
          0.16,
          0.16,
          0.17,
          0.17,
          0.18,
          0.18,
          0.19,
          0.19,
          0.2,
          0.2,
          0.22,
          0.22,
          0.24,
          0.24,
          0.27,
          0.27,
          0.29,
          0.29,
          0.32,
          0.32,
          0.33,
          0.33,
          0.39,
          0.39,
          0.4,
          0.4,
          0.48,
          0.48,
          0.49,
          0.49,
          0.54,
          0.54,
          0.87,
          0.87,
          1,
          null,
          null,
          null,
          null
         ],
         "y": [
          0,
          0,
          0.037037037037037035,
          0.037037037037037035,
          0.12962962962962962,
          0.12962962962962962,
          0.16666666666666666,
          0.16666666666666666,
          0.2962962962962963,
          0.2962962962962963,
          0.3333333333333333,
          0.3333333333333333,
          0.35185185185185186,
          0.35185185185185186,
          0.4074074074074074,
          0.4074074074074074,
          0.42592592592592593,
          0.42592592592592593,
          0.48148148148148145,
          0.48148148148148145,
          0.5,
          0.5,
          0.5555555555555556,
          0.5555555555555556,
          0.5740740740740741,
          0.5740740740740741,
          0.6666666666666666,
          0.6666666666666666,
          0.6851851851851852,
          0.6851851851851852,
          0.7592592592592593,
          0.7592592592592593,
          0.7777777777777778,
          0.7777777777777778,
          0.8148148148148148,
          0.8148148148148148,
          0.8333333333333334,
          0.8333333333333334,
          0.8518518518518519,
          0.8518518518518519,
          0.8703703703703703,
          0.8703703703703703,
          0.9074074074074074,
          0.9074074074074074,
          0.9259259259259259,
          0.9259259259259259,
          0.9444444444444444,
          0.9444444444444444,
          0.9629629629629629,
          0.9629629629629629,
          0.9814814814814815,
          0.9814814814814815,
          1,
          1,
          null,
          null,
          null,
          null
         ]
        },
        {
         "line": {
          "color": "green"
         },
         "mode": "lines",
         "name": "Decison Tree (AUC = 0.78)",
         "type": "scatter",
         "x": [
          0,
          0.02,
          0.07,
          0.12,
          0.12,
          0.16,
          0.2,
          0.23,
          0.3,
          0.37,
          0.4,
          0.41,
          0.46,
          0.51,
          1,
          null,
          null,
          null,
          null,
          null,
          null,
          null,
          null,
          null,
          null,
          null,
          null,
          null,
          null,
          null,
          null,
          null,
          null,
          null,
          null,
          null,
          null,
          null,
          null,
          null,
          null,
          null,
          null,
          null,
          null,
          null,
          null,
          null,
          null,
          null,
          null,
          null,
          null,
          null,
          null,
          null,
          null,
          null
         ],
         "y": [
          0,
          0,
          0.24074074074074073,
          0.3888888888888889,
          0.4074074074074074,
          0.42592592592592593,
          0.6666666666666666,
          0.7592592592592593,
          0.7962962962962963,
          0.7962962962962963,
          0.8333333333333334,
          0.8888888888888888,
          0.9259259259259259,
          0.9259259259259259,
          1,
          null,
          null,
          null,
          null,
          null,
          null,
          null,
          null,
          null,
          null,
          null,
          null,
          null,
          null,
          null,
          null,
          null,
          null,
          null,
          null,
          null,
          null,
          null,
          null,
          null,
          null,
          null,
          null,
          null,
          null,
          null,
          null,
          null,
          null,
          null,
          null,
          null,
          null,
          null,
          null,
          null,
          null,
          null
         ]
        },
        {
         "line": {
          "color": "orange"
         },
         "mode": "lines",
         "name": "Random Forest (AUC = 0.83)",
         "type": "scatter",
         "x": [
          0,
          0.01,
          0.01,
          0.03,
          0.03,
          0.04,
          0.04,
          0.05,
          0.05,
          0.06,
          0.06,
          0.07,
          0.07,
          0.08,
          0.08,
          0.09,
          0.09,
          0.1,
          0.1,
          0.11,
          0.11,
          0.13,
          0.13,
          0.14,
          0.14,
          0.15,
          0.15,
          0.18,
          0.18,
          0.19,
          0.19,
          0.2,
          0.2,
          0.21,
          0.21,
          0.22,
          0.22,
          0.23,
          0.23,
          0.25,
          0.25,
          0.4,
          0.4,
          0.42,
          0.42,
          0.48,
          0.48,
          0.65,
          0.65,
          0.67,
          0.67,
          1,
          null,
          null,
          null,
          null,
          null,
          null
         ],
         "y": [
          0,
          0,
          0.037037037037037035,
          0.037037037037037035,
          0.09259259259259259,
          0.09259259259259259,
          0.12962962962962962,
          0.12962962962962962,
          0.14814814814814814,
          0.14814814814814814,
          0.18518518518518517,
          0.18518518518518517,
          0.2037037037037037,
          0.2037037037037037,
          0.25925925925925924,
          0.25925925925925924,
          0.3333333333333333,
          0.3333333333333333,
          0.37037037037037035,
          0.37037037037037035,
          0.4074074074074074,
          0.4074074074074074,
          0.5,
          0.5,
          0.5555555555555556,
          0.5555555555555556,
          0.5925925925925926,
          0.5925925925925926,
          0.6111111111111112,
          0.6111111111111112,
          0.6296296296296297,
          0.6296296296296297,
          0.6666666666666666,
          0.6666666666666666,
          0.7962962962962963,
          0.7962962962962963,
          0.8518518518518519,
          0.8518518518518519,
          0.8703703703703703,
          0.8703703703703703,
          0.8888888888888888,
          0.8888888888888888,
          0.9074074074074074,
          0.9074074074074074,
          0.9259259259259259,
          0.9259259259259259,
          0.9629629629629629,
          0.9629629629629629,
          0.9814814814814815,
          0.9814814814814815,
          1,
          1,
          null,
          null,
          null,
          null,
          null,
          null
         ]
        },
        {
         "line": {
          "color": "red"
         },
         "mode": "lines",
         "name": "Support Vector Machine (AUC = 0.83)",
         "type": "scatter",
         "x": [
          0,
          0.01,
          0.01,
          0.02,
          0.02,
          0.03,
          0.03,
          0.05,
          0.05,
          0.07,
          0.07,
          0.09,
          0.09,
          0.1,
          0.1,
          0.11,
          0.11,
          0.12,
          0.12,
          0.14,
          0.14,
          0.15,
          0.15,
          0.17,
          0.17,
          0.19,
          0.19,
          0.2,
          0.2,
          0.21,
          0.21,
          0.22,
          0.22,
          0.26,
          0.26,
          0.29,
          0.29,
          0.38,
          0.38,
          0.53,
          0.53,
          0.59,
          0.59,
          0.62,
          0.62,
          0.95,
          0.95,
          1,
          null,
          null,
          null,
          null,
          null,
          null,
          null,
          null,
          null,
          null
         ],
         "y": [
          0,
          0,
          0.07407407407407407,
          0.07407407407407407,
          0.12962962962962962,
          0.12962962962962962,
          0.16666666666666666,
          0.16666666666666666,
          0.25925925925925924,
          0.25925925925925924,
          0.2777777777777778,
          0.2777777777777778,
          0.3333333333333333,
          0.3333333333333333,
          0.37037037037037035,
          0.37037037037037035,
          0.4074074074074074,
          0.4074074074074074,
          0.42592592592592593,
          0.42592592592592593,
          0.6296296296296297,
          0.6296296296296297,
          0.6481481481481481,
          0.6481481481481481,
          0.6851851851851852,
          0.6851851851851852,
          0.7777777777777778,
          0.7777777777777778,
          0.7962962962962963,
          0.7962962962962963,
          0.8148148148148148,
          0.8148148148148148,
          0.8703703703703703,
          0.8703703703703703,
          0.8888888888888888,
          0.8888888888888888,
          0.9074074074074074,
          0.9074074074074074,
          0.9259259259259259,
          0.9259259259259259,
          0.9444444444444444,
          0.9444444444444444,
          0.9629629629629629,
          0.9629629629629629,
          0.9814814814814815,
          0.9814814814814815,
          1,
          1,
          null,
          null,
          null,
          null,
          null,
          null,
          null,
          null,
          null,
          null
         ]
        },
        {
         "line": {
          "color": "yellow"
         },
         "mode": "lines",
         "name": "Gradient Boosting (AUC = 0.83)",
         "type": "scatter",
         "x": [
          0,
          0.01,
          0.01,
          0.04,
          0.04,
          0.06,
          0.06,
          0.09,
          0.09,
          0.1,
          0.1,
          0.11,
          0.11,
          0.12,
          0.12,
          0.14,
          0.14,
          0.15,
          0.15,
          0.16,
          0.16,
          0.17,
          0.17,
          0.18,
          0.18,
          0.2,
          0.2,
          0.21,
          0.21,
          0.22,
          0.22,
          0.23,
          0.23,
          0.24,
          0.24,
          0.26,
          0.26,
          0.29,
          0.29,
          0.3,
          0.3,
          0.34,
          0.34,
          0.42,
          0.42,
          0.44,
          0.44,
          0.46,
          0.46,
          0.48,
          0.48,
          0.54,
          0.54,
          0.59,
          0.59,
          0.71,
          0.71,
          1
         ],
         "y": [
          0,
          0,
          0.1111111111111111,
          0.1111111111111111,
          0.16666666666666666,
          0.16666666666666666,
          0.25925925925925924,
          0.25925925925925924,
          0.3148148148148148,
          0.3148148148148148,
          0.3333333333333333,
          0.3333333333333333,
          0.37037037037037035,
          0.37037037037037035,
          0.4444444444444444,
          0.4444444444444444,
          0.46296296296296297,
          0.46296296296296297,
          0.5,
          0.5,
          0.5925925925925926,
          0.5925925925925926,
          0.6296296296296297,
          0.6296296296296297,
          0.6666666666666666,
          0.6666666666666666,
          0.6851851851851852,
          0.6851851851851852,
          0.7037037037037037,
          0.7037037037037037,
          0.7592592592592593,
          0.7592592592592593,
          0.7777777777777778,
          0.7777777777777778,
          0.7962962962962963,
          0.7962962962962963,
          0.8148148148148148,
          0.8148148148148148,
          0.8333333333333334,
          0.8333333333333334,
          0.8518518518518519,
          0.8518518518518519,
          0.8703703703703703,
          0.8703703703703703,
          0.8888888888888888,
          0.8888888888888888,
          0.9074074074074074,
          0.9074074074074074,
          0.9259259259259259,
          0.9259259259259259,
          0.9444444444444444,
          0.9444444444444444,
          0.9629629629629629,
          0.9629629629629629,
          0.9814814814814815,
          0.9814814814814815,
          1,
          1
         ]
        },
        {
         "line": {
          "color": "purple"
         },
         "mode": "lines",
         "name": "K Nearest Neighbors (AUC = 0.82)",
         "type": "scatter",
         "x": [
          0,
          0.03,
          0.07,
          0.18,
          0.32,
          0.53,
          1,
          null,
          null,
          null,
          null,
          null,
          null,
          null,
          null,
          null,
          null,
          null,
          null,
          null,
          null,
          null,
          null,
          null,
          null,
          null,
          null,
          null,
          null,
          null,
          null,
          null,
          null,
          null,
          null,
          null,
          null,
          null,
          null,
          null,
          null,
          null,
          null,
          null,
          null,
          null,
          null,
          null,
          null,
          null,
          null,
          null,
          null,
          null,
          null,
          null,
          null,
          null
         ],
         "y": [
          0,
          0.09259259259259259,
          0.2222222222222222,
          0.5185185185185185,
          0.7777777777777778,
          0.9629629629629629,
          1,
          null,
          null,
          null,
          null,
          null,
          null,
          null,
          null,
          null,
          null,
          null,
          null,
          null,
          null,
          null,
          null,
          null,
          null,
          null,
          null,
          null,
          null,
          null,
          null,
          null,
          null,
          null,
          null,
          null,
          null,
          null,
          null,
          null,
          null,
          null,
          null,
          null,
          null,
          null,
          null,
          null,
          null,
          null,
          null,
          null,
          null,
          null,
          null,
          null,
          null,
          null
         ]
        },
        {
         "line": {
          "color": "white",
          "dash": "dash"
         },
         "mode": "lines",
         "name": "Random guess",
         "type": "scatter",
         "x": [
          0,
          1
         ],
         "y": [
          0,
          1
         ]
        }
       ],
       "layout": {
        "autosize": true,
        "showlegend": true,
        "template": {
         "data": {
          "bar": [
           {
            "error_x": {
             "color": "#f2f5fa"
            },
            "error_y": {
             "color": "#f2f5fa"
            },
            "marker": {
             "line": {
              "color": "rgb(17,17,17)",
              "width": 0.5
             },
             "pattern": {
              "fillmode": "overlay",
              "size": 10,
              "solidity": 0.2
             }
            },
            "type": "bar"
           }
          ],
          "barpolar": [
           {
            "marker": {
             "line": {
              "color": "rgb(17,17,17)",
              "width": 0.5
             },
             "pattern": {
              "fillmode": "overlay",
              "size": 10,
              "solidity": 0.2
             }
            },
            "type": "barpolar"
           }
          ],
          "carpet": [
           {
            "aaxis": {
             "endlinecolor": "#A2B1C6",
             "gridcolor": "#506784",
             "linecolor": "#506784",
             "minorgridcolor": "#506784",
             "startlinecolor": "#A2B1C6"
            },
            "baxis": {
             "endlinecolor": "#A2B1C6",
             "gridcolor": "#506784",
             "linecolor": "#506784",
             "minorgridcolor": "#506784",
             "startlinecolor": "#A2B1C6"
            },
            "type": "carpet"
           }
          ],
          "choropleth": [
           {
            "colorbar": {
             "outlinewidth": 0,
             "ticks": ""
            },
            "type": "choropleth"
           }
          ],
          "contour": [
           {
            "colorbar": {
             "outlinewidth": 0,
             "ticks": ""
            },
            "colorscale": [
             [
              0,
              "#0d0887"
             ],
             [
              0.1111111111111111,
              "#46039f"
             ],
             [
              0.2222222222222222,
              "#7201a8"
             ],
             [
              0.3333333333333333,
              "#9c179e"
             ],
             [
              0.4444444444444444,
              "#bd3786"
             ],
             [
              0.5555555555555556,
              "#d8576b"
             ],
             [
              0.6666666666666666,
              "#ed7953"
             ],
             [
              0.7777777777777778,
              "#fb9f3a"
             ],
             [
              0.8888888888888888,
              "#fdca26"
             ],
             [
              1,
              "#f0f921"
             ]
            ],
            "type": "contour"
           }
          ],
          "contourcarpet": [
           {
            "colorbar": {
             "outlinewidth": 0,
             "ticks": ""
            },
            "type": "contourcarpet"
           }
          ],
          "heatmap": [
           {
            "colorbar": {
             "outlinewidth": 0,
             "ticks": ""
            },
            "colorscale": [
             [
              0,
              "#0d0887"
             ],
             [
              0.1111111111111111,
              "#46039f"
             ],
             [
              0.2222222222222222,
              "#7201a8"
             ],
             [
              0.3333333333333333,
              "#9c179e"
             ],
             [
              0.4444444444444444,
              "#bd3786"
             ],
             [
              0.5555555555555556,
              "#d8576b"
             ],
             [
              0.6666666666666666,
              "#ed7953"
             ],
             [
              0.7777777777777778,
              "#fb9f3a"
             ],
             [
              0.8888888888888888,
              "#fdca26"
             ],
             [
              1,
              "#f0f921"
             ]
            ],
            "type": "heatmap"
           }
          ],
          "heatmapgl": [
           {
            "colorbar": {
             "outlinewidth": 0,
             "ticks": ""
            },
            "colorscale": [
             [
              0,
              "#0d0887"
             ],
             [
              0.1111111111111111,
              "#46039f"
             ],
             [
              0.2222222222222222,
              "#7201a8"
             ],
             [
              0.3333333333333333,
              "#9c179e"
             ],
             [
              0.4444444444444444,
              "#bd3786"
             ],
             [
              0.5555555555555556,
              "#d8576b"
             ],
             [
              0.6666666666666666,
              "#ed7953"
             ],
             [
              0.7777777777777778,
              "#fb9f3a"
             ],
             [
              0.8888888888888888,
              "#fdca26"
             ],
             [
              1,
              "#f0f921"
             ]
            ],
            "type": "heatmapgl"
           }
          ],
          "histogram": [
           {
            "marker": {
             "pattern": {
              "fillmode": "overlay",
              "size": 10,
              "solidity": 0.2
             }
            },
            "type": "histogram"
           }
          ],
          "histogram2d": [
           {
            "colorbar": {
             "outlinewidth": 0,
             "ticks": ""
            },
            "colorscale": [
             [
              0,
              "#0d0887"
             ],
             [
              0.1111111111111111,
              "#46039f"
             ],
             [
              0.2222222222222222,
              "#7201a8"
             ],
             [
              0.3333333333333333,
              "#9c179e"
             ],
             [
              0.4444444444444444,
              "#bd3786"
             ],
             [
              0.5555555555555556,
              "#d8576b"
             ],
             [
              0.6666666666666666,
              "#ed7953"
             ],
             [
              0.7777777777777778,
              "#fb9f3a"
             ],
             [
              0.8888888888888888,
              "#fdca26"
             ],
             [
              1,
              "#f0f921"
             ]
            ],
            "type": "histogram2d"
           }
          ],
          "histogram2dcontour": [
           {
            "colorbar": {
             "outlinewidth": 0,
             "ticks": ""
            },
            "colorscale": [
             [
              0,
              "#0d0887"
             ],
             [
              0.1111111111111111,
              "#46039f"
             ],
             [
              0.2222222222222222,
              "#7201a8"
             ],
             [
              0.3333333333333333,
              "#9c179e"
             ],
             [
              0.4444444444444444,
              "#bd3786"
             ],
             [
              0.5555555555555556,
              "#d8576b"
             ],
             [
              0.6666666666666666,
              "#ed7953"
             ],
             [
              0.7777777777777778,
              "#fb9f3a"
             ],
             [
              0.8888888888888888,
              "#fdca26"
             ],
             [
              1,
              "#f0f921"
             ]
            ],
            "type": "histogram2dcontour"
           }
          ],
          "mesh3d": [
           {
            "colorbar": {
             "outlinewidth": 0,
             "ticks": ""
            },
            "type": "mesh3d"
           }
          ],
          "parcoords": [
           {
            "line": {
             "colorbar": {
              "outlinewidth": 0,
              "ticks": ""
             }
            },
            "type": "parcoords"
           }
          ],
          "pie": [
           {
            "automargin": true,
            "type": "pie"
           }
          ],
          "scatter": [
           {
            "marker": {
             "line": {
              "color": "#283442"
             }
            },
            "type": "scatter"
           }
          ],
          "scatter3d": [
           {
            "line": {
             "colorbar": {
              "outlinewidth": 0,
              "ticks": ""
             }
            },
            "marker": {
             "colorbar": {
              "outlinewidth": 0,
              "ticks": ""
             }
            },
            "type": "scatter3d"
           }
          ],
          "scattercarpet": [
           {
            "marker": {
             "colorbar": {
              "outlinewidth": 0,
              "ticks": ""
             }
            },
            "type": "scattercarpet"
           }
          ],
          "scattergeo": [
           {
            "marker": {
             "colorbar": {
              "outlinewidth": 0,
              "ticks": ""
             }
            },
            "type": "scattergeo"
           }
          ],
          "scattergl": [
           {
            "marker": {
             "line": {
              "color": "#283442"
             }
            },
            "type": "scattergl"
           }
          ],
          "scattermapbox": [
           {
            "marker": {
             "colorbar": {
              "outlinewidth": 0,
              "ticks": ""
             }
            },
            "type": "scattermapbox"
           }
          ],
          "scatterpolar": [
           {
            "marker": {
             "colorbar": {
              "outlinewidth": 0,
              "ticks": ""
             }
            },
            "type": "scatterpolar"
           }
          ],
          "scatterpolargl": [
           {
            "marker": {
             "colorbar": {
              "outlinewidth": 0,
              "ticks": ""
             }
            },
            "type": "scatterpolargl"
           }
          ],
          "scatterternary": [
           {
            "marker": {
             "colorbar": {
              "outlinewidth": 0,
              "ticks": ""
             }
            },
            "type": "scatterternary"
           }
          ],
          "surface": [
           {
            "colorbar": {
             "outlinewidth": 0,
             "ticks": ""
            },
            "colorscale": [
             [
              0,
              "#0d0887"
             ],
             [
              0.1111111111111111,
              "#46039f"
             ],
             [
              0.2222222222222222,
              "#7201a8"
             ],
             [
              0.3333333333333333,
              "#9c179e"
             ],
             [
              0.4444444444444444,
              "#bd3786"
             ],
             [
              0.5555555555555556,
              "#d8576b"
             ],
             [
              0.6666666666666666,
              "#ed7953"
             ],
             [
              0.7777777777777778,
              "#fb9f3a"
             ],
             [
              0.8888888888888888,
              "#fdca26"
             ],
             [
              1,
              "#f0f921"
             ]
            ],
            "type": "surface"
           }
          ],
          "table": [
           {
            "cells": {
             "fill": {
              "color": "#506784"
             },
             "line": {
              "color": "rgb(17,17,17)"
             }
            },
            "header": {
             "fill": {
              "color": "#2a3f5f"
             },
             "line": {
              "color": "rgb(17,17,17)"
             }
            },
            "type": "table"
           }
          ]
         },
         "layout": {
          "annotationdefaults": {
           "arrowcolor": "#f2f5fa",
           "arrowhead": 0,
           "arrowwidth": 1
          },
          "autotypenumbers": "strict",
          "coloraxis": {
           "colorbar": {
            "outlinewidth": 0,
            "ticks": ""
           }
          },
          "colorscale": {
           "diverging": [
            [
             0,
             "#8e0152"
            ],
            [
             0.1,
             "#c51b7d"
            ],
            [
             0.2,
             "#de77ae"
            ],
            [
             0.3,
             "#f1b6da"
            ],
            [
             0.4,
             "#fde0ef"
            ],
            [
             0.5,
             "#f7f7f7"
            ],
            [
             0.6,
             "#e6f5d0"
            ],
            [
             0.7,
             "#b8e186"
            ],
            [
             0.8,
             "#7fbc41"
            ],
            [
             0.9,
             "#4d9221"
            ],
            [
             1,
             "#276419"
            ]
           ],
           "sequential": [
            [
             0,
             "#0d0887"
            ],
            [
             0.1111111111111111,
             "#46039f"
            ],
            [
             0.2222222222222222,
             "#7201a8"
            ],
            [
             0.3333333333333333,
             "#9c179e"
            ],
            [
             0.4444444444444444,
             "#bd3786"
            ],
            [
             0.5555555555555556,
             "#d8576b"
            ],
            [
             0.6666666666666666,
             "#ed7953"
            ],
            [
             0.7777777777777778,
             "#fb9f3a"
            ],
            [
             0.8888888888888888,
             "#fdca26"
            ],
            [
             1,
             "#f0f921"
            ]
           ],
           "sequentialminus": [
            [
             0,
             "#0d0887"
            ],
            [
             0.1111111111111111,
             "#46039f"
            ],
            [
             0.2222222222222222,
             "#7201a8"
            ],
            [
             0.3333333333333333,
             "#9c179e"
            ],
            [
             0.4444444444444444,
             "#bd3786"
            ],
            [
             0.5555555555555556,
             "#d8576b"
            ],
            [
             0.6666666666666666,
             "#ed7953"
            ],
            [
             0.7777777777777778,
             "#fb9f3a"
            ],
            [
             0.8888888888888888,
             "#fdca26"
            ],
            [
             1,
             "#f0f921"
            ]
           ]
          },
          "colorway": [
           "#636efa",
           "#EF553B",
           "#00cc96",
           "#ab63fa",
           "#FFA15A",
           "#19d3f3",
           "#FF6692",
           "#B6E880",
           "#FF97FF",
           "#FECB52"
          ],
          "font": {
           "color": "#f2f5fa"
          },
          "geo": {
           "bgcolor": "rgb(17,17,17)",
           "lakecolor": "rgb(17,17,17)",
           "landcolor": "rgb(17,17,17)",
           "showlakes": true,
           "showland": true,
           "subunitcolor": "#506784"
          },
          "hoverlabel": {
           "align": "left"
          },
          "hovermode": "closest",
          "mapbox": {
           "style": "dark"
          },
          "paper_bgcolor": "rgb(17,17,17)",
          "plot_bgcolor": "rgb(17,17,17)",
          "polar": {
           "angularaxis": {
            "gridcolor": "#506784",
            "linecolor": "#506784",
            "ticks": ""
           },
           "bgcolor": "rgb(17,17,17)",
           "radialaxis": {
            "gridcolor": "#506784",
            "linecolor": "#506784",
            "ticks": ""
           }
          },
          "scene": {
           "xaxis": {
            "backgroundcolor": "rgb(17,17,17)",
            "gridcolor": "#506784",
            "gridwidth": 2,
            "linecolor": "#506784",
            "showbackground": true,
            "ticks": "",
            "zerolinecolor": "#C8D4E3"
           },
           "yaxis": {
            "backgroundcolor": "rgb(17,17,17)",
            "gridcolor": "#506784",
            "gridwidth": 2,
            "linecolor": "#506784",
            "showbackground": true,
            "ticks": "",
            "zerolinecolor": "#C8D4E3"
           },
           "zaxis": {
            "backgroundcolor": "rgb(17,17,17)",
            "gridcolor": "#506784",
            "gridwidth": 2,
            "linecolor": "#506784",
            "showbackground": true,
            "ticks": "",
            "zerolinecolor": "#C8D4E3"
           }
          },
          "shapedefaults": {
           "line": {
            "color": "#f2f5fa"
           }
          },
          "sliderdefaults": {
           "bgcolor": "#C8D4E3",
           "bordercolor": "rgb(17,17,17)",
           "borderwidth": 1,
           "tickwidth": 0
          },
          "ternary": {
           "aaxis": {
            "gridcolor": "#506784",
            "linecolor": "#506784",
            "ticks": ""
           },
           "baxis": {
            "gridcolor": "#506784",
            "linecolor": "#506784",
            "ticks": ""
           },
           "bgcolor": "rgb(17,17,17)",
           "caxis": {
            "gridcolor": "#506784",
            "linecolor": "#506784",
            "ticks": ""
           }
          },
          "title": {
           "x": 0.05
          },
          "updatemenudefaults": {
           "bgcolor": "#506784",
           "borderwidth": 0
          },
          "xaxis": {
           "automargin": true,
           "gridcolor": "#283442",
           "linecolor": "#506784",
           "ticks": "",
           "title": {
            "standoff": 15
           },
           "zerolinecolor": "#283442",
           "zerolinewidth": 2
          },
          "yaxis": {
           "automargin": true,
           "gridcolor": "#283442",
           "linecolor": "#506784",
           "ticks": "",
           "title": {
            "standoff": 15
           },
           "zerolinecolor": "#283442",
           "zerolinewidth": 2
          }
         }
        },
        "title": {
         "text": "Receiver Operating Characteristic (ROC) Curve"
        },
        "xaxis": {
         "autorange": true,
         "constrain": "domain",
         "range": [
          0,
          1
         ],
         "title": {
          "text": "False Positive Rate"
         },
         "type": "linear"
        },
        "yaxis": {
         "autorange": true,
         "constrain": "domain",
         "range": [
          -0.05555555555555555,
          1.0555555555555556
         ],
         "title": {
          "text": "True Positive Rate"
         },
         "type": "linear"
        }
       }
      },
      "image/png": "[encoded data removed]",
      "text/html": [
       "<div>                            <div id=\"71e690c6-88a7-410d-b6e8-1d2aab27922d\" class=\"plotly-graph-div\" style=\"height:300px; width:100%;\"></div>            <script type=\"text/javascript\">                require([\"plotly\"], function(Plotly) {                    window.PLOTLYENV=window.PLOTLYENV || {};                                    if (document.getElementById(\"71e690c6-88a7-410d-b6e8-1d2aab27922d\")) {                    Plotly.newPlot(                        \"71e690c6-88a7-410d-b6e8-1d2aab27922d\",                        [{\"line\":{\"color\":\"blue\"},\"mode\":\"lines\",\"name\":\"Logistic Regression (AUC = 0.82)\",\"x\":[0.0,0.01,0.01,0.03,0.03,0.05,0.05,0.06,0.06,0.07,0.07,0.08,0.08,0.1,0.1,0.13,0.13,0.15,0.15,0.16,0.16,0.17,0.17,0.18,0.18,0.19,0.19,0.2,0.2,0.22,0.22,0.24,0.24,0.27,0.27,0.29,0.29,0.32,0.32,0.33,0.33,0.39,0.39,0.4,0.4,0.48,0.48,0.49,0.49,0.54,0.54,0.87,0.87,1.0,null,null,null,null],\"y\":[0.0,0.0,0.037037037037037035,0.037037037037037035,0.12962962962962962,0.12962962962962962,0.16666666666666666,0.16666666666666666,0.2962962962962963,0.2962962962962963,0.3333333333333333,0.3333333333333333,0.35185185185185186,0.35185185185185186,0.4074074074074074,0.4074074074074074,0.42592592592592593,0.42592592592592593,0.48148148148148145,0.48148148148148145,0.5,0.5,0.5555555555555556,0.5555555555555556,0.5740740740740741,0.5740740740740741,0.6666666666666666,0.6666666666666666,0.6851851851851852,0.6851851851851852,0.7592592592592593,0.7592592592592593,0.7777777777777778,0.7777777777777778,0.8148148148148148,0.8148148148148148,0.8333333333333334,0.8333333333333334,0.8518518518518519,0.8518518518518519,0.8703703703703703,0.8703703703703703,0.9074074074074074,0.9074074074074074,0.9259259259259259,0.9259259259259259,0.9444444444444444,0.9444444444444444,0.9629629629629629,0.9629629629629629,0.9814814814814815,0.9814814814814815,1.0,1.0,null,null,null,null],\"type\":\"scatter\"},{\"line\":{\"color\":\"green\"},\"mode\":\"lines\",\"name\":\"Decison Tree (AUC = 0.78)\",\"x\":[0.0,0.02,0.07,0.12,0.12,0.16,0.2,0.23,0.3,0.37,0.4,0.41,0.46,0.51,1.0,null,null,null,null,null,null,null,null,null,null,null,null,null,null,null,null,null,null,null,null,null,null,null,null,null,null,null,null,null,null,null,null,null,null,null,null,null,null,null,null,null,null,null],\"y\":[0.0,0.0,0.24074074074074073,0.3888888888888889,0.4074074074074074,0.42592592592592593,0.6666666666666666,0.7592592592592593,0.7962962962962963,0.7962962962962963,0.8333333333333334,0.8888888888888888,0.9259259259259259,0.9259259259259259,1.0,null,null,null,null,null,null,null,null,null,null,null,null,null,null,null,null,null,null,null,null,null,null,null,null,null,null,null,null,null,null,null,null,null,null,null,null,null,null,null,null,null,null,null],\"type\":\"scatter\"},{\"line\":{\"color\":\"orange\"},\"mode\":\"lines\",\"name\":\"Random Forest (AUC = 0.83)\",\"x\":[0.0,0.01,0.01,0.03,0.03,0.04,0.04,0.05,0.05,0.06,0.06,0.07,0.07,0.08,0.08,0.09,0.09,0.1,0.1,0.11,0.11,0.13,0.13,0.14,0.14,0.15,0.15,0.18,0.18,0.19,0.19,0.2,0.2,0.21,0.21,0.22,0.22,0.23,0.23,0.25,0.25,0.4,0.4,0.42,0.42,0.48,0.48,0.65,0.65,0.67,0.67,1.0,null,null,null,null,null,null],\"y\":[0.0,0.0,0.037037037037037035,0.037037037037037035,0.09259259259259259,0.09259259259259259,0.12962962962962962,0.12962962962962962,0.14814814814814814,0.14814814814814814,0.18518518518518517,0.18518518518518517,0.2037037037037037,0.2037037037037037,0.25925925925925924,0.25925925925925924,0.3333333333333333,0.3333333333333333,0.37037037037037035,0.37037037037037035,0.4074074074074074,0.4074074074074074,0.5,0.5,0.5555555555555556,0.5555555555555556,0.5925925925925926,0.5925925925925926,0.6111111111111112,0.6111111111111112,0.6296296296296297,0.6296296296296297,0.6666666666666666,0.6666666666666666,0.7962962962962963,0.7962962962962963,0.8518518518518519,0.8518518518518519,0.8703703703703703,0.8703703703703703,0.8888888888888888,0.8888888888888888,0.9074074074074074,0.9074074074074074,0.9259259259259259,0.9259259259259259,0.9629629629629629,0.9629629629629629,0.9814814814814815,0.9814814814814815,1.0,1.0,null,null,null,null,null,null],\"type\":\"scatter\"},{\"line\":{\"color\":\"red\"},\"mode\":\"lines\",\"name\":\"Support Vector Machine (AUC = 0.83)\",\"x\":[0.0,0.01,0.01,0.02,0.02,0.03,0.03,0.05,0.05,0.07,0.07,0.09,0.09,0.1,0.1,0.11,0.11,0.12,0.12,0.14,0.14,0.15,0.15,0.17,0.17,0.19,0.19,0.2,0.2,0.21,0.21,0.22,0.22,0.26,0.26,0.29,0.29,0.38,0.38,0.53,0.53,0.59,0.59,0.62,0.62,0.95,0.95,1.0,null,null,null,null,null,null,null,null,null,null],\"y\":[0.0,0.0,0.07407407407407407,0.07407407407407407,0.12962962962962962,0.12962962962962962,0.16666666666666666,0.16666666666666666,0.25925925925925924,0.25925925925925924,0.2777777777777778,0.2777777777777778,0.3333333333333333,0.3333333333333333,0.37037037037037035,0.37037037037037035,0.4074074074074074,0.4074074074074074,0.42592592592592593,0.42592592592592593,0.6296296296296297,0.6296296296296297,0.6481481481481481,0.6481481481481481,0.6851851851851852,0.6851851851851852,0.7777777777777778,0.7777777777777778,0.7962962962962963,0.7962962962962963,0.8148148148148148,0.8148148148148148,0.8703703703703703,0.8703703703703703,0.8888888888888888,0.8888888888888888,0.9074074074074074,0.9074074074074074,0.9259259259259259,0.9259259259259259,0.9444444444444444,0.9444444444444444,0.9629629629629629,0.9629629629629629,0.9814814814814815,0.9814814814814815,1.0,1.0,null,null,null,null,null,null,null,null,null,null],\"type\":\"scatter\"},{\"line\":{\"color\":\"yellow\"},\"mode\":\"lines\",\"name\":\"Gradient Boosting (AUC = 0.83)\",\"x\":[0.0,0.01,0.01,0.04,0.04,0.06,0.06,0.09,0.09,0.1,0.1,0.11,0.11,0.12,0.12,0.14,0.14,0.15,0.15,0.16,0.16,0.17,0.17,0.18,0.18,0.2,0.2,0.21,0.21,0.22,0.22,0.23,0.23,0.24,0.24,0.26,0.26,0.29,0.29,0.3,0.3,0.34,0.34,0.42,0.42,0.44,0.44,0.46,0.46,0.48,0.48,0.54,0.54,0.59,0.59,0.71,0.71,1.0],\"y\":[0.0,0.0,0.1111111111111111,0.1111111111111111,0.16666666666666666,0.16666666666666666,0.25925925925925924,0.25925925925925924,0.3148148148148148,0.3148148148148148,0.3333333333333333,0.3333333333333333,0.37037037037037035,0.37037037037037035,0.4444444444444444,0.4444444444444444,0.46296296296296297,0.46296296296296297,0.5,0.5,0.5925925925925926,0.5925925925925926,0.6296296296296297,0.6296296296296297,0.6666666666666666,0.6666666666666666,0.6851851851851852,0.6851851851851852,0.7037037037037037,0.7037037037037037,0.7592592592592593,0.7592592592592593,0.7777777777777778,0.7777777777777778,0.7962962962962963,0.7962962962962963,0.8148148148148148,0.8148148148148148,0.8333333333333334,0.8333333333333334,0.8518518518518519,0.8518518518518519,0.8703703703703703,0.8703703703703703,0.8888888888888888,0.8888888888888888,0.9074074074074074,0.9074074074074074,0.9259259259259259,0.9259259259259259,0.9444444444444444,0.9444444444444444,0.9629629629629629,0.9629629629629629,0.9814814814814815,0.9814814814814815,1.0,1.0],\"type\":\"scatter\"},{\"line\":{\"color\":\"purple\"},\"mode\":\"lines\",\"name\":\"K Nearest Neighbors (AUC = 0.82)\",\"x\":[0.0,0.03,0.07,0.18,0.32,0.53,1.0,null,null,null,null,null,null,null,null,null,null,null,null,null,null,null,null,null,null,null,null,null,null,null,null,null,null,null,null,null,null,null,null,null,null,null,null,null,null,null,null,null,null,null,null,null,null,null,null,null,null,null],\"y\":[0.0,0.09259259259259259,0.2222222222222222,0.5185185185185185,0.7777777777777778,0.9629629629629629,1.0,null,null,null,null,null,null,null,null,null,null,null,null,null,null,null,null,null,null,null,null,null,null,null,null,null,null,null,null,null,null,null,null,null,null,null,null,null,null,null,null,null,null,null,null,null,null,null,null,null,null,null],\"type\":\"scatter\"},{\"line\":{\"color\":\"white\",\"dash\":\"dash\"},\"mode\":\"lines\",\"name\":\"Random guess\",\"x\":[0,1],\"y\":[0,1],\"type\":\"scatter\"}],                        {\"template\":{\"data\":{\"barpolar\":[{\"marker\":{\"line\":{\"color\":\"rgb(17,17,17)\",\"width\":0.5},\"pattern\":{\"fillmode\":\"overlay\",\"size\":10,\"solidity\":0.2}},\"type\":\"barpolar\"}],\"bar\":[{\"error_x\":{\"color\":\"#f2f5fa\"},\"error_y\":{\"color\":\"#f2f5fa\"},\"marker\":{\"line\":{\"color\":\"rgb(17,17,17)\",\"width\":0.5},\"pattern\":{\"fillmode\":\"overlay\",\"size\":10,\"solidity\":0.2}},\"type\":\"bar\"}],\"carpet\":[{\"aaxis\":{\"endlinecolor\":\"#A2B1C6\",\"gridcolor\":\"#506784\",\"linecolor\":\"#506784\",\"minorgridcolor\":\"#506784\",\"startlinecolor\":\"#A2B1C6\"},\"baxis\":{\"endlinecolor\":\"#A2B1C6\",\"gridcolor\":\"#506784\",\"linecolor\":\"#506784\",\"minorgridcolor\":\"#506784\",\"startlinecolor\":\"#A2B1C6\"},\"type\":\"carpet\"}],\"choropleth\":[{\"colorbar\":{\"outlinewidth\":0,\"ticks\":\"\"},\"type\":\"choropleth\"}],\"contourcarpet\":[{\"colorbar\":{\"outlinewidth\":0,\"ticks\":\"\"},\"type\":\"contourcarpet\"}],\"contour\":[{\"colorbar\":{\"outlinewidth\":0,\"ticks\":\"\"},\"colorscale\":[[0.0,\"#0d0887\"],[0.1111111111111111,\"#46039f\"],[0.2222222222222222,\"#7201a8\"],[0.3333333333333333,\"#9c179e\"],[0.4444444444444444,\"#bd3786\"],[0.5555555555555556,\"#d8576b\"],[0.6666666666666666,\"#ed7953\"],[0.7777777777777778,\"#fb9f3a\"],[0.8888888888888888,\"#fdca26\"],[1.0,\"#f0f921\"]],\"type\":\"contour\"}],\"heatmapgl\":[{\"colorbar\":{\"outlinewidth\":0,\"ticks\":\"\"},\"colorscale\":[[0.0,\"#0d0887\"],[0.1111111111111111,\"#46039f\"],[0.2222222222222222,\"#7201a8\"],[0.3333333333333333,\"#9c179e\"],[0.4444444444444444,\"#bd3786\"],[0.5555555555555556,\"#d8576b\"],[0.6666666666666666,\"#ed7953\"],[0.7777777777777778,\"#fb9f3a\"],[0.8888888888888888,\"#fdca26\"],[1.0,\"#f0f921\"]],\"type\":\"heatmapgl\"}],\"heatmap\":[{\"colorbar\":{\"outlinewidth\":0,\"ticks\":\"\"},\"colorscale\":[[0.0,\"#0d0887\"],[0.1111111111111111,\"#46039f\"],[0.2222222222222222,\"#7201a8\"],[0.3333333333333333,\"#9c179e\"],[0.4444444444444444,\"#bd3786\"],[0.5555555555555556,\"#d8576b\"],[0.6666666666666666,\"#ed7953\"],[0.7777777777777778,\"#fb9f3a\"],[0.8888888888888888,\"#fdca26\"],[1.0,\"#f0f921\"]],\"type\":\"heatmap\"}],\"histogram2dcontour\":[{\"colorbar\":{\"outlinewidth\":0,\"ticks\":\"\"},\"colorscale\":[[0.0,\"#0d0887\"],[0.1111111111111111,\"#46039f\"],[0.2222222222222222,\"#7201a8\"],[0.3333333333333333,\"#9c179e\"],[0.4444444444444444,\"#bd3786\"],[0.5555555555555556,\"#d8576b\"],[0.6666666666666666,\"#ed7953\"],[0.7777777777777778,\"#fb9f3a\"],[0.8888888888888888,\"#fdca26\"],[1.0,\"#f0f921\"]],\"type\":\"histogram2dcontour\"}],\"histogram2d\":[{\"colorbar\":{\"outlinewidth\":0,\"ticks\":\"\"},\"colorscale\":[[0.0,\"#0d0887\"],[0.1111111111111111,\"#46039f\"],[0.2222222222222222,\"#7201a8\"],[0.3333333333333333,\"#9c179e\"],[0.4444444444444444,\"#bd3786\"],[0.5555555555555556,\"#d8576b\"],[0.6666666666666666,\"#ed7953\"],[0.7777777777777778,\"#fb9f3a\"],[0.8888888888888888,\"#fdca26\"],[1.0,\"#f0f921\"]],\"type\":\"histogram2d\"}],\"histogram\":[{\"marker\":{\"pattern\":{\"fillmode\":\"overlay\",\"size\":10,\"solidity\":0.2}},\"type\":\"histogram\"}],\"mesh3d\":[{\"colorbar\":{\"outlinewidth\":0,\"ticks\":\"\"},\"type\":\"mesh3d\"}],\"parcoords\":[{\"line\":{\"colorbar\":{\"outlinewidth\":0,\"ticks\":\"\"}},\"type\":\"parcoords\"}],\"pie\":[{\"automargin\":true,\"type\":\"pie\"}],\"scatter3d\":[{\"line\":{\"colorbar\":{\"outlinewidth\":0,\"ticks\":\"\"}},\"marker\":{\"colorbar\":{\"outlinewidth\":0,\"ticks\":\"\"}},\"type\":\"scatter3d\"}],\"scattercarpet\":[{\"marker\":{\"colorbar\":{\"outlinewidth\":0,\"ticks\":\"\"}},\"type\":\"scattercarpet\"}],\"scattergeo\":[{\"marker\":{\"colorbar\":{\"outlinewidth\":0,\"ticks\":\"\"}},\"type\":\"scattergeo\"}],\"scattergl\":[{\"marker\":{\"line\":{\"color\":\"#283442\"}},\"type\":\"scattergl\"}],\"scattermapbox\":[{\"marker\":{\"colorbar\":{\"outlinewidth\":0,\"ticks\":\"\"}},\"type\":\"scattermapbox\"}],\"scatterpolargl\":[{\"marker\":{\"colorbar\":{\"outlinewidth\":0,\"ticks\":\"\"}},\"type\":\"scatterpolargl\"}],\"scatterpolar\":[{\"marker\":{\"colorbar\":{\"outlinewidth\":0,\"ticks\":\"\"}},\"type\":\"scatterpolar\"}],\"scatter\":[{\"marker\":{\"line\":{\"color\":\"#283442\"}},\"type\":\"scatter\"}],\"scatterternary\":[{\"marker\":{\"colorbar\":{\"outlinewidth\":0,\"ticks\":\"\"}},\"type\":\"scatterternary\"}],\"surface\":[{\"colorbar\":{\"outlinewidth\":0,\"ticks\":\"\"},\"colorscale\":[[0.0,\"#0d0887\"],[0.1111111111111111,\"#46039f\"],[0.2222222222222222,\"#7201a8\"],[0.3333333333333333,\"#9c179e\"],[0.4444444444444444,\"#bd3786\"],[0.5555555555555556,\"#d8576b\"],[0.6666666666666666,\"#ed7953\"],[0.7777777777777778,\"#fb9f3a\"],[0.8888888888888888,\"#fdca26\"],[1.0,\"#f0f921\"]],\"type\":\"surface\"}],\"table\":[{\"cells\":{\"fill\":{\"color\":\"#506784\"},\"line\":{\"color\":\"rgb(17,17,17)\"}},\"header\":{\"fill\":{\"color\":\"#2a3f5f\"},\"line\":{\"color\":\"rgb(17,17,17)\"}},\"type\":\"table\"}]},\"layout\":{\"annotationdefaults\":{\"arrowcolor\":\"#f2f5fa\",\"arrowhead\":0,\"arrowwidth\":1},\"autotypenumbers\":\"strict\",\"coloraxis\":{\"colorbar\":{\"outlinewidth\":0,\"ticks\":\"\"}},\"colorscale\":{\"diverging\":[[0,\"#8e0152\"],[0.1,\"#c51b7d\"],[0.2,\"#de77ae\"],[0.3,\"#f1b6da\"],[0.4,\"#fde0ef\"],[0.5,\"#f7f7f7\"],[0.6,\"#e6f5d0\"],[0.7,\"#b8e186\"],[0.8,\"#7fbc41\"],[0.9,\"#4d9221\"],[1,\"#276419\"]],\"sequential\":[[0.0,\"#0d0887\"],[0.1111111111111111,\"#46039f\"],[0.2222222222222222,\"#7201a8\"],[0.3333333333333333,\"#9c179e\"],[0.4444444444444444,\"#bd3786\"],[0.5555555555555556,\"#d8576b\"],[0.6666666666666666,\"#ed7953\"],[0.7777777777777778,\"#fb9f3a\"],[0.8888888888888888,\"#fdca26\"],[1.0,\"#f0f921\"]],\"sequentialminus\":[[0.0,\"#0d0887\"],[0.1111111111111111,\"#46039f\"],[0.2222222222222222,\"#7201a8\"],[0.3333333333333333,\"#9c179e\"],[0.4444444444444444,\"#bd3786\"],[0.5555555555555556,\"#d8576b\"],[0.6666666666666666,\"#ed7953\"],[0.7777777777777778,\"#fb9f3a\"],[0.8888888888888888,\"#fdca26\"],[1.0,\"#f0f921\"]]},\"colorway\":[\"#636efa\",\"#EF553B\",\"#00cc96\",\"#ab63fa\",\"#FFA15A\",\"#19d3f3\",\"#FF6692\",\"#B6E880\",\"#FF97FF\",\"#FECB52\"],\"font\":{\"color\":\"#f2f5fa\"},\"geo\":{\"bgcolor\":\"rgb(17,17,17)\",\"lakecolor\":\"rgb(17,17,17)\",\"landcolor\":\"rgb(17,17,17)\",\"showlakes\":true,\"showland\":true,\"subunitcolor\":\"#506784\"},\"hoverlabel\":{\"align\":\"left\"},\"hovermode\":\"closest\",\"mapbox\":{\"style\":\"dark\"},\"paper_bgcolor\":\"rgb(17,17,17)\",\"plot_bgcolor\":\"rgb(17,17,17)\",\"polar\":{\"angularaxis\":{\"gridcolor\":\"#506784\",\"linecolor\":\"#506784\",\"ticks\":\"\"},\"bgcolor\":\"rgb(17,17,17)\",\"radialaxis\":{\"gridcolor\":\"#506784\",\"linecolor\":\"#506784\",\"ticks\":\"\"}},\"scene\":{\"xaxis\":{\"backgroundcolor\":\"rgb(17,17,17)\",\"gridcolor\":\"#506784\",\"gridwidth\":2,\"linecolor\":\"#506784\",\"showbackground\":true,\"ticks\":\"\",\"zerolinecolor\":\"#C8D4E3\"},\"yaxis\":{\"backgroundcolor\":\"rgb(17,17,17)\",\"gridcolor\":\"#506784\",\"gridwidth\":2,\"linecolor\":\"#506784\",\"showbackground\":true,\"ticks\":\"\",\"zerolinecolor\":\"#C8D4E3\"},\"zaxis\":{\"backgroundcolor\":\"rgb(17,17,17)\",\"gridcolor\":\"#506784\",\"gridwidth\":2,\"linecolor\":\"#506784\",\"showbackground\":true,\"ticks\":\"\",\"zerolinecolor\":\"#C8D4E3\"}},\"shapedefaults\":{\"line\":{\"color\":\"#f2f5fa\"}},\"sliderdefaults\":{\"bgcolor\":\"#C8D4E3\",\"bordercolor\":\"rgb(17,17,17)\",\"borderwidth\":1,\"tickwidth\":0},\"ternary\":{\"aaxis\":{\"gridcolor\":\"#506784\",\"linecolor\":\"#506784\",\"ticks\":\"\"},\"baxis\":{\"gridcolor\":\"#506784\",\"linecolor\":\"#506784\",\"ticks\":\"\"},\"bgcolor\":\"rgb(17,17,17)\",\"caxis\":{\"gridcolor\":\"#506784\",\"linecolor\":\"#506784\",\"ticks\":\"\"}},\"title\":{\"x\":0.05},\"updatemenudefaults\":{\"bgcolor\":\"#506784\",\"borderwidth\":0},\"xaxis\":{\"automargin\":true,\"gridcolor\":\"#283442\",\"linecolor\":\"#506784\",\"ticks\":\"\",\"title\":{\"standoff\":15},\"zerolinecolor\":\"#283442\",\"zerolinewidth\":2},\"yaxis\":{\"automargin\":true,\"gridcolor\":\"#283442\",\"linecolor\":\"#506784\",\"ticks\":\"\",\"title\":{\"standoff\":15},\"zerolinecolor\":\"#283442\",\"zerolinewidth\":2}}},\"xaxis\":{\"title\":{\"text\":\"False Positive Rate\"},\"constrain\":\"domain\"},\"yaxis\":{\"title\":{\"text\":\"True Positive Rate\"},\"constrain\":\"domain\"},\"title\":{\"text\":\"Receiver Operating Characteristic (ROC) Curve\"},\"showlegend\":true,\"height\":300},                        {\"responsive\": true}                    ).then(function(){\n",
       "                            \n",
       "var gd = document.getElementById('71e690c6-88a7-410d-b6e8-1d2aab27922d');\n",
       "var x = new MutationObserver(function (mutations, observer) {{\n",
       "        var display = window.getComputedStyle(gd).display;\n",
       "        if (!display || display === 'none') {{\n",
       "            console.log([gd, 'removed!']);\n",
       "            Plotly.purge(gd);\n",
       "            observer.disconnect();\n",
       "        }}\n",
       "}});\n",
       "\n",
       "// Listen for the removal of the full notebook cells\n",
       "var notebookContainer = gd.closest('#notebook-container');\n",
       "if (notebookContainer) {{\n",
       "    x.observe(notebookContainer, {childList: true});\n",
       "}}\n",
       "\n",
       "// Listen for the clearing of the current output cell\n",
       "var outputEl = gd.closest('.output');\n",
       "if (outputEl) {{\n",
       "    x.observe(outputEl, {childList: true});\n",
       "}}\n",
       "\n",
       "                        })                };                });            </script>        </div>"
      ]
     },
     "metadata": {},
     "output_type": "display_data"
    }
   ],
   "source": [
    "# Create a trace for the ROC curve\n",
    "trace = go.Scatter(\n",
    "    x=x.lr_fpr, \n",
    "    y=x.lr_tpr, \n",
    "    mode='lines', \n",
    "    name=f'Logistic Regression (AUC = {lr_auc:.2f})',\n",
    "    line=dict(color='blue')\n",
    ")\n",
    "\n",
    "trace2 = go.Scatter(\n",
    "    x=x.tree_fpr, \n",
    "    y=x.tree_tpr, \n",
    "    mode='lines', \n",
    "    name=f'Decison Tree (AUC = {tree_auc:.2f})',\n",
    "    line=dict(color='green')\n",
    ")\n",
    "\n",
    "trace3 = go.Scatter(\n",
    "    x=x.rf_fpr, \n",
    "    y=x.rf_tpr, \n",
    "    mode='lines', \n",
    "    name=f'Random Forest (AUC = {rf_auc:.2f})',\n",
    "    line=dict(color='orange')\n",
    ")\n",
    "\n",
    "trace4 = go.Scatter(\n",
    "    x=x.svc_fpr, \n",
    "    y=x.svc_tpr, \n",
    "    mode='lines', \n",
    "    name=f'Support Vector Machine (AUC = {svc_auc:.2f})',\n",
    "    line=dict(color='red')\n",
    ")\n",
    "\n",
    "trace5 = go.Scatter(\n",
    "    x=x.gbc_fpr, \n",
    "    y=x.gbc_tpr, \n",
    "    mode='lines', \n",
    "    name=f'Gradient Boosting (AUC = {gbc_auc:.2f})',\n",
    "    line=dict(color='yellow')\n",
    ")\n",
    "\n",
    "trace6 = go.Scatter(\n",
    "    x=x.knn_fpr, \n",
    "    y=x.knn_tpr, \n",
    "    mode='lines', \n",
    "    name=f'K Nearest Neighbors (AUC = {knn_auc:.2f})',\n",
    "    line=dict(color='purple')\n",
    ")\n",
    "\n",
    "# Create a trace for the diagonal line\n",
    "diagonal_trace = go.Scatter(\n",
    "    x=[0, 1], \n",
    "    y=[0, 1], \n",
    "    mode='lines', \n",
    "    name='Random guess',\n",
    "    line=dict(color='white', dash='dash')\n",
    ")\n",
    "\n",
    "# Create the figure\n",
    "fig = go.Figure()\n",
    "\n",
    "# Add traces to the figure\n",
    "fig.add_trace(trace)\n",
    "fig.add_trace(trace2)\n",
    "fig.add_trace(trace3)\n",
    "fig.add_trace(trace4)\n",
    "fig.add_trace(trace5)\n",
    "fig.add_trace(trace6)\n",
    "fig.add_trace(diagonal_trace)\n",
    "\n",
    "# Update the layout\n",
    "fig.update_layout(\n",
    "    title='Receiver Operating Characteristic (ROC) Curve',\n",
    "    xaxis_title='False Positive Rate',\n",
    "    yaxis_title='True Positive Rate',\n",
    "    xaxis=dict(constrain='domain'),\n",
    "    yaxis=dict(constrain='domain'),\n",
    "    showlegend=True,\n",
    "    height=300\n",
    ")\n",
    "\n",
    "fig.update_layout(template='plotly_dark')\n",
    "\n",
    "# Show the figure\n",
    "fig.show()\n"
   ]
  },
  {
   "cell_type": "code",
   "execution_count": 650,
   "id": "b90f6f36-652b-4737-822c-4f4560413b60",
   "metadata": {},
   "outputs": [],
   "source": [
    "from sklearn.metrics import precision_recall_curve, average_precision_score\n",
    "\n",
    "lr_precision, lr_recall, lr_threshold = precision_recall_curve(ytest, lr_proba)\n",
    "lr_ap = average_precision_score(ytest, lr_proba)\n",
    "\n",
    "tree_precision, tree_recall, tree_threshold = precision_recall_curve(ytest, tree_proba)\n",
    "tree_ap = average_precision_score(ytest, tree_proba)\n",
    "\n",
    "rf_precision, rf_recall, rf_threshold = precision_recall_curve(ytest, rf_proba)\n",
    "rf_ap = average_precision_score(ytest, rf_proba)\n",
    "\n",
    "svc_precision, svc_recall, svc_threshold = precision_recall_curve(ytest, svc_proba)\n",
    "svc_ap = average_precision_score(ytest, svc_proba)\n",
    "\n",
    "gbc_precision, gbc_recall, gbc_threshold = precision_recall_curve(ytest, gbc_proba)\n",
    "gbc_ap = average_precision_score(ytest, gbc_proba)\n",
    "\n",
    "knn_precision, knn_recall, knn_threshold = precision_recall_curve(ytest, knn_proba)\n",
    "knn_ap = average_precision_score(ytest, knn_proba)\n",
    "\n",
    "# average precision score\n",
    "ap_df = pd.DataFrame([lr_ap,tree_ap, rf_ap, svc_ap, gbc_ap, knn_ap])\n",
    "ap_df = ap_df.T\n",
    "ap_df.columns = models.keys()\n",
    "ap_df.to_csv('data/average_precision_result.csv', index=False)\n",
    "\n",
    "res = [lr_precision, lr_recall, tree_precision, tree_recall, rf_precision, rf_recall, svc_precision, svc_recall, gbc_precision, gbc_recall, knn_precision, knn_recall]\n",
    "pr_res_df = pd.DataFrame(res)\n",
    "pr_res_df = pr_res_df.T\n",
    "pr_res_df.columns=['lr_precision', 'lr_recall', 'tree_precision', 'tree_recall', 'rf_precision', 'rf_recall', 'svc_precision', 'svc_recall', 'gbc_precision', 'gbc_recall', 'knn_precision', 'knn_recall']\n",
    "pr_res_df.to_csv('data/presion_recall_curve.csv', index=False)"
   ]
  },
  {
   "cell_type": "code",
   "execution_count": 651,
   "id": "3950055d-f1cb-4edb-b8ed-729db60b9196",
   "metadata": {},
   "outputs": [
    {
     "data": {
      "application/vnd.plotly.v1+json": {
       "config": {
        "plotlyServerURL": "https://plot.ly"
       },
       "data": [
        {
         "line": {
          "color": "blue"
         },
         "mode": "lines",
         "name": "Logistic Regression (AP = 0.63)",
         "type": "scatter",
         "x": [
          1,
          1,
          1,
          1,
          1,
          1,
          1,
          1,
          1,
          1,
          1,
          1,
          1,
          1,
          0.9814814814814815,
          0.9814814814814815,
          0.9814814814814815,
          0.9814814814814815,
          0.9814814814814815,
          0.9814814814814815,
          0.9814814814814815,
          0.9814814814814815,
          0.9814814814814815,
          0.9814814814814815,
          0.9814814814814815,
          0.9814814814814815,
          0.9814814814814815,
          0.9814814814814815,
          0.9814814814814815,
          0.9814814814814815,
          0.9814814814814815,
          0.9814814814814815,
          0.9814814814814815,
          0.9814814814814815,
          0.9814814814814815,
          0.9814814814814815,
          0.9814814814814815,
          0.9814814814814815,
          0.9814814814814815,
          0.9814814814814815,
          0.9814814814814815,
          0.9814814814814815,
          0.9814814814814815,
          0.9814814814814815,
          0.9814814814814815,
          0.9814814814814815,
          0.9814814814814815,
          0.9814814814814815,
          0.9629629629629629,
          0.9629629629629629,
          0.9629629629629629,
          0.9629629629629629,
          0.9629629629629629,
          0.9629629629629629,
          0.9629629629629629,
          0.9444444444444444,
          0.9259259259259259,
          0.9259259259259259,
          0.9259259259259259,
          0.9259259259259259,
          0.9259259259259259,
          0.9259259259259259,
          0.9259259259259259,
          0.9259259259259259,
          0.9259259259259259,
          0.9074074074074074,
          0.9074074074074074,
          0.8888888888888888,
          0.8703703703703703,
          0.8703703703703703,
          0.8703703703703703,
          0.8703703703703703,
          0.8703703703703703,
          0.8703703703703703,
          0.8703703703703703,
          0.8518518518518519,
          0.8518518518518519,
          0.8518518518518519,
          0.8333333333333334,
          0.8333333333333334,
          0.8148148148148148,
          0.8148148148148148,
          0.7962962962962963,
          0.7962962962962963,
          0.7962962962962963,
          0.7777777777777778,
          0.7777777777777778,
          0.7777777777777778,
          0.7592592592592593,
          0.7592592592592593,
          0.7592592592592593,
          0.7592592592592593,
          0.7407407407407407,
          0.7222222222222222,
          0.7037037037037037,
          0.6851851851851852,
          0.6851851851851852,
          0.6851851851851852,
          0.6666666666666666,
          0.6666666666666666,
          0.6481481481481481,
          0.6296296296296297,
          0.6111111111111112,
          0.5925925925925926,
          0.5925925925925926,
          0.5740740740740741,
          0.5555555555555556,
          0.5555555555555556,
          0.5370370370370371,
          0.5185185185185185,
          0.5,
          0.5,
          0.48148148148148145,
          0.48148148148148145,
          0.46296296296296297,
          0.4444444444444444,
          0.42592592592592593,
          0.42592592592592593,
          0.42592592592592593,
          0.4074074074074074,
          0.4074074074074074,
          0.4074074074074074,
          0.4074074074074074,
          0.3888888888888889,
          0.37037037037037035,
          0.35185185185185186,
          0.35185185185185186,
          0.35185185185185186,
          0.3333333333333333,
          0.3333333333333333,
          0.3148148148148148,
          0.3148148148148148,
          0.2962962962962963,
          0.2777777777777778,
          0.25925925925925924,
          0.24074074074074073,
          0.2222222222222222,
          0.2037037037037037,
          0.18518518518518517,
          0.16666666666666666,
          0.16666666666666666,
          0.14814814814814814,
          0.14814814814814814,
          0.14814814814814814,
          0.12962962962962962,
          0.1111111111111111,
          0.09259259259259259,
          0.07407407407407407,
          0.05555555555555555,
          0.037037037037037035,
          0.037037037037037035,
          0.037037037037037035,
          0.018518518518518517,
          0,
          0
         ],
         "y": [
          0.35064935064935066,
          0.35294117647058826,
          0.35526315789473684,
          0.3576158940397351,
          0.36,
          0.3624161073825503,
          0.36486486486486486,
          0.3673469387755102,
          0.3698630136986301,
          0.3724137931034483,
          0.375,
          0.3776223776223776,
          0.38028169014084506,
          0.3829787234042553,
          0.37857142857142856,
          0.381294964028777,
          0.38405797101449274,
          0.38686131386861317,
          0.3897058823529412,
          0.3925925925925926,
          0.39552238805970147,
          0.39849624060150374,
          0.4015151515151515,
          0.40458015267175573,
          0.4076923076923077,
          0.4108527131782946,
          0.4140625,
          0.41732283464566927,
          0.42063492063492064,
          0.424,
          0.4274193548387097,
          0.43089430894308944,
          0.4344262295081967,
          0.4380165289256198,
          0.44166666666666665,
          0.44537815126050423,
          0.4491525423728814,
          0.452991452991453,
          0.45689655172413796,
          0.4608695652173913,
          0.4649122807017544,
          0.4690265486725664,
          0.4732142857142857,
          0.4774774774774775,
          0.4818181818181818,
          0.48623853211009177,
          0.49074074074074076,
          0.4953271028037383,
          0.49056603773584906,
          0.49523809523809526,
          0.5,
          0.5048543689320388,
          0.5098039215686274,
          0.5148514851485149,
          0.52,
          0.5151515151515151,
          0.5102040816326531,
          0.5154639175257731,
          0.5208333333333334,
          0.5263157894736842,
          0.5319148936170213,
          0.5376344086021505,
          0.5434782608695652,
          0.5494505494505495,
          0.5555555555555556,
          0.550561797752809,
          0.5568181818181818,
          0.5517241379310345,
          0.5465116279069767,
          0.5529411764705883,
          0.5595238095238095,
          0.5662650602409639,
          0.573170731707317,
          0.5802469135802469,
          0.5875,
          0.5822784810126582,
          0.5897435897435898,
          0.5974025974025974,
          0.5921052631578947,
          0.6,
          0.5945945945945946,
          0.6027397260273972,
          0.5972222222222222,
          0.6056338028169014,
          0.6142857142857143,
          0.6086956521739131,
          0.6176470588235294,
          0.6268656716417911,
          0.6212121212121212,
          0.6307692307692307,
          0.640625,
          0.6507936507936508,
          0.6451612903225806,
          0.639344262295082,
          0.6333333333333333,
          0.6271186440677966,
          0.6379310344827587,
          0.6491228070175439,
          0.6428571428571429,
          0.6545454545454545,
          0.6481481481481481,
          0.6415094339622641,
          0.6346153846153846,
          0.6274509803921569,
          0.64,
          0.6326530612244898,
          0.625,
          0.6382978723404256,
          0.6304347826086957,
          0.6222222222222222,
          0.6136363636363636,
          0.627906976744186,
          0.6190476190476191,
          0.6341463414634146,
          0.625,
          0.6153846153846154,
          0.6052631578947368,
          0.6216216216216216,
          0.6388888888888888,
          0.6285714285714286,
          0.6470588235294118,
          0.6666666666666666,
          0.6875,
          0.6774193548387096,
          0.6666666666666666,
          0.6551724137931034,
          0.6785714285714286,
          0.7037037037037037,
          0.6923076923076923,
          0.72,
          0.7083333333333334,
          0.7391304347826086,
          0.7272727272727273,
          0.7142857142857143,
          0.7,
          0.6842105263157895,
          0.6666666666666666,
          0.6470588235294118,
          0.625,
          0.6,
          0.6428571428571429,
          0.6153846153846154,
          0.6666666666666666,
          0.7272727272727273,
          0.7,
          0.6666666666666666,
          0.625,
          0.5714285714285714,
          0.5,
          0.4,
          0.5,
          0.6666666666666666,
          0.5,
          0,
          1
         ]
        },
        {
         "line": {
          "color": "green"
         },
         "mode": "lines",
         "name": "Decision Tree (AP = 0.57)",
         "type": "scatter",
         "x": [
          1,
          0.9814814814814815,
          0.9629629629629629,
          0.9444444444444444,
          0.8518518518518519,
          0.5555555555555556,
          0.25925925925925924,
          0,
          null,
          null,
          null,
          null,
          null,
          null,
          null,
          null,
          null,
          null,
          null,
          null,
          null,
          null,
          null,
          null,
          null,
          null,
          null,
          null,
          null,
          null,
          null,
          null,
          null,
          null,
          null,
          null,
          null,
          null,
          null,
          null,
          null,
          null,
          null,
          null,
          null,
          null,
          null,
          null,
          null,
          null,
          null,
          null,
          null,
          null,
          null,
          null,
          null,
          null,
          null,
          null,
          null,
          null,
          null,
          null,
          null,
          null,
          null,
          null,
          null,
          null,
          null,
          null,
          null,
          null,
          null,
          null,
          null,
          null,
          null,
          null,
          null,
          null,
          null,
          null,
          null,
          null,
          null,
          null,
          null,
          null,
          null,
          null,
          null,
          null,
          null,
          null,
          null,
          null,
          null,
          null,
          null,
          null,
          null,
          null,
          null,
          null,
          null,
          null,
          null,
          null,
          null,
          null,
          null,
          null,
          null,
          null,
          null,
          null,
          null,
          null,
          null,
          null,
          null,
          null,
          null,
          null,
          null,
          null,
          null,
          null,
          null,
          null,
          null,
          null,
          null,
          null,
          null,
          null,
          null,
          null,
          null,
          null,
          null,
          null,
          null,
          null,
          null,
          null,
          null,
          null,
          null,
          null,
          null,
          null,
          null
         ],
         "y": [
          0.35064935064935066,
          0.375886524822695,
          0.48148148148148145,
          0.504950495049505,
          0.5679012345679012,
          0.6,
          0.6086956521739131,
          1,
          null,
          null,
          null,
          null,
          null,
          null,
          null,
          null,
          null,
          null,
          null,
          null,
          null,
          null,
          null,
          null,
          null,
          null,
          null,
          null,
          null,
          null,
          null,
          null,
          null,
          null,
          null,
          null,
          null,
          null,
          null,
          null,
          null,
          null,
          null,
          null,
          null,
          null,
          null,
          null,
          null,
          null,
          null,
          null,
          null,
          null,
          null,
          null,
          null,
          null,
          null,
          null,
          null,
          null,
          null,
          null,
          null,
          null,
          null,
          null,
          null,
          null,
          null,
          null,
          null,
          null,
          null,
          null,
          null,
          null,
          null,
          null,
          null,
          null,
          null,
          null,
          null,
          null,
          null,
          null,
          null,
          null,
          null,
          null,
          null,
          null,
          null,
          null,
          null,
          null,
          null,
          null,
          null,
          null,
          null,
          null,
          null,
          null,
          null,
          null,
          null,
          null,
          null,
          null,
          null,
          null,
          null,
          null,
          null,
          null,
          null,
          null,
          null,
          null,
          null,
          null,
          null,
          null,
          null,
          null,
          null,
          null,
          null,
          null,
          null,
          null,
          null,
          null,
          null,
          null,
          null,
          null,
          null,
          null,
          null,
          null,
          null,
          null,
          null,
          null,
          null,
          null,
          null,
          null,
          null,
          null,
          null
         ]
        },
        {
         "line": {
          "color": "orange"
         },
         "mode": "lines",
         "name": "Random Forest (AP = 0.62)",
         "type": "scatter",
         "x": [
          1,
          1,
          1,
          1,
          1,
          1,
          1,
          1,
          1,
          1,
          1,
          1,
          1,
          1,
          1,
          1,
          1,
          1,
          1,
          1,
          1,
          1,
          1,
          1,
          1,
          1,
          1,
          1,
          1,
          1,
          1,
          1,
          1,
          1,
          0.9814814814814815,
          0.9629629629629629,
          0.9629629629629629,
          0.9629629629629629,
          0.9629629629629629,
          0.9629629629629629,
          0.9629629629629629,
          0.9629629629629629,
          0.9629629629629629,
          0.9629629629629629,
          0.9444444444444444,
          0.9444444444444444,
          0.9444444444444444,
          0.9444444444444444,
          0.9444444444444444,
          0.9444444444444444,
          0.9444444444444444,
          0.9259259259259259,
          0.9259259259259259,
          0.9259259259259259,
          0.9259259259259259,
          0.9259259259259259,
          0.9259259259259259,
          0.9259259259259259,
          0.9259259259259259,
          0.9259259259259259,
          0.9259259259259259,
          0.9259259259259259,
          0.9259259259259259,
          0.9259259259259259,
          0.9259259259259259,
          0.9259259259259259,
          0.9259259259259259,
          0.9259259259259259,
          0.9074074074074074,
          0.9074074074074074,
          0.9074074074074074,
          0.9074074074074074,
          0.9074074074074074,
          0.9074074074074074,
          0.8888888888888888,
          0.8888888888888888,
          0.8888888888888888,
          0.8888888888888888,
          0.8888888888888888,
          0.8888888888888888,
          0.8703703703703703,
          0.8703703703703703,
          0.8703703703703703,
          0.8703703703703703,
          0.8703703703703703,
          0.8518518518518519,
          0.8333333333333334,
          0.8148148148148148,
          0.7962962962962963,
          0.7777777777777778,
          0.7777777777777778,
          0.7777777777777778,
          0.7592592592592593,
          0.7407407407407407,
          0.7222222222222222,
          0.7037037037037037,
          0.6851851851851852,
          0.6666666666666666,
          0.6666666666666666,
          0.6481481481481481,
          0.6481481481481481,
          0.6481481481481481,
          0.6296296296296297,
          0.6111111111111112,
          0.5925925925925926,
          0.5925925925925926,
          0.5925925925925926,
          0.5740740740740741,
          0.5740740740740741,
          0.5555555555555556,
          0.5370370370370371,
          0.5185185185185185,
          0.5,
          0.5,
          0.5,
          0.48148148148148145,
          0.46296296296296297,
          0.4444444444444444,
          0.4444444444444444,
          0.42592592592592593,
          0.4074074074074074,
          0.4074074074074074,
          0.4074074074074074,
          0.3888888888888889,
          0.37037037037037035,
          0.35185185185185186,
          0.35185185185185186,
          0.3333333333333333,
          0.3333333333333333,
          0.3333333333333333,
          0.3148148148148148,
          0.2962962962962963,
          0.2777777777777778,
          0.25925925925925924,
          0.24074074074074073,
          0.2222222222222222,
          0.2037037037037037,
          0.18518518518518517,
          0.18518518518518517,
          0.16666666666666666,
          0.14814814814814814,
          0.14814814814814814,
          0.12962962962962962,
          0.1111111111111111,
          0.09259259259259259,
          0.07407407407407407,
          0.05555555555555555,
          0.05555555555555555,
          0.037037037037037035,
          0.037037037037037035,
          0.037037037037037035,
          0.018518518518518517,
          0.018518518518518517,
          0,
          0
         ],
         "y": [
          0.35064935064935066,
          0.35294117647058826,
          0.35526315789473684,
          0.3576158940397351,
          0.36,
          0.3624161073825503,
          0.36486486486486486,
          0.3673469387755102,
          0.3698630136986301,
          0.3724137931034483,
          0.375,
          0.3776223776223776,
          0.38028169014084506,
          0.3829787234042553,
          0.38571428571428573,
          0.38848920863309355,
          0.391304347826087,
          0.39416058394160586,
          0.39705882352941174,
          0.4,
          0.40298507462686567,
          0.40601503759398494,
          0.4090909090909091,
          0.4122137404580153,
          0.4153846153846154,
          0.4186046511627907,
          0.421875,
          0.4251968503937008,
          0.42857142857142855,
          0.432,
          0.43548387096774194,
          0.43902439024390244,
          0.4426229508196721,
          0.4462809917355372,
          0.44166666666666665,
          0.4369747899159664,
          0.4406779661016949,
          0.4444444444444444,
          0.4482758620689655,
          0.45217391304347826,
          0.45614035087719296,
          0.46017699115044247,
          0.4642857142857143,
          0.46846846846846846,
          0.4636363636363636,
          0.46788990825688076,
          0.4722222222222222,
          0.4766355140186916,
          0.4811320754716981,
          0.4857142857142857,
          0.49038461538461536,
          0.4854368932038835,
          0.49019607843137253,
          0.49504950495049505,
          0.5,
          0.5050505050505051,
          0.5102040816326531,
          0.5154639175257731,
          0.5208333333333334,
          0.5263157894736842,
          0.5319148936170213,
          0.5376344086021505,
          0.5434782608695652,
          0.5494505494505495,
          0.5555555555555556,
          0.5617977528089888,
          0.5681818181818182,
          0.5747126436781609,
          0.5697674418604651,
          0.5764705882352941,
          0.5833333333333334,
          0.5903614457831325,
          0.5975609756097561,
          0.6049382716049383,
          0.6,
          0.6075949367088608,
          0.6153846153846154,
          0.6233766233766234,
          0.631578947368421,
          0.64,
          0.6351351351351351,
          0.6438356164383562,
          0.6527777777777778,
          0.6619718309859155,
          0.6714285714285714,
          0.6666666666666666,
          0.6617647058823529,
          0.6567164179104478,
          0.6515151515151515,
          0.6461538461538462,
          0.65625,
          0.6666666666666666,
          0.6612903225806451,
          0.6557377049180327,
          0.65,
          0.6440677966101694,
          0.6379310344827587,
          0.631578947368421,
          0.6428571428571429,
          0.6363636363636364,
          0.6481481481481481,
          0.660377358490566,
          0.6538461538461539,
          0.6470588235294118,
          0.64,
          0.6530612244897959,
          0.6666666666666666,
          0.6595744680851063,
          0.6739130434782609,
          0.6666666666666666,
          0.6590909090909091,
          0.6511627906976745,
          0.6428571428571429,
          0.6585365853658537,
          0.675,
          0.6666666666666666,
          0.6578947368421053,
          0.6486486486486487,
          0.6666666666666666,
          0.6571428571428571,
          0.6470588235294118,
          0.6666666666666666,
          0.6875,
          0.6774193548387096,
          0.6666666666666666,
          0.6551724137931034,
          0.6785714285714286,
          0.6666666666666666,
          0.6923076923076923,
          0.72,
          0.7083333333333334,
          0.6956521739130435,
          0.6818181818181818,
          0.6666666666666666,
          0.65,
          0.631578947368421,
          0.6111111111111112,
          0.5882352941176471,
          0.625,
          0.6,
          0.5714285714285714,
          0.6153846153846154,
          0.5833333333333334,
          0.5454545454545454,
          0.5,
          0.4444444444444444,
          0.375,
          0.42857142857142855,
          0.3333333333333333,
          0.4,
          0.5,
          0.3333333333333333,
          0.5,
          0,
          1
         ]
        },
        {
         "line": {
          "color": "red"
         },
         "mode": "lines",
         "name": "Support Vector Machine (AP = 0.68)",
         "type": "scatter",
         "x": [
          1,
          1,
          1,
          1,
          1,
          1,
          1,
          1,
          1,
          1,
          1,
          1,
          1,
          0.9814814814814815,
          0.9814814814814815,
          0.9814814814814815,
          0.9814814814814815,
          0.9814814814814815,
          0.9814814814814815,
          0.9814814814814815,
          0.9814814814814815,
          0.9814814814814815,
          0.9814814814814815,
          0.9814814814814815,
          0.9814814814814815,
          0.9814814814814815,
          0.9814814814814815,
          0.9814814814814815,
          0.9814814814814815,
          0.9814814814814815,
          0.9814814814814815,
          0.9814814814814815,
          0.9814814814814815,
          0.9814814814814815,
          0.9814814814814815,
          0.9814814814814815,
          0.9814814814814815,
          0.9814814814814815,
          0.9814814814814815,
          0.9814814814814815,
          0.9814814814814815,
          0.9814814814814815,
          0.9629629629629629,
          0.9629629629629629,
          0.9629629629629629,
          0.9629629629629629,
          0.9629629629629629,
          0.9629629629629629,
          0.9629629629629629,
          0.9444444444444444,
          0.9444444444444444,
          0.9444444444444444,
          0.9444444444444444,
          0.9444444444444444,
          0.9444444444444444,
          0.9444444444444444,
          0.9444444444444444,
          0.9259259259259259,
          0.9259259259259259,
          0.9259259259259259,
          0.9259259259259259,
          0.9259259259259259,
          0.9259259259259259,
          0.9074074074074074,
          0.9074074074074074,
          0.9074074074074074,
          0.9074074074074074,
          0.9074074074074074,
          0.9074074074074074,
          0.9074074074074074,
          0.9074074074074074,
          0.8888888888888888,
          0.8888888888888888,
          0.8703703703703703,
          0.8703703703703703,
          0.8703703703703703,
          0.8703703703703703,
          0.8703703703703703,
          0.8518518518518519,
          0.8518518518518519,
          0.8518518518518519,
          0.8518518518518519,
          0.8518518518518519,
          0.8518518518518519,
          0.8333333333333334,
          0.8148148148148148,
          0.8148148148148148,
          0.8148148148148148,
          0.7962962962962963,
          0.7962962962962963,
          0.7962962962962963,
          0.7962962962962963,
          0.7962962962962963,
          0.7777777777777778,
          0.7592592592592593,
          0.7407407407407407,
          0.7222222222222222,
          0.7222222222222222,
          0.7222222222222222,
          0.7037037037037037,
          0.6851851851851852,
          0.6666666666666666,
          0.6481481481481481,
          0.6296296296296297,
          0.6111111111111112,
          0.5925925925925926,
          0.5740740740740741,
          0.5555555555555556,
          0.5555555555555556,
          0.5370370370370371,
          0.5185185185185185,
          0.5,
          0.48148148148148145,
          0.48148148148148145,
          0.46296296296296297,
          0.46296296296296297,
          0.4444444444444444,
          0.4444444444444444,
          0.42592592592592593,
          0.4074074074074074,
          0.3888888888888889,
          0.3888888888888889,
          0.3888888888888889,
          0.37037037037037035,
          0.35185185185185186,
          0.3333333333333333,
          0.3333333333333333,
          0.3333333333333333,
          0.3333333333333333,
          0.3333333333333333,
          0.3148148148148148,
          0.3148148148148148,
          0.2962962962962963,
          0.2777777777777778,
          0.25925925925925924,
          0.25925925925925924,
          0.25925925925925924,
          0.24074074074074073,
          0.2222222222222222,
          0.2037037037037037,
          0.18518518518518517,
          0.16666666666666666,
          0.14814814814814814,
          0.12962962962962962,
          0.12962962962962962,
          0.12962962962962962,
          0.1111111111111111,
          0.1111111111111111,
          0.09259259259259259,
          0.07407407407407407,
          0.05555555555555555,
          0.037037037037037035,
          0.037037037037037035,
          0.018518518518518517,
          0
         ],
         "y": [
          0.35064935064935066,
          0.35294117647058826,
          0.35526315789473684,
          0.3576158940397351,
          0.36,
          0.3624161073825503,
          0.36486486486486486,
          0.3673469387755102,
          0.3698630136986301,
          0.3724137931034483,
          0.375,
          0.3776223776223776,
          0.38028169014084506,
          0.375886524822695,
          0.37857142857142856,
          0.381294964028777,
          0.38405797101449274,
          0.38686131386861317,
          0.3897058823529412,
          0.3925925925925926,
          0.39552238805970147,
          0.39849624060150374,
          0.4015151515151515,
          0.40458015267175573,
          0.4076923076923077,
          0.4108527131782946,
          0.4140625,
          0.41732283464566927,
          0.42063492063492064,
          0.424,
          0.4274193548387097,
          0.43089430894308944,
          0.4344262295081967,
          0.4380165289256198,
          0.44166666666666665,
          0.44537815126050423,
          0.4491525423728814,
          0.452991452991453,
          0.45689655172413796,
          0.4608695652173913,
          0.4649122807017544,
          0.4690265486725664,
          0.4642857142857143,
          0.46846846846846846,
          0.4727272727272727,
          0.47706422018348627,
          0.48148148148148145,
          0.48598130841121495,
          0.49056603773584906,
          0.4857142857142857,
          0.49038461538461536,
          0.49514563106796117,
          0.5,
          0.504950495049505,
          0.51,
          0.5151515151515151,
          0.5204081632653061,
          0.5154639175257731,
          0.5208333333333334,
          0.5263157894736842,
          0.5319148936170213,
          0.5376344086021505,
          0.5434782608695652,
          0.5384615384615384,
          0.5444444444444444,
          0.550561797752809,
          0.5568181818181818,
          0.5632183908045977,
          0.5697674418604651,
          0.5764705882352941,
          0.5833333333333334,
          0.5783132530120482,
          0.5853658536585366,
          0.5802469135802469,
          0.5875,
          0.5949367088607594,
          0.6025641025641025,
          0.6103896103896104,
          0.6052631578947368,
          0.6133333333333333,
          0.6216216216216216,
          0.6301369863013698,
          0.6388888888888888,
          0.647887323943662,
          0.6428571428571429,
          0.6376811594202898,
          0.6470588235294118,
          0.6567164179104478,
          0.6515151515151515,
          0.6615384615384615,
          0.671875,
          0.6825396825396826,
          0.6935483870967742,
          0.6885245901639344,
          0.6833333333333333,
          0.6779661016949152,
          0.6724137931034483,
          0.6842105263157895,
          0.6964285714285714,
          0.6909090909090909,
          0.6851851851851852,
          0.6792452830188679,
          0.6730769230769231,
          0.6666666666666666,
          0.66,
          0.6530612244897959,
          0.6458333333333334,
          0.6382978723404256,
          0.6521739130434783,
          0.6444444444444445,
          0.6363636363636364,
          0.627906976744186,
          0.6190476190476191,
          0.6341463414634146,
          0.625,
          0.6410256410256411,
          0.631578947368421,
          0.6486486486486487,
          0.6388888888888888,
          0.6285714285714286,
          0.6176470588235294,
          0.6363636363636364,
          0.65625,
          0.6451612903225806,
          0.6333333333333333,
          0.6206896551724138,
          0.6428571428571429,
          0.6666666666666666,
          0.6923076923076923,
          0.72,
          0.7083333333333334,
          0.7391304347826086,
          0.7272727272727273,
          0.7142857142857143,
          0.7,
          0.7368421052631579,
          0.7777777777777778,
          0.7647058823529411,
          0.75,
          0.7333333333333333,
          0.7142857142857143,
          0.6923076923076923,
          0.6666666666666666,
          0.6363636363636364,
          0.7,
          0.7777777777777778,
          0.75,
          0.8571428571428571,
          0.8333333333333334,
          0.8,
          0.75,
          0.6666666666666666,
          1,
          1,
          1
         ]
        },
        {
         "line": {
          "color": "yellow"
         },
         "mode": "lines",
         "name": "Gradient Boosting (AP = 0.65)",
         "type": "scatter",
         "x": [
          1,
          1,
          1,
          1,
          1,
          1,
          1,
          1,
          1,
          1,
          1,
          1,
          1,
          1,
          1,
          1,
          1,
          1,
          1,
          1,
          1,
          1,
          1,
          1,
          1,
          1,
          1,
          1,
          1,
          1,
          1,
          1,
          0.9814814814814815,
          0.9814814814814815,
          0.9814814814814815,
          0.9814814814814815,
          0.9814814814814815,
          0.9814814814814815,
          0.9814814814814815,
          0.9814814814814815,
          0.9814814814814815,
          0.9814814814814815,
          0.9814814814814815,
          0.9814814814814815,
          0.9814814814814815,
          0.9629629629629629,
          0.9629629629629629,
          0.9629629629629629,
          0.9629629629629629,
          0.9629629629629629,
          0.9629629629629629,
          0.9444444444444444,
          0.9444444444444444,
          0.9444444444444444,
          0.9444444444444444,
          0.9444444444444444,
          0.9444444444444444,
          0.9444444444444444,
          0.9444444444444444,
          0.9444444444444444,
          0.9444444444444444,
          0.9259259259259259,
          0.9259259259259259,
          0.9259259259259259,
          0.9259259259259259,
          0.9074074074074074,
          0.8888888888888888,
          0.8888888888888888,
          0.8888888888888888,
          0.8888888888888888,
          0.8888888888888888,
          0.8888888888888888,
          0.8888888888888888,
          0.8888888888888888,
          0.8888888888888888,
          0.8888888888888888,
          0.8703703703703703,
          0.8703703703703703,
          0.8703703703703703,
          0.8703703703703703,
          0.8703703703703703,
          0.8703703703703703,
          0.8703703703703703,
          0.8518518518518519,
          0.8518518518518519,
          0.8518518518518519,
          0.8333333333333334,
          0.8148148148148148,
          0.7962962962962963,
          0.7962962962962963,
          0.7777777777777778,
          0.7777777777777778,
          0.7777777777777778,
          0.7777777777777778,
          0.7592592592592593,
          0.7407407407407407,
          0.7407407407407407,
          0.7222222222222222,
          0.7037037037037037,
          0.6851851851851852,
          0.6666666666666666,
          0.6666666666666666,
          0.6481481481481481,
          0.6296296296296297,
          0.6111111111111112,
          0.5925925925925926,
          0.5740740740740741,
          0.5555555555555556,
          0.5370370370370371,
          0.5370370370370371,
          0.5370370370370371,
          0.5185185185185185,
          0.5,
          0.48148148148148145,
          0.48148148148148145,
          0.46296296296296297,
          0.4444444444444444,
          0.42592592592592593,
          0.4074074074074074,
          0.4074074074074074,
          0.3888888888888889,
          0.3888888888888889,
          0.3888888888888889,
          0.37037037037037035,
          0.37037037037037035,
          0.35185185185185186,
          0.35185185185185186,
          0.3333333333333333,
          0.3333333333333333,
          0.3148148148148148,
          0.2962962962962963,
          0.2962962962962963,
          0.2962962962962963,
          0.2777777777777778,
          0.25925925925925924,
          0.24074074074074073,
          0.24074074074074073,
          0.2222222222222222,
          0.2037037037037037,
          0.18518518518518517,
          0.16666666666666666,
          0.16666666666666666,
          0.16666666666666666,
          0.14814814814814814,
          0.12962962962962962,
          0.1111111111111111,
          0.1111111111111111,
          0.09259259259259259,
          0.07407407407407407,
          0.05555555555555555,
          0.05555555555555555,
          0.037037037037037035,
          0.018518518518518517,
          0,
          0
         ],
         "y": [
          0.35064935064935066,
          0.35294117647058826,
          0.35526315789473684,
          0.3576158940397351,
          0.36,
          0.3624161073825503,
          0.36486486486486486,
          0.3673469387755102,
          0.3698630136986301,
          0.3724137931034483,
          0.375,
          0.3776223776223776,
          0.38028169014084506,
          0.3829787234042553,
          0.38571428571428573,
          0.38848920863309355,
          0.391304347826087,
          0.39416058394160586,
          0.39705882352941174,
          0.4,
          0.40298507462686567,
          0.40601503759398494,
          0.4090909090909091,
          0.4122137404580153,
          0.4153846153846154,
          0.4186046511627907,
          0.421875,
          0.4251968503937008,
          0.42857142857142855,
          0.432,
          0.43548387096774194,
          0.43902439024390244,
          0.4344262295081967,
          0.4380165289256198,
          0.44166666666666665,
          0.44537815126050423,
          0.4491525423728814,
          0.452991452991453,
          0.45689655172413796,
          0.4608695652173913,
          0.4649122807017544,
          0.4690265486725664,
          0.4732142857142857,
          0.4774774774774775,
          0.4818181818181818,
          0.47706422018348627,
          0.48148148148148145,
          0.48598130841121495,
          0.49056603773584906,
          0.49523809523809526,
          0.5,
          0.49514563106796117,
          0.5,
          0.504950495049505,
          0.51,
          0.5151515151515151,
          0.5204081632653061,
          0.5257731958762887,
          0.53125,
          0.5368421052631579,
          0.5425531914893617,
          0.5376344086021505,
          0.5434782608695652,
          0.5494505494505495,
          0.5555555555555556,
          0.550561797752809,
          0.5454545454545454,
          0.5517241379310345,
          0.5581395348837209,
          0.5647058823529412,
          0.5714285714285714,
          0.5783132530120482,
          0.5853658536585366,
          0.5925925925925926,
          0.6,
          0.6075949367088608,
          0.6025641025641025,
          0.6103896103896104,
          0.618421052631579,
          0.6266666666666667,
          0.6351351351351351,
          0.6438356164383562,
          0.6527777777777778,
          0.647887323943662,
          0.6571428571428571,
          0.6666666666666666,
          0.6617647058823529,
          0.6567164179104478,
          0.6515151515151515,
          0.6615384615384615,
          0.65625,
          0.6666666666666666,
          0.6774193548387096,
          0.6885245901639344,
          0.6833333333333333,
          0.6779661016949152,
          0.6896551724137931,
          0.6842105263157895,
          0.6785714285714286,
          0.6727272727272727,
          0.6666666666666666,
          0.6792452830188679,
          0.6730769230769231,
          0.6666666666666666,
          0.66,
          0.6530612244897959,
          0.6458333333333334,
          0.6382978723404256,
          0.6304347826086957,
          0.6444444444444445,
          0.6590909090909091,
          0.6511627906976745,
          0.6428571428571429,
          0.6341463414634146,
          0.65,
          0.6410256410256411,
          0.631578947368421,
          0.6216216216216216,
          0.6111111111111112,
          0.6285714285714286,
          0.6176470588235294,
          0.6363636363636364,
          0.65625,
          0.6451612903225806,
          0.6666666666666666,
          0.6551724137931034,
          0.6785714285714286,
          0.6666666666666666,
          0.6923076923076923,
          0.68,
          0.6666666666666666,
          0.6956521739130435,
          0.7272727272727273,
          0.7142857142857143,
          0.7,
          0.6842105263157895,
          0.7222222222222222,
          0.7058823529411765,
          0.6875,
          0.6666666666666666,
          0.6428571428571429,
          0.6923076923076923,
          0.75,
          0.7272727272727273,
          0.7,
          0.6666666666666666,
          0.75,
          0.7142857142857143,
          0.6666666666666666,
          0.6,
          0.75,
          0.6666666666666666,
          0.5,
          0,
          1
         ]
        },
        {
         "line": {
          "color": "purple"
         },
         "mode": "lines",
         "name": "K Nearest Neighbors (AP = 0.67)",
         "type": "scatter",
         "x": [
          1,
          1,
          0.9629629629629629,
          0.9074074074074074,
          0.8518518518518519,
          0.7962962962962963,
          0.7407407407407407,
          0.6296296296296297,
          0.48148148148148145,
          0.2777777777777778,
          0.24074074074074073,
          0.18518518518518517,
          0.1111111111111111,
          0.037037037037037035,
          0,
          null,
          null,
          null,
          null,
          null,
          null,
          null,
          null,
          null,
          null,
          null,
          null,
          null,
          null,
          null,
          null,
          null,
          null,
          null,
          null,
          null,
          null,
          null,
          null,
          null,
          null,
          null,
          null,
          null,
          null,
          null,
          null,
          null,
          null,
          null,
          null,
          null,
          null,
          null,
          null,
          null,
          null,
          null,
          null,
          null,
          null,
          null,
          null,
          null,
          null,
          null,
          null,
          null,
          null,
          null,
          null,
          null,
          null,
          null,
          null,
          null,
          null,
          null,
          null,
          null,
          null,
          null,
          null,
          null,
          null,
          null,
          null,
          null,
          null,
          null,
          null,
          null,
          null,
          null,
          null,
          null,
          null,
          null,
          null,
          null,
          null,
          null,
          null,
          null,
          null,
          null,
          null,
          null,
          null,
          null,
          null,
          null,
          null,
          null,
          null,
          null,
          null,
          null,
          null,
          null,
          null,
          null,
          null,
          null,
          null,
          null,
          null,
          null,
          null,
          null,
          null,
          null,
          null,
          null,
          null,
          null,
          null,
          null,
          null,
          null,
          null,
          null,
          null,
          null,
          null,
          null,
          null,
          null,
          null,
          null,
          null,
          null,
          null,
          null,
          null
         ],
         "y": [
          0.35064935064935066,
          0.421875,
          0.49523809523809526,
          0.5268817204301075,
          0.5542168674698795,
          0.6056338028169014,
          0.6153846153846154,
          0.6538461538461539,
          0.6666666666666666,
          0.6,
          0.6842105263157895,
          0.8333333333333334,
          1,
          1,
          1,
          null,
          null,
          null,
          null,
          null,
          null,
          null,
          null,
          null,
          null,
          null,
          null,
          null,
          null,
          null,
          null,
          null,
          null,
          null,
          null,
          null,
          null,
          null,
          null,
          null,
          null,
          null,
          null,
          null,
          null,
          null,
          null,
          null,
          null,
          null,
          null,
          null,
          null,
          null,
          null,
          null,
          null,
          null,
          null,
          null,
          null,
          null,
          null,
          null,
          null,
          null,
          null,
          null,
          null,
          null,
          null,
          null,
          null,
          null,
          null,
          null,
          null,
          null,
          null,
          null,
          null,
          null,
          null,
          null,
          null,
          null,
          null,
          null,
          null,
          null,
          null,
          null,
          null,
          null,
          null,
          null,
          null,
          null,
          null,
          null,
          null,
          null,
          null,
          null,
          null,
          null,
          null,
          null,
          null,
          null,
          null,
          null,
          null,
          null,
          null,
          null,
          null,
          null,
          null,
          null,
          null,
          null,
          null,
          null,
          null,
          null,
          null,
          null,
          null,
          null,
          null,
          null,
          null,
          null,
          null,
          null,
          null,
          null,
          null,
          null,
          null,
          null,
          null,
          null,
          null,
          null,
          null,
          null,
          null,
          null,
          null,
          null,
          null,
          null,
          null
         ]
        }
       ],
       "layout": {
        "autosize": true,
        "showlegend": true,
        "template": {
         "data": {
          "bar": [
           {
            "error_x": {
             "color": "#f2f5fa"
            },
            "error_y": {
             "color": "#f2f5fa"
            },
            "marker": {
             "line": {
              "color": "rgb(17,17,17)",
              "width": 0.5
             },
             "pattern": {
              "fillmode": "overlay",
              "size": 10,
              "solidity": 0.2
             }
            },
            "type": "bar"
           }
          ],
          "barpolar": [
           {
            "marker": {
             "line": {
              "color": "rgb(17,17,17)",
              "width": 0.5
             },
             "pattern": {
              "fillmode": "overlay",
              "size": 10,
              "solidity": 0.2
             }
            },
            "type": "barpolar"
           }
          ],
          "carpet": [
           {
            "aaxis": {
             "endlinecolor": "#A2B1C6",
             "gridcolor": "#506784",
             "linecolor": "#506784",
             "minorgridcolor": "#506784",
             "startlinecolor": "#A2B1C6"
            },
            "baxis": {
             "endlinecolor": "#A2B1C6",
             "gridcolor": "#506784",
             "linecolor": "#506784",
             "minorgridcolor": "#506784",
             "startlinecolor": "#A2B1C6"
            },
            "type": "carpet"
           }
          ],
          "choropleth": [
           {
            "colorbar": {
             "outlinewidth": 0,
             "ticks": ""
            },
            "type": "choropleth"
           }
          ],
          "contour": [
           {
            "colorbar": {
             "outlinewidth": 0,
             "ticks": ""
            },
            "colorscale": [
             [
              0,
              "#0d0887"
             ],
             [
              0.1111111111111111,
              "#46039f"
             ],
             [
              0.2222222222222222,
              "#7201a8"
             ],
             [
              0.3333333333333333,
              "#9c179e"
             ],
             [
              0.4444444444444444,
              "#bd3786"
             ],
             [
              0.5555555555555556,
              "#d8576b"
             ],
             [
              0.6666666666666666,
              "#ed7953"
             ],
             [
              0.7777777777777778,
              "#fb9f3a"
             ],
             [
              0.8888888888888888,
              "#fdca26"
             ],
             [
              1,
              "#f0f921"
             ]
            ],
            "type": "contour"
           }
          ],
          "contourcarpet": [
           {
            "colorbar": {
             "outlinewidth": 0,
             "ticks": ""
            },
            "type": "contourcarpet"
           }
          ],
          "heatmap": [
           {
            "colorbar": {
             "outlinewidth": 0,
             "ticks": ""
            },
            "colorscale": [
             [
              0,
              "#0d0887"
             ],
             [
              0.1111111111111111,
              "#46039f"
             ],
             [
              0.2222222222222222,
              "#7201a8"
             ],
             [
              0.3333333333333333,
              "#9c179e"
             ],
             [
              0.4444444444444444,
              "#bd3786"
             ],
             [
              0.5555555555555556,
              "#d8576b"
             ],
             [
              0.6666666666666666,
              "#ed7953"
             ],
             [
              0.7777777777777778,
              "#fb9f3a"
             ],
             [
              0.8888888888888888,
              "#fdca26"
             ],
             [
              1,
              "#f0f921"
             ]
            ],
            "type": "heatmap"
           }
          ],
          "heatmapgl": [
           {
            "colorbar": {
             "outlinewidth": 0,
             "ticks": ""
            },
            "colorscale": [
             [
              0,
              "#0d0887"
             ],
             [
              0.1111111111111111,
              "#46039f"
             ],
             [
              0.2222222222222222,
              "#7201a8"
             ],
             [
              0.3333333333333333,
              "#9c179e"
             ],
             [
              0.4444444444444444,
              "#bd3786"
             ],
             [
              0.5555555555555556,
              "#d8576b"
             ],
             [
              0.6666666666666666,
              "#ed7953"
             ],
             [
              0.7777777777777778,
              "#fb9f3a"
             ],
             [
              0.8888888888888888,
              "#fdca26"
             ],
             [
              1,
              "#f0f921"
             ]
            ],
            "type": "heatmapgl"
           }
          ],
          "histogram": [
           {
            "marker": {
             "pattern": {
              "fillmode": "overlay",
              "size": 10,
              "solidity": 0.2
             }
            },
            "type": "histogram"
           }
          ],
          "histogram2d": [
           {
            "colorbar": {
             "outlinewidth": 0,
             "ticks": ""
            },
            "colorscale": [
             [
              0,
              "#0d0887"
             ],
             [
              0.1111111111111111,
              "#46039f"
             ],
             [
              0.2222222222222222,
              "#7201a8"
             ],
             [
              0.3333333333333333,
              "#9c179e"
             ],
             [
              0.4444444444444444,
              "#bd3786"
             ],
             [
              0.5555555555555556,
              "#d8576b"
             ],
             [
              0.6666666666666666,
              "#ed7953"
             ],
             [
              0.7777777777777778,
              "#fb9f3a"
             ],
             [
              0.8888888888888888,
              "#fdca26"
             ],
             [
              1,
              "#f0f921"
             ]
            ],
            "type": "histogram2d"
           }
          ],
          "histogram2dcontour": [
           {
            "colorbar": {
             "outlinewidth": 0,
             "ticks": ""
            },
            "colorscale": [
             [
              0,
              "#0d0887"
             ],
             [
              0.1111111111111111,
              "#46039f"
             ],
             [
              0.2222222222222222,
              "#7201a8"
             ],
             [
              0.3333333333333333,
              "#9c179e"
             ],
             [
              0.4444444444444444,
              "#bd3786"
             ],
             [
              0.5555555555555556,
              "#d8576b"
             ],
             [
              0.6666666666666666,
              "#ed7953"
             ],
             [
              0.7777777777777778,
              "#fb9f3a"
             ],
             [
              0.8888888888888888,
              "#fdca26"
             ],
             [
              1,
              "#f0f921"
             ]
            ],
            "type": "histogram2dcontour"
           }
          ],
          "mesh3d": [
           {
            "colorbar": {
             "outlinewidth": 0,
             "ticks": ""
            },
            "type": "mesh3d"
           }
          ],
          "parcoords": [
           {
            "line": {
             "colorbar": {
              "outlinewidth": 0,
              "ticks": ""
             }
            },
            "type": "parcoords"
           }
          ],
          "pie": [
           {
            "automargin": true,
            "type": "pie"
           }
          ],
          "scatter": [
           {
            "marker": {
             "line": {
              "color": "#283442"
             }
            },
            "type": "scatter"
           }
          ],
          "scatter3d": [
           {
            "line": {
             "colorbar": {
              "outlinewidth": 0,
              "ticks": ""
             }
            },
            "marker": {
             "colorbar": {
              "outlinewidth": 0,
              "ticks": ""
             }
            },
            "type": "scatter3d"
           }
          ],
          "scattercarpet": [
           {
            "marker": {
             "colorbar": {
              "outlinewidth": 0,
              "ticks": ""
             }
            },
            "type": "scattercarpet"
           }
          ],
          "scattergeo": [
           {
            "marker": {
             "colorbar": {
              "outlinewidth": 0,
              "ticks": ""
             }
            },
            "type": "scattergeo"
           }
          ],
          "scattergl": [
           {
            "marker": {
             "line": {
              "color": "#283442"
             }
            },
            "type": "scattergl"
           }
          ],
          "scattermapbox": [
           {
            "marker": {
             "colorbar": {
              "outlinewidth": 0,
              "ticks": ""
             }
            },
            "type": "scattermapbox"
           }
          ],
          "scatterpolar": [
           {
            "marker": {
             "colorbar": {
              "outlinewidth": 0,
              "ticks": ""
             }
            },
            "type": "scatterpolar"
           }
          ],
          "scatterpolargl": [
           {
            "marker": {
             "colorbar": {
              "outlinewidth": 0,
              "ticks": ""
             }
            },
            "type": "scatterpolargl"
           }
          ],
          "scatterternary": [
           {
            "marker": {
             "colorbar": {
              "outlinewidth": 0,
              "ticks": ""
             }
            },
            "type": "scatterternary"
           }
          ],
          "surface": [
           {
            "colorbar": {
             "outlinewidth": 0,
             "ticks": ""
            },
            "colorscale": [
             [
              0,
              "#0d0887"
             ],
             [
              0.1111111111111111,
              "#46039f"
             ],
             [
              0.2222222222222222,
              "#7201a8"
             ],
             [
              0.3333333333333333,
              "#9c179e"
             ],
             [
              0.4444444444444444,
              "#bd3786"
             ],
             [
              0.5555555555555556,
              "#d8576b"
             ],
             [
              0.6666666666666666,
              "#ed7953"
             ],
             [
              0.7777777777777778,
              "#fb9f3a"
             ],
             [
              0.8888888888888888,
              "#fdca26"
             ],
             [
              1,
              "#f0f921"
             ]
            ],
            "type": "surface"
           }
          ],
          "table": [
           {
            "cells": {
             "fill": {
              "color": "#506784"
             },
             "line": {
              "color": "rgb(17,17,17)"
             }
            },
            "header": {
             "fill": {
              "color": "#2a3f5f"
             },
             "line": {
              "color": "rgb(17,17,17)"
             }
            },
            "type": "table"
           }
          ]
         },
         "layout": {
          "annotationdefaults": {
           "arrowcolor": "#f2f5fa",
           "arrowhead": 0,
           "arrowwidth": 1
          },
          "autotypenumbers": "strict",
          "coloraxis": {
           "colorbar": {
            "outlinewidth": 0,
            "ticks": ""
           }
          },
          "colorscale": {
           "diverging": [
            [
             0,
             "#8e0152"
            ],
            [
             0.1,
             "#c51b7d"
            ],
            [
             0.2,
             "#de77ae"
            ],
            [
             0.3,
             "#f1b6da"
            ],
            [
             0.4,
             "#fde0ef"
            ],
            [
             0.5,
             "#f7f7f7"
            ],
            [
             0.6,
             "#e6f5d0"
            ],
            [
             0.7,
             "#b8e186"
            ],
            [
             0.8,
             "#7fbc41"
            ],
            [
             0.9,
             "#4d9221"
            ],
            [
             1,
             "#276419"
            ]
           ],
           "sequential": [
            [
             0,
             "#0d0887"
            ],
            [
             0.1111111111111111,
             "#46039f"
            ],
            [
             0.2222222222222222,
             "#7201a8"
            ],
            [
             0.3333333333333333,
             "#9c179e"
            ],
            [
             0.4444444444444444,
             "#bd3786"
            ],
            [
             0.5555555555555556,
             "#d8576b"
            ],
            [
             0.6666666666666666,
             "#ed7953"
            ],
            [
             0.7777777777777778,
             "#fb9f3a"
            ],
            [
             0.8888888888888888,
             "#fdca26"
            ],
            [
             1,
             "#f0f921"
            ]
           ],
           "sequentialminus": [
            [
             0,
             "#0d0887"
            ],
            [
             0.1111111111111111,
             "#46039f"
            ],
            [
             0.2222222222222222,
             "#7201a8"
            ],
            [
             0.3333333333333333,
             "#9c179e"
            ],
            [
             0.4444444444444444,
             "#bd3786"
            ],
            [
             0.5555555555555556,
             "#d8576b"
            ],
            [
             0.6666666666666666,
             "#ed7953"
            ],
            [
             0.7777777777777778,
             "#fb9f3a"
            ],
            [
             0.8888888888888888,
             "#fdca26"
            ],
            [
             1,
             "#f0f921"
            ]
           ]
          },
          "colorway": [
           "#636efa",
           "#EF553B",
           "#00cc96",
           "#ab63fa",
           "#FFA15A",
           "#19d3f3",
           "#FF6692",
           "#B6E880",
           "#FF97FF",
           "#FECB52"
          ],
          "font": {
           "color": "#f2f5fa"
          },
          "geo": {
           "bgcolor": "rgb(17,17,17)",
           "lakecolor": "rgb(17,17,17)",
           "landcolor": "rgb(17,17,17)",
           "showlakes": true,
           "showland": true,
           "subunitcolor": "#506784"
          },
          "hoverlabel": {
           "align": "left"
          },
          "hovermode": "closest",
          "mapbox": {
           "style": "dark"
          },
          "paper_bgcolor": "rgb(17,17,17)",
          "plot_bgcolor": "rgb(17,17,17)",
          "polar": {
           "angularaxis": {
            "gridcolor": "#506784",
            "linecolor": "#506784",
            "ticks": ""
           },
           "bgcolor": "rgb(17,17,17)",
           "radialaxis": {
            "gridcolor": "#506784",
            "linecolor": "#506784",
            "ticks": ""
           }
          },
          "scene": {
           "xaxis": {
            "backgroundcolor": "rgb(17,17,17)",
            "gridcolor": "#506784",
            "gridwidth": 2,
            "linecolor": "#506784",
            "showbackground": true,
            "ticks": "",
            "zerolinecolor": "#C8D4E3"
           },
           "yaxis": {
            "backgroundcolor": "rgb(17,17,17)",
            "gridcolor": "#506784",
            "gridwidth": 2,
            "linecolor": "#506784",
            "showbackground": true,
            "ticks": "",
            "zerolinecolor": "#C8D4E3"
           },
           "zaxis": {
            "backgroundcolor": "rgb(17,17,17)",
            "gridcolor": "#506784",
            "gridwidth": 2,
            "linecolor": "#506784",
            "showbackground": true,
            "ticks": "",
            "zerolinecolor": "#C8D4E3"
           }
          },
          "shapedefaults": {
           "line": {
            "color": "#f2f5fa"
           }
          },
          "sliderdefaults": {
           "bgcolor": "#C8D4E3",
           "bordercolor": "rgb(17,17,17)",
           "borderwidth": 1,
           "tickwidth": 0
          },
          "ternary": {
           "aaxis": {
            "gridcolor": "#506784",
            "linecolor": "#506784",
            "ticks": ""
           },
           "baxis": {
            "gridcolor": "#506784",
            "linecolor": "#506784",
            "ticks": ""
           },
           "bgcolor": "rgb(17,17,17)",
           "caxis": {
            "gridcolor": "#506784",
            "linecolor": "#506784",
            "ticks": ""
           }
          },
          "title": {
           "x": 0.05
          },
          "updatemenudefaults": {
           "bgcolor": "#506784",
           "borderwidth": 0
          },
          "xaxis": {
           "automargin": true,
           "gridcolor": "#283442",
           "linecolor": "#506784",
           "ticks": "",
           "title": {
            "standoff": 15
           },
           "zerolinecolor": "#283442",
           "zerolinewidth": 2
          },
          "yaxis": {
           "automargin": true,
           "gridcolor": "#283442",
           "linecolor": "#506784",
           "ticks": "",
           "title": {
            "standoff": 15
           },
           "zerolinecolor": "#283442",
           "zerolinewidth": 2
          }
         }
        },
        "title": {
         "text": "Precision Recall Curve"
        },
        "xaxis": {
         "autorange": true,
         "constrain": "domain",
         "range": [
          0,
          1
         ],
         "title": {
          "text": "Recall"
         },
         "type": "linear"
        },
        "yaxis": {
         "autorange": true,
         "constrain": "domain",
         "range": [
          -0.05555555555555555,
          1.0555555555555556
         ],
         "title": {
          "text": "Precision"
         },
         "type": "linear"
        }
       }
      },
      "image/png": "[encoded data removed]",
      "text/html": [
       "<div>                            <div id=\"5f32be0e-31ae-48dd-9f19-71cf2d2ec33a\" class=\"plotly-graph-div\" style=\"height:300px; width:100%;\"></div>            <script type=\"text/javascript\">                require([\"plotly\"], function(Plotly) {                    window.PLOTLYENV=window.PLOTLYENV || {};                                    if (document.getElementById(\"5f32be0e-31ae-48dd-9f19-71cf2d2ec33a\")) {                    Plotly.newPlot(                        \"5f32be0e-31ae-48dd-9f19-71cf2d2ec33a\",                        [{\"line\":{\"color\":\"blue\"},\"mode\":\"lines\",\"name\":\"Logistic Regression (AP = 0.63)\",\"x\":[1.0,1.0,1.0,1.0,1.0,1.0,1.0,1.0,1.0,1.0,1.0,1.0,1.0,1.0,0.9814814814814815,0.9814814814814815,0.9814814814814815,0.9814814814814815,0.9814814814814815,0.9814814814814815,0.9814814814814815,0.9814814814814815,0.9814814814814815,0.9814814814814815,0.9814814814814815,0.9814814814814815,0.9814814814814815,0.9814814814814815,0.9814814814814815,0.9814814814814815,0.9814814814814815,0.9814814814814815,0.9814814814814815,0.9814814814814815,0.9814814814814815,0.9814814814814815,0.9814814814814815,0.9814814814814815,0.9814814814814815,0.9814814814814815,0.9814814814814815,0.9814814814814815,0.9814814814814815,0.9814814814814815,0.9814814814814815,0.9814814814814815,0.9814814814814815,0.9814814814814815,0.9629629629629629,0.9629629629629629,0.9629629629629629,0.9629629629629629,0.9629629629629629,0.9629629629629629,0.9629629629629629,0.9444444444444444,0.9259259259259259,0.9259259259259259,0.9259259259259259,0.9259259259259259,0.9259259259259259,0.9259259259259259,0.9259259259259259,0.9259259259259259,0.9259259259259259,0.9074074074074074,0.9074074074074074,0.8888888888888888,0.8703703703703703,0.8703703703703703,0.8703703703703703,0.8703703703703703,0.8703703703703703,0.8703703703703703,0.8703703703703703,0.8518518518518519,0.8518518518518519,0.8518518518518519,0.8333333333333334,0.8333333333333334,0.8148148148148148,0.8148148148148148,0.7962962962962963,0.7962962962962963,0.7962962962962963,0.7777777777777778,0.7777777777777778,0.7777777777777778,0.7592592592592593,0.7592592592592593,0.7592592592592593,0.7592592592592593,0.7407407407407407,0.7222222222222222,0.7037037037037037,0.6851851851851852,0.6851851851851852,0.6851851851851852,0.6666666666666666,0.6666666666666666,0.6481481481481481,0.6296296296296297,0.6111111111111112,0.5925925925925926,0.5925925925925926,0.5740740740740741,0.5555555555555556,0.5555555555555556,0.5370370370370371,0.5185185185185185,0.5,0.5,0.48148148148148145,0.48148148148148145,0.46296296296296297,0.4444444444444444,0.42592592592592593,0.42592592592592593,0.42592592592592593,0.4074074074074074,0.4074074074074074,0.4074074074074074,0.4074074074074074,0.3888888888888889,0.37037037037037035,0.35185185185185186,0.35185185185185186,0.35185185185185186,0.3333333333333333,0.3333333333333333,0.3148148148148148,0.3148148148148148,0.2962962962962963,0.2777777777777778,0.25925925925925924,0.24074074074074073,0.2222222222222222,0.2037037037037037,0.18518518518518517,0.16666666666666666,0.16666666666666666,0.14814814814814814,0.14814814814814814,0.14814814814814814,0.12962962962962962,0.1111111111111111,0.09259259259259259,0.07407407407407407,0.05555555555555555,0.037037037037037035,0.037037037037037035,0.037037037037037035,0.018518518518518517,0.0,0.0],\"y\":[0.35064935064935066,0.35294117647058826,0.35526315789473684,0.3576158940397351,0.36,0.3624161073825503,0.36486486486486486,0.3673469387755102,0.3698630136986301,0.3724137931034483,0.375,0.3776223776223776,0.38028169014084506,0.3829787234042553,0.37857142857142856,0.381294964028777,0.38405797101449274,0.38686131386861317,0.3897058823529412,0.3925925925925926,0.39552238805970147,0.39849624060150374,0.4015151515151515,0.40458015267175573,0.4076923076923077,0.4108527131782946,0.4140625,0.41732283464566927,0.42063492063492064,0.424,0.4274193548387097,0.43089430894308944,0.4344262295081967,0.4380165289256198,0.44166666666666665,0.44537815126050423,0.4491525423728814,0.452991452991453,0.45689655172413796,0.4608695652173913,0.4649122807017544,0.4690265486725664,0.4732142857142857,0.4774774774774775,0.4818181818181818,0.48623853211009177,0.49074074074074076,0.4953271028037383,0.49056603773584906,0.49523809523809526,0.5,0.5048543689320388,0.5098039215686274,0.5148514851485149,0.52,0.5151515151515151,0.5102040816326531,0.5154639175257731,0.5208333333333334,0.5263157894736842,0.5319148936170213,0.5376344086021505,0.5434782608695652,0.5494505494505495,0.5555555555555556,0.550561797752809,0.5568181818181818,0.5517241379310345,0.5465116279069767,0.5529411764705883,0.5595238095238095,0.5662650602409639,0.573170731707317,0.5802469135802469,0.5875,0.5822784810126582,0.5897435897435898,0.5974025974025974,0.5921052631578947,0.6,0.5945945945945946,0.6027397260273972,0.5972222222222222,0.6056338028169014,0.6142857142857143,0.6086956521739131,0.6176470588235294,0.6268656716417911,0.6212121212121212,0.6307692307692307,0.640625,0.6507936507936508,0.6451612903225806,0.639344262295082,0.6333333333333333,0.6271186440677966,0.6379310344827587,0.6491228070175439,0.6428571428571429,0.6545454545454545,0.6481481481481481,0.6415094339622641,0.6346153846153846,0.6274509803921569,0.64,0.6326530612244898,0.625,0.6382978723404256,0.6304347826086957,0.6222222222222222,0.6136363636363636,0.627906976744186,0.6190476190476191,0.6341463414634146,0.625,0.6153846153846154,0.6052631578947368,0.6216216216216216,0.6388888888888888,0.6285714285714286,0.6470588235294118,0.6666666666666666,0.6875,0.6774193548387096,0.6666666666666666,0.6551724137931034,0.6785714285714286,0.7037037037037037,0.6923076923076923,0.72,0.7083333333333334,0.7391304347826086,0.7272727272727273,0.7142857142857143,0.7,0.6842105263157895,0.6666666666666666,0.6470588235294118,0.625,0.6,0.6428571428571429,0.6153846153846154,0.6666666666666666,0.7272727272727273,0.7,0.6666666666666666,0.625,0.5714285714285714,0.5,0.4,0.5,0.6666666666666666,0.5,0.0,1.0],\"type\":\"scatter\"},{\"line\":{\"color\":\"green\"},\"mode\":\"lines\",\"name\":\"Decision Tree (AP = 0.57)\",\"x\":[1.0,0.9814814814814815,0.9629629629629629,0.9444444444444444,0.8518518518518519,0.5555555555555556,0.25925925925925924,0.0,null,null,null,null,null,null,null,null,null,null,null,null,null,null,null,null,null,null,null,null,null,null,null,null,null,null,null,null,null,null,null,null,null,null,null,null,null,null,null,null,null,null,null,null,null,null,null,null,null,null,null,null,null,null,null,null,null,null,null,null,null,null,null,null,null,null,null,null,null,null,null,null,null,null,null,null,null,null,null,null,null,null,null,null,null,null,null,null,null,null,null,null,null,null,null,null,null,null,null,null,null,null,null,null,null,null,null,null,null,null,null,null,null,null,null,null,null,null,null,null,null,null,null,null,null,null,null,null,null,null,null,null,null,null,null,null,null,null,null,null,null,null,null,null,null,null,null],\"y\":[0.35064935064935066,0.375886524822695,0.48148148148148145,0.504950495049505,0.5679012345679012,0.6,0.6086956521739131,1.0,null,null,null,null,null,null,null,null,null,null,null,null,null,null,null,null,null,null,null,null,null,null,null,null,null,null,null,null,null,null,null,null,null,null,null,null,null,null,null,null,null,null,null,null,null,null,null,null,null,null,null,null,null,null,null,null,null,null,null,null,null,null,null,null,null,null,null,null,null,null,null,null,null,null,null,null,null,null,null,null,null,null,null,null,null,null,null,null,null,null,null,null,null,null,null,null,null,null,null,null,null,null,null,null,null,null,null,null,null,null,null,null,null,null,null,null,null,null,null,null,null,null,null,null,null,null,null,null,null,null,null,null,null,null,null,null,null,null,null,null,null,null,null,null,null,null,null],\"type\":\"scatter\"},{\"line\":{\"color\":\"orange\"},\"mode\":\"lines\",\"name\":\"Random Forest (AP = 0.62)\",\"x\":[1.0,1.0,1.0,1.0,1.0,1.0,1.0,1.0,1.0,1.0,1.0,1.0,1.0,1.0,1.0,1.0,1.0,1.0,1.0,1.0,1.0,1.0,1.0,1.0,1.0,1.0,1.0,1.0,1.0,1.0,1.0,1.0,1.0,1.0,0.9814814814814815,0.9629629629629629,0.9629629629629629,0.9629629629629629,0.9629629629629629,0.9629629629629629,0.9629629629629629,0.9629629629629629,0.9629629629629629,0.9629629629629629,0.9444444444444444,0.9444444444444444,0.9444444444444444,0.9444444444444444,0.9444444444444444,0.9444444444444444,0.9444444444444444,0.9259259259259259,0.9259259259259259,0.9259259259259259,0.9259259259259259,0.9259259259259259,0.9259259259259259,0.9259259259259259,0.9259259259259259,0.9259259259259259,0.9259259259259259,0.9259259259259259,0.9259259259259259,0.9259259259259259,0.9259259259259259,0.9259259259259259,0.9259259259259259,0.9259259259259259,0.9074074074074074,0.9074074074074074,0.9074074074074074,0.9074074074074074,0.9074074074074074,0.9074074074074074,0.8888888888888888,0.8888888888888888,0.8888888888888888,0.8888888888888888,0.8888888888888888,0.8888888888888888,0.8703703703703703,0.8703703703703703,0.8703703703703703,0.8703703703703703,0.8703703703703703,0.8518518518518519,0.8333333333333334,0.8148148148148148,0.7962962962962963,0.7777777777777778,0.7777777777777778,0.7777777777777778,0.7592592592592593,0.7407407407407407,0.7222222222222222,0.7037037037037037,0.6851851851851852,0.6666666666666666,0.6666666666666666,0.6481481481481481,0.6481481481481481,0.6481481481481481,0.6296296296296297,0.6111111111111112,0.5925925925925926,0.5925925925925926,0.5925925925925926,0.5740740740740741,0.5740740740740741,0.5555555555555556,0.5370370370370371,0.5185185185185185,0.5,0.5,0.5,0.48148148148148145,0.46296296296296297,0.4444444444444444,0.4444444444444444,0.42592592592592593,0.4074074074074074,0.4074074074074074,0.4074074074074074,0.3888888888888889,0.37037037037037035,0.35185185185185186,0.35185185185185186,0.3333333333333333,0.3333333333333333,0.3333333333333333,0.3148148148148148,0.2962962962962963,0.2777777777777778,0.25925925925925924,0.24074074074074073,0.2222222222222222,0.2037037037037037,0.18518518518518517,0.18518518518518517,0.16666666666666666,0.14814814814814814,0.14814814814814814,0.12962962962962962,0.1111111111111111,0.09259259259259259,0.07407407407407407,0.05555555555555555,0.05555555555555555,0.037037037037037035,0.037037037037037035,0.037037037037037035,0.018518518518518517,0.018518518518518517,0.0,0.0],\"y\":[0.35064935064935066,0.35294117647058826,0.35526315789473684,0.3576158940397351,0.36,0.3624161073825503,0.36486486486486486,0.3673469387755102,0.3698630136986301,0.3724137931034483,0.375,0.3776223776223776,0.38028169014084506,0.3829787234042553,0.38571428571428573,0.38848920863309355,0.391304347826087,0.39416058394160586,0.39705882352941174,0.4,0.40298507462686567,0.40601503759398494,0.4090909090909091,0.4122137404580153,0.4153846153846154,0.4186046511627907,0.421875,0.4251968503937008,0.42857142857142855,0.432,0.43548387096774194,0.43902439024390244,0.4426229508196721,0.4462809917355372,0.44166666666666665,0.4369747899159664,0.4406779661016949,0.4444444444444444,0.4482758620689655,0.45217391304347826,0.45614035087719296,0.46017699115044247,0.4642857142857143,0.46846846846846846,0.4636363636363636,0.46788990825688076,0.4722222222222222,0.4766355140186916,0.4811320754716981,0.4857142857142857,0.49038461538461536,0.4854368932038835,0.49019607843137253,0.49504950495049505,0.5,0.5050505050505051,0.5102040816326531,0.5154639175257731,0.5208333333333334,0.5263157894736842,0.5319148936170213,0.5376344086021505,0.5434782608695652,0.5494505494505495,0.5555555555555556,0.5617977528089888,0.5681818181818182,0.5747126436781609,0.5697674418604651,0.5764705882352941,0.5833333333333334,0.5903614457831325,0.5975609756097561,0.6049382716049383,0.6,0.6075949367088608,0.6153846153846154,0.6233766233766234,0.631578947368421,0.64,0.6351351351351351,0.6438356164383562,0.6527777777777778,0.6619718309859155,0.6714285714285714,0.6666666666666666,0.6617647058823529,0.6567164179104478,0.6515151515151515,0.6461538461538462,0.65625,0.6666666666666666,0.6612903225806451,0.6557377049180327,0.65,0.6440677966101694,0.6379310344827587,0.631578947368421,0.6428571428571429,0.6363636363636364,0.6481481481481481,0.660377358490566,0.6538461538461539,0.6470588235294118,0.64,0.6530612244897959,0.6666666666666666,0.6595744680851063,0.6739130434782609,0.6666666666666666,0.6590909090909091,0.6511627906976745,0.6428571428571429,0.6585365853658537,0.675,0.6666666666666666,0.6578947368421053,0.6486486486486487,0.6666666666666666,0.6571428571428571,0.6470588235294118,0.6666666666666666,0.6875,0.6774193548387096,0.6666666666666666,0.6551724137931034,0.6785714285714286,0.6666666666666666,0.6923076923076923,0.72,0.7083333333333334,0.6956521739130435,0.6818181818181818,0.6666666666666666,0.65,0.631578947368421,0.6111111111111112,0.5882352941176471,0.625,0.6,0.5714285714285714,0.6153846153846154,0.5833333333333334,0.5454545454545454,0.5,0.4444444444444444,0.375,0.42857142857142855,0.3333333333333333,0.4,0.5,0.3333333333333333,0.5,0.0,1.0],\"type\":\"scatter\"},{\"line\":{\"color\":\"red\"},\"mode\":\"lines\",\"name\":\"Support Vector Machine (AP = 0.68)\",\"x\":[1.0,1.0,1.0,1.0,1.0,1.0,1.0,1.0,1.0,1.0,1.0,1.0,1.0,0.9814814814814815,0.9814814814814815,0.9814814814814815,0.9814814814814815,0.9814814814814815,0.9814814814814815,0.9814814814814815,0.9814814814814815,0.9814814814814815,0.9814814814814815,0.9814814814814815,0.9814814814814815,0.9814814814814815,0.9814814814814815,0.9814814814814815,0.9814814814814815,0.9814814814814815,0.9814814814814815,0.9814814814814815,0.9814814814814815,0.9814814814814815,0.9814814814814815,0.9814814814814815,0.9814814814814815,0.9814814814814815,0.9814814814814815,0.9814814814814815,0.9814814814814815,0.9814814814814815,0.9629629629629629,0.9629629629629629,0.9629629629629629,0.9629629629629629,0.9629629629629629,0.9629629629629629,0.9629629629629629,0.9444444444444444,0.9444444444444444,0.9444444444444444,0.9444444444444444,0.9444444444444444,0.9444444444444444,0.9444444444444444,0.9444444444444444,0.9259259259259259,0.9259259259259259,0.9259259259259259,0.9259259259259259,0.9259259259259259,0.9259259259259259,0.9074074074074074,0.9074074074074074,0.9074074074074074,0.9074074074074074,0.9074074074074074,0.9074074074074074,0.9074074074074074,0.9074074074074074,0.8888888888888888,0.8888888888888888,0.8703703703703703,0.8703703703703703,0.8703703703703703,0.8703703703703703,0.8703703703703703,0.8518518518518519,0.8518518518518519,0.8518518518518519,0.8518518518518519,0.8518518518518519,0.8518518518518519,0.8333333333333334,0.8148148148148148,0.8148148148148148,0.8148148148148148,0.7962962962962963,0.7962962962962963,0.7962962962962963,0.7962962962962963,0.7962962962962963,0.7777777777777778,0.7592592592592593,0.7407407407407407,0.7222222222222222,0.7222222222222222,0.7222222222222222,0.7037037037037037,0.6851851851851852,0.6666666666666666,0.6481481481481481,0.6296296296296297,0.6111111111111112,0.5925925925925926,0.5740740740740741,0.5555555555555556,0.5555555555555556,0.5370370370370371,0.5185185185185185,0.5,0.48148148148148145,0.48148148148148145,0.46296296296296297,0.46296296296296297,0.4444444444444444,0.4444444444444444,0.42592592592592593,0.4074074074074074,0.3888888888888889,0.3888888888888889,0.3888888888888889,0.37037037037037035,0.35185185185185186,0.3333333333333333,0.3333333333333333,0.3333333333333333,0.3333333333333333,0.3333333333333333,0.3148148148148148,0.3148148148148148,0.2962962962962963,0.2777777777777778,0.25925925925925924,0.25925925925925924,0.25925925925925924,0.24074074074074073,0.2222222222222222,0.2037037037037037,0.18518518518518517,0.16666666666666666,0.14814814814814814,0.12962962962962962,0.12962962962962962,0.12962962962962962,0.1111111111111111,0.1111111111111111,0.09259259259259259,0.07407407407407407,0.05555555555555555,0.037037037037037035,0.037037037037037035,0.018518518518518517,0.0],\"y\":[0.35064935064935066,0.35294117647058826,0.35526315789473684,0.3576158940397351,0.36,0.3624161073825503,0.36486486486486486,0.3673469387755102,0.3698630136986301,0.3724137931034483,0.375,0.3776223776223776,0.38028169014084506,0.375886524822695,0.37857142857142856,0.381294964028777,0.38405797101449274,0.38686131386861317,0.3897058823529412,0.3925925925925926,0.39552238805970147,0.39849624060150374,0.4015151515151515,0.40458015267175573,0.4076923076923077,0.4108527131782946,0.4140625,0.41732283464566927,0.42063492063492064,0.424,0.4274193548387097,0.43089430894308944,0.4344262295081967,0.4380165289256198,0.44166666666666665,0.44537815126050423,0.4491525423728814,0.452991452991453,0.45689655172413796,0.4608695652173913,0.4649122807017544,0.4690265486725664,0.4642857142857143,0.46846846846846846,0.4727272727272727,0.47706422018348627,0.48148148148148145,0.48598130841121495,0.49056603773584906,0.4857142857142857,0.49038461538461536,0.49514563106796117,0.5,0.504950495049505,0.51,0.5151515151515151,0.5204081632653061,0.5154639175257731,0.5208333333333334,0.5263157894736842,0.5319148936170213,0.5376344086021505,0.5434782608695652,0.5384615384615384,0.5444444444444444,0.550561797752809,0.5568181818181818,0.5632183908045977,0.5697674418604651,0.5764705882352941,0.5833333333333334,0.5783132530120482,0.5853658536585366,0.5802469135802469,0.5875,0.5949367088607594,0.6025641025641025,0.6103896103896104,0.6052631578947368,0.6133333333333333,0.6216216216216216,0.6301369863013698,0.6388888888888888,0.647887323943662,0.6428571428571429,0.6376811594202898,0.6470588235294118,0.6567164179104478,0.6515151515151515,0.6615384615384615,0.671875,0.6825396825396826,0.6935483870967742,0.6885245901639344,0.6833333333333333,0.6779661016949152,0.6724137931034483,0.6842105263157895,0.6964285714285714,0.6909090909090909,0.6851851851851852,0.6792452830188679,0.6730769230769231,0.6666666666666666,0.66,0.6530612244897959,0.6458333333333334,0.6382978723404256,0.6521739130434783,0.6444444444444445,0.6363636363636364,0.627906976744186,0.6190476190476191,0.6341463414634146,0.625,0.6410256410256411,0.631578947368421,0.6486486486486487,0.6388888888888888,0.6285714285714286,0.6176470588235294,0.6363636363636364,0.65625,0.6451612903225806,0.6333333333333333,0.6206896551724138,0.6428571428571429,0.6666666666666666,0.6923076923076923,0.72,0.7083333333333334,0.7391304347826086,0.7272727272727273,0.7142857142857143,0.7,0.7368421052631579,0.7777777777777778,0.7647058823529411,0.75,0.7333333333333333,0.7142857142857143,0.6923076923076923,0.6666666666666666,0.6363636363636364,0.7,0.7777777777777778,0.75,0.8571428571428571,0.8333333333333334,0.8,0.75,0.6666666666666666,1.0,1.0,1.0],\"type\":\"scatter\"},{\"line\":{\"color\":\"yellow\"},\"mode\":\"lines\",\"name\":\"Gradient Boosting (AP = 0.65)\",\"x\":[1.0,1.0,1.0,1.0,1.0,1.0,1.0,1.0,1.0,1.0,1.0,1.0,1.0,1.0,1.0,1.0,1.0,1.0,1.0,1.0,1.0,1.0,1.0,1.0,1.0,1.0,1.0,1.0,1.0,1.0,1.0,1.0,0.9814814814814815,0.9814814814814815,0.9814814814814815,0.9814814814814815,0.9814814814814815,0.9814814814814815,0.9814814814814815,0.9814814814814815,0.9814814814814815,0.9814814814814815,0.9814814814814815,0.9814814814814815,0.9814814814814815,0.9629629629629629,0.9629629629629629,0.9629629629629629,0.9629629629629629,0.9629629629629629,0.9629629629629629,0.9444444444444444,0.9444444444444444,0.9444444444444444,0.9444444444444444,0.9444444444444444,0.9444444444444444,0.9444444444444444,0.9444444444444444,0.9444444444444444,0.9444444444444444,0.9259259259259259,0.9259259259259259,0.9259259259259259,0.9259259259259259,0.9074074074074074,0.8888888888888888,0.8888888888888888,0.8888888888888888,0.8888888888888888,0.8888888888888888,0.8888888888888888,0.8888888888888888,0.8888888888888888,0.8888888888888888,0.8888888888888888,0.8703703703703703,0.8703703703703703,0.8703703703703703,0.8703703703703703,0.8703703703703703,0.8703703703703703,0.8703703703703703,0.8518518518518519,0.8518518518518519,0.8518518518518519,0.8333333333333334,0.8148148148148148,0.7962962962962963,0.7962962962962963,0.7777777777777778,0.7777777777777778,0.7777777777777778,0.7777777777777778,0.7592592592592593,0.7407407407407407,0.7407407407407407,0.7222222222222222,0.7037037037037037,0.6851851851851852,0.6666666666666666,0.6666666666666666,0.6481481481481481,0.6296296296296297,0.6111111111111112,0.5925925925925926,0.5740740740740741,0.5555555555555556,0.5370370370370371,0.5370370370370371,0.5370370370370371,0.5185185185185185,0.5,0.48148148148148145,0.48148148148148145,0.46296296296296297,0.4444444444444444,0.42592592592592593,0.4074074074074074,0.4074074074074074,0.3888888888888889,0.3888888888888889,0.3888888888888889,0.37037037037037035,0.37037037037037035,0.35185185185185186,0.35185185185185186,0.3333333333333333,0.3333333333333333,0.3148148148148148,0.2962962962962963,0.2962962962962963,0.2962962962962963,0.2777777777777778,0.25925925925925924,0.24074074074074073,0.24074074074074073,0.2222222222222222,0.2037037037037037,0.18518518518518517,0.16666666666666666,0.16666666666666666,0.16666666666666666,0.14814814814814814,0.12962962962962962,0.1111111111111111,0.1111111111111111,0.09259259259259259,0.07407407407407407,0.05555555555555555,0.05555555555555555,0.037037037037037035,0.018518518518518517,0.0,0.0],\"y\":[0.35064935064935066,0.35294117647058826,0.35526315789473684,0.3576158940397351,0.36,0.3624161073825503,0.36486486486486486,0.3673469387755102,0.3698630136986301,0.3724137931034483,0.375,0.3776223776223776,0.38028169014084506,0.3829787234042553,0.38571428571428573,0.38848920863309355,0.391304347826087,0.39416058394160586,0.39705882352941174,0.4,0.40298507462686567,0.40601503759398494,0.4090909090909091,0.4122137404580153,0.4153846153846154,0.4186046511627907,0.421875,0.4251968503937008,0.42857142857142855,0.432,0.43548387096774194,0.43902439024390244,0.4344262295081967,0.4380165289256198,0.44166666666666665,0.44537815126050423,0.4491525423728814,0.452991452991453,0.45689655172413796,0.4608695652173913,0.4649122807017544,0.4690265486725664,0.4732142857142857,0.4774774774774775,0.4818181818181818,0.47706422018348627,0.48148148148148145,0.48598130841121495,0.49056603773584906,0.49523809523809526,0.5,0.49514563106796117,0.5,0.504950495049505,0.51,0.5151515151515151,0.5204081632653061,0.5257731958762887,0.53125,0.5368421052631579,0.5425531914893617,0.5376344086021505,0.5434782608695652,0.5494505494505495,0.5555555555555556,0.550561797752809,0.5454545454545454,0.5517241379310345,0.5581395348837209,0.5647058823529412,0.5714285714285714,0.5783132530120482,0.5853658536585366,0.5925925925925926,0.6,0.6075949367088608,0.6025641025641025,0.6103896103896104,0.618421052631579,0.6266666666666667,0.6351351351351351,0.6438356164383562,0.6527777777777778,0.647887323943662,0.6571428571428571,0.6666666666666666,0.6617647058823529,0.6567164179104478,0.6515151515151515,0.6615384615384615,0.65625,0.6666666666666666,0.6774193548387096,0.6885245901639344,0.6833333333333333,0.6779661016949152,0.6896551724137931,0.6842105263157895,0.6785714285714286,0.6727272727272727,0.6666666666666666,0.6792452830188679,0.6730769230769231,0.6666666666666666,0.66,0.6530612244897959,0.6458333333333334,0.6382978723404256,0.6304347826086957,0.6444444444444445,0.6590909090909091,0.6511627906976745,0.6428571428571429,0.6341463414634146,0.65,0.6410256410256411,0.631578947368421,0.6216216216216216,0.6111111111111112,0.6285714285714286,0.6176470588235294,0.6363636363636364,0.65625,0.6451612903225806,0.6666666666666666,0.6551724137931034,0.6785714285714286,0.6666666666666666,0.6923076923076923,0.68,0.6666666666666666,0.6956521739130435,0.7272727272727273,0.7142857142857143,0.7,0.6842105263157895,0.7222222222222222,0.7058823529411765,0.6875,0.6666666666666666,0.6428571428571429,0.6923076923076923,0.75,0.7272727272727273,0.7,0.6666666666666666,0.75,0.7142857142857143,0.6666666666666666,0.6,0.75,0.6666666666666666,0.5,0.0,1.0],\"type\":\"scatter\"},{\"line\":{\"color\":\"purple\"},\"mode\":\"lines\",\"name\":\"K Nearest Neighbors (AP = 0.67)\",\"x\":[1.0,1.0,0.9629629629629629,0.9074074074074074,0.8518518518518519,0.7962962962962963,0.7407407407407407,0.6296296296296297,0.48148148148148145,0.2777777777777778,0.24074074074074073,0.18518518518518517,0.1111111111111111,0.037037037037037035,0.0,null,null,null,null,null,null,null,null,null,null,null,null,null,null,null,null,null,null,null,null,null,null,null,null,null,null,null,null,null,null,null,null,null,null,null,null,null,null,null,null,null,null,null,null,null,null,null,null,null,null,null,null,null,null,null,null,null,null,null,null,null,null,null,null,null,null,null,null,null,null,null,null,null,null,null,null,null,null,null,null,null,null,null,null,null,null,null,null,null,null,null,null,null,null,null,null,null,null,null,null,null,null,null,null,null,null,null,null,null,null,null,null,null,null,null,null,null,null,null,null,null,null,null,null,null,null,null,null,null,null,null,null,null,null,null,null,null,null,null,null],\"y\":[0.35064935064935066,0.421875,0.49523809523809526,0.5268817204301075,0.5542168674698795,0.6056338028169014,0.6153846153846154,0.6538461538461539,0.6666666666666666,0.6,0.6842105263157895,0.8333333333333334,1.0,1.0,1.0,null,null,null,null,null,null,null,null,null,null,null,null,null,null,null,null,null,null,null,null,null,null,null,null,null,null,null,null,null,null,null,null,null,null,null,null,null,null,null,null,null,null,null,null,null,null,null,null,null,null,null,null,null,null,null,null,null,null,null,null,null,null,null,null,null,null,null,null,null,null,null,null,null,null,null,null,null,null,null,null,null,null,null,null,null,null,null,null,null,null,null,null,null,null,null,null,null,null,null,null,null,null,null,null,null,null,null,null,null,null,null,null,null,null,null,null,null,null,null,null,null,null,null,null,null,null,null,null,null,null,null,null,null,null,null,null,null,null,null,null],\"type\":\"scatter\"}],                        {\"template\":{\"data\":{\"barpolar\":[{\"marker\":{\"line\":{\"color\":\"rgb(17,17,17)\",\"width\":0.5},\"pattern\":{\"fillmode\":\"overlay\",\"size\":10,\"solidity\":0.2}},\"type\":\"barpolar\"}],\"bar\":[{\"error_x\":{\"color\":\"#f2f5fa\"},\"error_y\":{\"color\":\"#f2f5fa\"},\"marker\":{\"line\":{\"color\":\"rgb(17,17,17)\",\"width\":0.5},\"pattern\":{\"fillmode\":\"overlay\",\"size\":10,\"solidity\":0.2}},\"type\":\"bar\"}],\"carpet\":[{\"aaxis\":{\"endlinecolor\":\"#A2B1C6\",\"gridcolor\":\"#506784\",\"linecolor\":\"#506784\",\"minorgridcolor\":\"#506784\",\"startlinecolor\":\"#A2B1C6\"},\"baxis\":{\"endlinecolor\":\"#A2B1C6\",\"gridcolor\":\"#506784\",\"linecolor\":\"#506784\",\"minorgridcolor\":\"#506784\",\"startlinecolor\":\"#A2B1C6\"},\"type\":\"carpet\"}],\"choropleth\":[{\"colorbar\":{\"outlinewidth\":0,\"ticks\":\"\"},\"type\":\"choropleth\"}],\"contourcarpet\":[{\"colorbar\":{\"outlinewidth\":0,\"ticks\":\"\"},\"type\":\"contourcarpet\"}],\"contour\":[{\"colorbar\":{\"outlinewidth\":0,\"ticks\":\"\"},\"colorscale\":[[0.0,\"#0d0887\"],[0.1111111111111111,\"#46039f\"],[0.2222222222222222,\"#7201a8\"],[0.3333333333333333,\"#9c179e\"],[0.4444444444444444,\"#bd3786\"],[0.5555555555555556,\"#d8576b\"],[0.6666666666666666,\"#ed7953\"],[0.7777777777777778,\"#fb9f3a\"],[0.8888888888888888,\"#fdca26\"],[1.0,\"#f0f921\"]],\"type\":\"contour\"}],\"heatmapgl\":[{\"colorbar\":{\"outlinewidth\":0,\"ticks\":\"\"},\"colorscale\":[[0.0,\"#0d0887\"],[0.1111111111111111,\"#46039f\"],[0.2222222222222222,\"#7201a8\"],[0.3333333333333333,\"#9c179e\"],[0.4444444444444444,\"#bd3786\"],[0.5555555555555556,\"#d8576b\"],[0.6666666666666666,\"#ed7953\"],[0.7777777777777778,\"#fb9f3a\"],[0.8888888888888888,\"#fdca26\"],[1.0,\"#f0f921\"]],\"type\":\"heatmapgl\"}],\"heatmap\":[{\"colorbar\":{\"outlinewidth\":0,\"ticks\":\"\"},\"colorscale\":[[0.0,\"#0d0887\"],[0.1111111111111111,\"#46039f\"],[0.2222222222222222,\"#7201a8\"],[0.3333333333333333,\"#9c179e\"],[0.4444444444444444,\"#bd3786\"],[0.5555555555555556,\"#d8576b\"],[0.6666666666666666,\"#ed7953\"],[0.7777777777777778,\"#fb9f3a\"],[0.8888888888888888,\"#fdca26\"],[1.0,\"#f0f921\"]],\"type\":\"heatmap\"}],\"histogram2dcontour\":[{\"colorbar\":{\"outlinewidth\":0,\"ticks\":\"\"},\"colorscale\":[[0.0,\"#0d0887\"],[0.1111111111111111,\"#46039f\"],[0.2222222222222222,\"#7201a8\"],[0.3333333333333333,\"#9c179e\"],[0.4444444444444444,\"#bd3786\"],[0.5555555555555556,\"#d8576b\"],[0.6666666666666666,\"#ed7953\"],[0.7777777777777778,\"#fb9f3a\"],[0.8888888888888888,\"#fdca26\"],[1.0,\"#f0f921\"]],\"type\":\"histogram2dcontour\"}],\"histogram2d\":[{\"colorbar\":{\"outlinewidth\":0,\"ticks\":\"\"},\"colorscale\":[[0.0,\"#0d0887\"],[0.1111111111111111,\"#46039f\"],[0.2222222222222222,\"#7201a8\"],[0.3333333333333333,\"#9c179e\"],[0.4444444444444444,\"#bd3786\"],[0.5555555555555556,\"#d8576b\"],[0.6666666666666666,\"#ed7953\"],[0.7777777777777778,\"#fb9f3a\"],[0.8888888888888888,\"#fdca26\"],[1.0,\"#f0f921\"]],\"type\":\"histogram2d\"}],\"histogram\":[{\"marker\":{\"pattern\":{\"fillmode\":\"overlay\",\"size\":10,\"solidity\":0.2}},\"type\":\"histogram\"}],\"mesh3d\":[{\"colorbar\":{\"outlinewidth\":0,\"ticks\":\"\"},\"type\":\"mesh3d\"}],\"parcoords\":[{\"line\":{\"colorbar\":{\"outlinewidth\":0,\"ticks\":\"\"}},\"type\":\"parcoords\"}],\"pie\":[{\"automargin\":true,\"type\":\"pie\"}],\"scatter3d\":[{\"line\":{\"colorbar\":{\"outlinewidth\":0,\"ticks\":\"\"}},\"marker\":{\"colorbar\":{\"outlinewidth\":0,\"ticks\":\"\"}},\"type\":\"scatter3d\"}],\"scattercarpet\":[{\"marker\":{\"colorbar\":{\"outlinewidth\":0,\"ticks\":\"\"}},\"type\":\"scattercarpet\"}],\"scattergeo\":[{\"marker\":{\"colorbar\":{\"outlinewidth\":0,\"ticks\":\"\"}},\"type\":\"scattergeo\"}],\"scattergl\":[{\"marker\":{\"line\":{\"color\":\"#283442\"}},\"type\":\"scattergl\"}],\"scattermapbox\":[{\"marker\":{\"colorbar\":{\"outlinewidth\":0,\"ticks\":\"\"}},\"type\":\"scattermapbox\"}],\"scatterpolargl\":[{\"marker\":{\"colorbar\":{\"outlinewidth\":0,\"ticks\":\"\"}},\"type\":\"scatterpolargl\"}],\"scatterpolar\":[{\"marker\":{\"colorbar\":{\"outlinewidth\":0,\"ticks\":\"\"}},\"type\":\"scatterpolar\"}],\"scatter\":[{\"marker\":{\"line\":{\"color\":\"#283442\"}},\"type\":\"scatter\"}],\"scatterternary\":[{\"marker\":{\"colorbar\":{\"outlinewidth\":0,\"ticks\":\"\"}},\"type\":\"scatterternary\"}],\"surface\":[{\"colorbar\":{\"outlinewidth\":0,\"ticks\":\"\"},\"colorscale\":[[0.0,\"#0d0887\"],[0.1111111111111111,\"#46039f\"],[0.2222222222222222,\"#7201a8\"],[0.3333333333333333,\"#9c179e\"],[0.4444444444444444,\"#bd3786\"],[0.5555555555555556,\"#d8576b\"],[0.6666666666666666,\"#ed7953\"],[0.7777777777777778,\"#fb9f3a\"],[0.8888888888888888,\"#fdca26\"],[1.0,\"#f0f921\"]],\"type\":\"surface\"}],\"table\":[{\"cells\":{\"fill\":{\"color\":\"#506784\"},\"line\":{\"color\":\"rgb(17,17,17)\"}},\"header\":{\"fill\":{\"color\":\"#2a3f5f\"},\"line\":{\"color\":\"rgb(17,17,17)\"}},\"type\":\"table\"}]},\"layout\":{\"annotationdefaults\":{\"arrowcolor\":\"#f2f5fa\",\"arrowhead\":0,\"arrowwidth\":1},\"autotypenumbers\":\"strict\",\"coloraxis\":{\"colorbar\":{\"outlinewidth\":0,\"ticks\":\"\"}},\"colorscale\":{\"diverging\":[[0,\"#8e0152\"],[0.1,\"#c51b7d\"],[0.2,\"#de77ae\"],[0.3,\"#f1b6da\"],[0.4,\"#fde0ef\"],[0.5,\"#f7f7f7\"],[0.6,\"#e6f5d0\"],[0.7,\"#b8e186\"],[0.8,\"#7fbc41\"],[0.9,\"#4d9221\"],[1,\"#276419\"]],\"sequential\":[[0.0,\"#0d0887\"],[0.1111111111111111,\"#46039f\"],[0.2222222222222222,\"#7201a8\"],[0.3333333333333333,\"#9c179e\"],[0.4444444444444444,\"#bd3786\"],[0.5555555555555556,\"#d8576b\"],[0.6666666666666666,\"#ed7953\"],[0.7777777777777778,\"#fb9f3a\"],[0.8888888888888888,\"#fdca26\"],[1.0,\"#f0f921\"]],\"sequentialminus\":[[0.0,\"#0d0887\"],[0.1111111111111111,\"#46039f\"],[0.2222222222222222,\"#7201a8\"],[0.3333333333333333,\"#9c179e\"],[0.4444444444444444,\"#bd3786\"],[0.5555555555555556,\"#d8576b\"],[0.6666666666666666,\"#ed7953\"],[0.7777777777777778,\"#fb9f3a\"],[0.8888888888888888,\"#fdca26\"],[1.0,\"#f0f921\"]]},\"colorway\":[\"#636efa\",\"#EF553B\",\"#00cc96\",\"#ab63fa\",\"#FFA15A\",\"#19d3f3\",\"#FF6692\",\"#B6E880\",\"#FF97FF\",\"#FECB52\"],\"font\":{\"color\":\"#f2f5fa\"},\"geo\":{\"bgcolor\":\"rgb(17,17,17)\",\"lakecolor\":\"rgb(17,17,17)\",\"landcolor\":\"rgb(17,17,17)\",\"showlakes\":true,\"showland\":true,\"subunitcolor\":\"#506784\"},\"hoverlabel\":{\"align\":\"left\"},\"hovermode\":\"closest\",\"mapbox\":{\"style\":\"dark\"},\"paper_bgcolor\":\"rgb(17,17,17)\",\"plot_bgcolor\":\"rgb(17,17,17)\",\"polar\":{\"angularaxis\":{\"gridcolor\":\"#506784\",\"linecolor\":\"#506784\",\"ticks\":\"\"},\"bgcolor\":\"rgb(17,17,17)\",\"radialaxis\":{\"gridcolor\":\"#506784\",\"linecolor\":\"#506784\",\"ticks\":\"\"}},\"scene\":{\"xaxis\":{\"backgroundcolor\":\"rgb(17,17,17)\",\"gridcolor\":\"#506784\",\"gridwidth\":2,\"linecolor\":\"#506784\",\"showbackground\":true,\"ticks\":\"\",\"zerolinecolor\":\"#C8D4E3\"},\"yaxis\":{\"backgroundcolor\":\"rgb(17,17,17)\",\"gridcolor\":\"#506784\",\"gridwidth\":2,\"linecolor\":\"#506784\",\"showbackground\":true,\"ticks\":\"\",\"zerolinecolor\":\"#C8D4E3\"},\"zaxis\":{\"backgroundcolor\":\"rgb(17,17,17)\",\"gridcolor\":\"#506784\",\"gridwidth\":2,\"linecolor\":\"#506784\",\"showbackground\":true,\"ticks\":\"\",\"zerolinecolor\":\"#C8D4E3\"}},\"shapedefaults\":{\"line\":{\"color\":\"#f2f5fa\"}},\"sliderdefaults\":{\"bgcolor\":\"#C8D4E3\",\"bordercolor\":\"rgb(17,17,17)\",\"borderwidth\":1,\"tickwidth\":0},\"ternary\":{\"aaxis\":{\"gridcolor\":\"#506784\",\"linecolor\":\"#506784\",\"ticks\":\"\"},\"baxis\":{\"gridcolor\":\"#506784\",\"linecolor\":\"#506784\",\"ticks\":\"\"},\"bgcolor\":\"rgb(17,17,17)\",\"caxis\":{\"gridcolor\":\"#506784\",\"linecolor\":\"#506784\",\"ticks\":\"\"}},\"title\":{\"x\":0.05},\"updatemenudefaults\":{\"bgcolor\":\"#506784\",\"borderwidth\":0},\"xaxis\":{\"automargin\":true,\"gridcolor\":\"#283442\",\"linecolor\":\"#506784\",\"ticks\":\"\",\"title\":{\"standoff\":15},\"zerolinecolor\":\"#283442\",\"zerolinewidth\":2},\"yaxis\":{\"automargin\":true,\"gridcolor\":\"#283442\",\"linecolor\":\"#506784\",\"ticks\":\"\",\"title\":{\"standoff\":15},\"zerolinecolor\":\"#283442\",\"zerolinewidth\":2}}},\"xaxis\":{\"title\":{\"text\":\"Recall\"},\"constrain\":\"domain\"},\"yaxis\":{\"title\":{\"text\":\"Precision\"},\"constrain\":\"domain\"},\"title\":{\"text\":\"Precision Recall Curve\"},\"showlegend\":true,\"height\":300},                        {\"responsive\": true}                    ).then(function(){\n",
       "                            \n",
       "var gd = document.getElementById('5f32be0e-31ae-48dd-9f19-71cf2d2ec33a');\n",
       "var x = new MutationObserver(function (mutations, observer) {{\n",
       "        var display = window.getComputedStyle(gd).display;\n",
       "        if (!display || display === 'none') {{\n",
       "            console.log([gd, 'removed!']);\n",
       "            Plotly.purge(gd);\n",
       "            observer.disconnect();\n",
       "        }}\n",
       "}});\n",
       "\n",
       "// Listen for the removal of the full notebook cells\n",
       "var notebookContainer = gd.closest('#notebook-container');\n",
       "if (notebookContainer) {{\n",
       "    x.observe(notebookContainer, {childList: true});\n",
       "}}\n",
       "\n",
       "// Listen for the clearing of the current output cell\n",
       "var outputEl = gd.closest('.output');\n",
       "if (outputEl) {{\n",
       "    x.observe(outputEl, {childList: true});\n",
       "}}\n",
       "\n",
       "                        })                };                });            </script>        </div>"
      ]
     },
     "metadata": {},
     "output_type": "display_data"
    }
   ],
   "source": [
    "trace = go.Scatter(\n",
    "    x=pr_res_df.lr_recall, \n",
    "    y=pr_res_df.lr_precision, \n",
    "    mode='lines', \n",
    "    name=f'Logistic Regression (AP = {lr_ap:.2f})',\n",
    "    line=dict(color='blue')\n",
    ")\n",
    "\n",
    "trace2 = go.Scatter(\n",
    "    x=pr_res_df.tree_recall, \n",
    "    y=pr_res_df.tree_precision, \n",
    "    mode='lines', \n",
    "    name=f'Decision Tree (AP = {tree_ap:.2f})',\n",
    "    line=dict(color='green')\n",
    ")\n",
    "\n",
    "trace3 = go.Scatter(\n",
    "    x=pr_res_df.rf_recall, \n",
    "    y=pr_res_df.rf_precision, \n",
    "    mode='lines', \n",
    "    name=f'Random Forest (AP = {rf_ap:.2f})',\n",
    "    line=dict(color='orange')\n",
    ")\n",
    "\n",
    "trace4 = go.Scatter(\n",
    "    x=pr_res_df.svc_recall, \n",
    "    y=pr_res_df.svc_precision, \n",
    "    mode='lines', \n",
    "    name=f'Support Vector Machine (AP = {svc_ap:.2f})',\n",
    "    line=dict(color='red')\n",
    ")\n",
    "\n",
    "trace5 = go.Scatter(\n",
    "    x=pr_res_df.gbc_recall, \n",
    "    y=pr_res_df.gbc_precision, \n",
    "    mode='lines', \n",
    "    name=f'Gradient Boosting (AP = {gbc_ap:.2f})',\n",
    "    line=dict(color='yellow')\n",
    ")\n",
    "\n",
    "trace6 = go.Scatter(\n",
    "    x=pr_res_df.knn_recall, \n",
    "    y=pr_res_df.knn_precision, \n",
    "    mode='lines', \n",
    "    name=f'K Nearest Neighbors (AP = {knn_ap:.2f})',\n",
    "    line=dict(color='purple')\n",
    ")\n",
    "\n",
    "\n",
    "\n",
    "fig = go.Figure()\n",
    "\n",
    "fig.add_trace(trace)\n",
    "fig.add_trace(trace2)\n",
    "fig.add_trace(trace3)\n",
    "fig.add_trace(trace4)\n",
    "fig.add_trace(trace5)\n",
    "fig.add_trace(trace6)\n",
    "\n",
    "\n",
    "# Update the layout\n",
    "fig.update_layout(\n",
    "    title='Precision Recall Curve',\n",
    "    xaxis_title='Recall',\n",
    "    yaxis_title='Precision',\n",
    "    xaxis=dict(constrain='domain'),\n",
    "    yaxis=dict(constrain='domain'),\n",
    "    showlegend=True,\n",
    "    height=300\n",
    ")\n",
    "\n",
    "fig.update_layout(template='plotly_dark')\n",
    "\n",
    "# Show the figure\n",
    "fig.show()"
   ]
  },
  {
   "cell_type": "code",
   "execution_count": 652,
   "id": "bc0ac313-0d10-40a8-bc10-514c3b0f9ee4",
   "metadata": {},
   "outputs": [
    {
     "data": {
      "text/plain": [
       "Text(0.5, 1.0, 'Test Data')"
      ]
     },
     "execution_count": 652,
     "metadata": {},
     "output_type": "execute_result"
    },
    {
     "data": {
      "image/png": "[encoded data removed]",
      "text/plain": [
       "<Figure size 864x360 with 2 Axes>"
      ]
     },
     "metadata": {},
     "output_type": "display_data"
    }
   ],
   "source": [
    "from sklearn.metrics import confusion_matrix\n",
    "\n",
    "label = ['Non-diabetic', 'Diabetic']\n",
    "\n",
    "ypred_train = lr.predict(Xtrain_imputed_df)\n",
    "ypred_test = lr.predict(Xtest_imputed_df)\n",
    "\n",
    "cm_train = confusion_matrix(ytrain, ypred_train)\n",
    "cm_test = confusion_matrix(ytest, ypred_test)\n",
    "figure, axes = plt.subplots(1,2, figsize=(12,5))\n",
    "sns.heatmap(cm_train, annot=True, cmap='plasma', cbar=False, ax=axes[0], xticklabels=label, yticklabels=label, fmt='d')\n",
    "axes[0].set_title('Training Data')\n",
    "sns.heatmap(cm_test, annot=True, cmap='plasma', cbar=False, ax=axes[1], fmt='d')\n",
    "axes[1].set_title('Test Data')"
   ]
  }
 ],
 "metadata": {
  "kernelspec": {
   "display_name": "Python 3 (ipykernel)",
   "language": "python",
   "name": "python3"
  },
  "language_info": {
   "codemirror_mode": {
    "name": "ipython",
    "version": 3
   },
   "file_extension": ".py",
   "mimetype": "text/x-python",
   "name": "python",
   "nbconvert_exporter": "python",
   "pygments_lexer": "ipython3",
   "version": "3.9.12"
  }
 },
 "nbformat": 4,
 "nbformat_minor": 5
}
